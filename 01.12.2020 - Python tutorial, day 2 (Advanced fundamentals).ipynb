{
 "cells": [
  {
   "cell_type": "markdown",
   "metadata": {},
   "source": [
    "# Agenda\n",
    "\n",
    "- Data structures\n",
    " * `list` (recap)\n",
    " * `tuple`    \n",
    " * `dict`\n",
    " * `set`\n",
    " * generators\n",
    "- Comprehensions\n",
    " * `list` comprehensions\n",
    " * `dict` comprehensions \n",
    " * generator comprehensions\n",
    "- Functions\n",
    " * parameters, arguments and return types\n",
    " * named parameters\n",
    " * default parameters\n",
    " * higher order functions\n",
    " * [`raise` errors]"
   ]
  },
  {
   "cell_type": "markdown",
   "metadata": {},
   "source": [
    "# Data structures\n",
    "## Lists\n",
    "\n",
    "Lists hold an arbitrary number of values that can be of arbitrary, mixed types. You can appent things to a list, remove things from a list or create new lists, e.g. by slicing them."
   ]
  },
  {
   "cell_type": "code",
   "execution_count": 1,
   "metadata": {},
   "outputs": [],
   "source": [
    "# create by literal brackets [ ]\n",
    "\n",
    "numbers = [15, 25, 35, 45, 55, 65, 75, 85]"
   ]
  },
  {
   "cell_type": "code",
   "execution_count": 2,
   "metadata": {},
   "outputs": [],
   "source": [
    "# loop a list\n",
    "\n",
    "for n in numbers:\n",
    "    print(n)"
   ]
  },
  {
   "cell_type": "code",
   "execution_count": 3,
   "metadata": {},
   "outputs": [],
   "source": [
    "# test element membership\n",
    "\n",
    "35 in numbers"
   ]
  },
  {
   "cell_type": "code",
   "execution_count": 4,
   "metadata": {},
   "outputs": [],
   "source": [
    "# slice a list\n",
    "\n",
    "numbers[0:4:2]"
   ]
  },
  {
   "cell_type": "code",
   "execution_count": 5,
   "metadata": {},
   "outputs": [],
   "source": [
    "# call methods on a list\n",
    "\n",
    "numbers.append(95)\n",
    "numbers"
   ]
  },
  {
   "cell_type": "markdown",
   "metadata": {},
   "source": [
    "## Tuples\n",
    "\n",
    "Tuples are quite similar to lists as they\n",
    "- may contain mixed objects of any size\n",
    "- can be indexed\n",
    "- can be sliced\n",
    "- can be nested\n",
    "\n",
    "But there is a key difference: Tuples are **immutable**. Once created, they can never be updated or changed in any way. Because Python knows their dimensions up front, there is no need for dynamic resizing, making tuples faster to process.\n",
    "\n",
    "Tuples are great for storing data with a well-known, heterogeneous structure of fixed dimensions, whereas lists are great for storing homogeneous things of arbitrary length."
   ]
  },
  {
   "cell_type": "code",
   "execution_count": 6,
   "metadata": {},
   "outputs": [],
   "source": [
    "# create tuple by tuple literal parantheses ( )\n",
    "\n",
    "me = (\"Horst\", \"Schneider\", 34)\n",
    "me"
   ]
  },
  {
   "cell_type": "code",
   "execution_count": 7,
   "metadata": {},
   "outputs": [],
   "source": [
    "# if you create a one-dimensional tuple, you need a trailing comma!\n",
    "\n",
    "x = (1,)\n",
    "x"
   ]
  },
  {
   "cell_type": "code",
   "execution_count": 8,
   "metadata": {},
   "outputs": [],
   "source": [
    "# type is 'tuple'\n",
    "\n",
    "type(me)"
   ]
  },
  {
   "cell_type": "code",
   "execution_count": 9,
   "metadata": {},
   "outputs": [
    {
     "data": {
      "text/plain": [
       "34"
      ]
     },
     "execution_count": 9,
     "metadata": {},
     "output_type": "execute_result"
    }
   ],
   "source": [
    "# index \n",
    "\n",
    "me[2]"
   ]
  },
  {
   "cell_type": "code",
   "execution_count": 10,
   "metadata": {},
   "outputs": [
    {
     "data": {
      "text/plain": [
       "3"
      ]
     },
     "execution_count": 10,
     "metadata": {},
     "output_type": "execute_result"
    }
   ],
   "source": [
    "# length\n",
    "\n",
    "len(me)"
   ]
  },
  {
   "cell_type": "code",
   "execution_count": 11,
   "metadata": {},
   "outputs": [
    {
     "data": {
      "text/plain": [
       "True"
      ]
     },
     "execution_count": 11,
     "metadata": {},
     "output_type": "execute_result"
    }
   ],
   "source": [
    "# membership test\n",
    "\n",
    "\"Horst\" in me"
   ]
  },
  {
   "cell_type": "code",
   "execution_count": 12,
   "metadata": {},
   "outputs": [
    {
     "data": {
      "text/plain": [
       "('Horst', 'Schneider')"
      ]
     },
     "execution_count": 12,
     "metadata": {},
     "output_type": "execute_result"
    }
   ],
   "source": [
    "# slice - creates a new tuple\n",
    "\n",
    "me[0:2]"
   ]
  },
  {
   "cell_type": "code",
   "execution_count": 13,
   "metadata": {},
   "outputs": [
    {
     "data": {
      "text/plain": [
       "(34, 'Schneider', 'Horst')"
      ]
     },
     "execution_count": 13,
     "metadata": {},
     "output_type": "execute_result"
    }
   ],
   "source": [
    "# some Python fun\n",
    "\n",
    "me[::-1]"
   ]
  },
  {
   "cell_type": "code",
   "execution_count": 14,
   "metadata": {},
   "outputs": [
    {
     "name": "stdout",
     "output_type": "stream",
     "text": [
      "Horst\n",
      "Schneider\n",
      "34\n"
     ]
    }
   ],
   "source": [
    "# loop entries\n",
    "\n",
    "for fact in me:\n",
    "    print(fact)"
   ]
  },
  {
   "cell_type": "code",
   "execution_count": 15,
   "metadata": {},
   "outputs": [
    {
     "name": "stdout",
     "output_type": "stream",
     "text": [
      "Horst\n",
      "Schneider\n",
      "34\n"
     ]
    }
   ],
   "source": [
    "# unpacking\n",
    "\n",
    "first_name, surname, age = me\n",
    "\n",
    "print(first_name)\n",
    "print(surname)\n",
    "print(age)"
   ]
  },
  {
   "cell_type": "markdown",
   "metadata": {},
   "source": [
    "Unpacking also works for lists! But it's quite a dangerous operation as you can't know the dimensions of a list upfront. Due to the immutable, fixed-dimensions nature of tuples, unpacking is generally safer, although Python will not stop you from shooting yourself in the foot ;-)."
   ]
  },
  {
   "cell_type": "code",
   "execution_count": 16,
   "metadata": {},
   "outputs": [
    {
     "name": "stdout",
     "output_type": "stream",
     "text": [
      "Horst\n",
      "['Schneider', 34]\n"
     ]
    }
   ],
   "source": [
    "# partial unpacking, discard remainder\n",
    "\n",
    "first_name, *rest = me\n",
    "\n",
    "print(first_name)\n",
    "print(rest)  # it's a list!"
   ]
  },
  {
   "cell_type": "code",
   "execution_count": 17,
   "metadata": {},
   "outputs": [
    {
     "name": "stdout",
     "output_type": "stream",
     "text": [
      "34\n",
      "['Schneider', 34]\n"
     ]
    }
   ],
   "source": [
    "# ... the other way around\n",
    "\n",
    "*_, age = me\n",
    "\n",
    "print(age)\n",
    "print(rest)"
   ]
  },
  {
   "cell_type": "code",
   "execution_count": 18,
   "metadata": {},
   "outputs": [
    {
     "data": {
      "text/plain": [
       "(1, 3, -7)"
      ]
     },
     "execution_count": 18,
     "metadata": {},
     "output_type": "execute_result"
    }
   ],
   "source": [
    "# convert list to tuple\n",
    "\n",
    "vertex = [1, 3, -7]\n",
    "tuple(vertex)"
   ]
  },
  {
   "cell_type": "code",
   "execution_count": 19,
   "metadata": {},
   "outputs": [
    {
     "data": {
      "text/plain": [
       "['Horst', 'Schneider', 34]"
      ]
     },
     "execution_count": 19,
     "metadata": {},
     "output_type": "execute_result"
    }
   ],
   "source": [
    "# convert tuple to list\n",
    "\n",
    "list(me)"
   ]
  },
  {
   "cell_type": "code",
   "execution_count": 20,
   "metadata": {},
   "outputs": [
    {
     "data": {
      "text/plain": [
       "['__add__',\n",
       " '__class__',\n",
       " '__contains__',\n",
       " '__delattr__',\n",
       " '__dir__',\n",
       " '__doc__',\n",
       " '__eq__',\n",
       " '__format__',\n",
       " '__ge__',\n",
       " '__getattribute__',\n",
       " '__getitem__',\n",
       " '__getnewargs__',\n",
       " '__gt__',\n",
       " '__hash__',\n",
       " '__init__',\n",
       " '__init_subclass__',\n",
       " '__iter__',\n",
       " '__le__',\n",
       " '__len__',\n",
       " '__lt__',\n",
       " '__mul__',\n",
       " '__ne__',\n",
       " '__new__',\n",
       " '__reduce__',\n",
       " '__reduce_ex__',\n",
       " '__repr__',\n",
       " '__rmul__',\n",
       " '__setattr__',\n",
       " '__sizeof__',\n",
       " '__str__',\n",
       " '__subclasshook__',\n",
       " 'count',\n",
       " 'index']"
      ]
     },
     "execution_count": 20,
     "metadata": {},
     "output_type": "execute_result"
    }
   ],
   "source": [
    "# tuples offer no way to mutate them in any way!\n",
    "\n",
    "dir(tuple)"
   ]
  },
  {
   "cell_type": "code",
   "execution_count": 21,
   "metadata": {},
   "outputs": [
    {
     "data": {
      "text/plain": [
       "('Horst', 'Schneider', 34, 'Mannheim')"
      ]
     },
     "execution_count": 21,
     "metadata": {},
     "output_type": "execute_result"
    }
   ],
   "source": [
    "# __add__ allows you to combine tuples! (Note the comma)\n",
    "\n",
    "me + (\"Mannheim\",)"
   ]
  },
  {
   "cell_type": "code",
   "execution_count": 22,
   "metadata": {},
   "outputs": [
    {
     "data": {
      "text/plain": [
       "('Horst', 'Schneider', 34, 'Horst', 'Schneider', 34)"
      ]
     },
     "execution_count": 22,
     "metadata": {},
     "output_type": "execute_result"
    }
   ],
   "source": [
    "# __mul__ allows for this:\n",
    "\n",
    "me * 2"
   ]
  },
  {
   "cell_type": "code",
   "execution_count": 23,
   "metadata": {},
   "outputs": [
    {
     "data": {
      "text/plain": [
       "True"
      ]
     },
     "execution_count": 23,
     "metadata": {},
     "output_type": "execute_result"
    }
   ],
   "source": [
    "# tuples are orderable! Items are compared sequentially.\n",
    "\n",
    "x = (1, 2, 5)\n",
    "y = (2, 6, 8)\n",
    "\n",
    "x < y"
   ]
  },
  {
   "cell_type": "code",
   "execution_count": 24,
   "metadata": {},
   "outputs": [
    {
     "data": {
      "text/plain": [
       "True"
      ]
     },
     "execution_count": 24,
     "metadata": {},
     "output_type": "execute_result"
    }
   ],
   "source": [
    "# tuples can be compared\n",
    "\n",
    "a = (1, 2, 3)\n",
    "b = (1, 2, 3)\n",
    "\n",
    "a == b"
   ]
  },
  {
   "cell_type": "markdown",
   "metadata": {},
   "source": [
    "## Dictionaries\n",
    "\n",
    "Dictionaries store values assigned to a key. Values can be queried, updated or removed from a dicitionary."
   ]
  },
  {
   "cell_type": "code",
   "execution_count": 25,
   "metadata": {},
   "outputs": [
    {
     "data": {
      "text/plain": [
       "{'first_name': 'Horst',\n",
       " 'surname': 'Schneider',\n",
       " 'age': 34,\n",
       " 'languages': ['Javascript', 'Python', 'C#']}"
      ]
     },
     "execution_count": 25,
     "metadata": {},
     "output_type": "execute_result"
    }
   ],
   "source": [
    "# create a dict by dict literal braces { }\n",
    "# keys must be str, values can be of any type! \n",
    "\n",
    "horst = {\n",
    "    \"first_name\": \"Horst\",\n",
    "    \"surname\": \"Schneider\",\n",
    "    \"age\": 34,\n",
    "    \"languages\": [\"Javascript\", \"Python\", \"C#\"]\n",
    "}\n",
    "\n",
    "horst"
   ]
  },
  {
   "cell_type": "code",
   "execution_count": 26,
   "metadata": {},
   "outputs": [
    {
     "data": {
      "text/plain": [
       "dict"
      ]
     },
     "execution_count": 26,
     "metadata": {},
     "output_type": "execute_result"
    }
   ],
   "source": [
    "# type is 'dict'\n",
    "\n",
    "type(horst)"
   ]
  },
  {
   "cell_type": "code",
   "execution_count": 27,
   "metadata": {},
   "outputs": [
    {
     "data": {
      "text/plain": [
       "34"
      ]
     },
     "execution_count": 27,
     "metadata": {},
     "output_type": "execute_result"
    }
   ],
   "source": [
    "# query for a key\n",
    "\n",
    "horst[\"age\"]"
   ]
  },
  {
   "cell_type": "code",
   "execution_count": 28,
   "metadata": {
    "scrolled": true
   },
   "outputs": [
    {
     "name": "stdout",
     "output_type": "stream",
     "text": [
      "<class 'KeyError'> 'city'\n"
     ]
    }
   ],
   "source": [
    "# KeyError if key not found\n",
    "\n",
    "try:\n",
    "    horst[\"city\"]\n",
    "except KeyError as e:\n",
    "    print(type(e), e)"
   ]
  },
  {
   "cell_type": "code",
   "execution_count": 29,
   "metadata": {},
   "outputs": [
    {
     "data": {
      "text/plain": [
       "{'first_name': 'Horst',\n",
       " 'surname': 'Schneider',\n",
       " 'age': 34,\n",
       " 'languages': ['Javascript', 'Python', 'C#'],\n",
       " 'city': 'Mannheim'}"
      ]
     },
     "execution_count": 29,
     "metadata": {},
     "output_type": "execute_result"
    }
   ],
   "source": [
    "# set a new key\n",
    "\n",
    "horst[\"city\"] = \"Mannheim\"\n",
    "horst"
   ]
  },
  {
   "cell_type": "code",
   "execution_count": 30,
   "metadata": {},
   "outputs": [
    {
     "data": {
      "text/plain": [
       "{'first_name': 'Horst',\n",
       " 'surname': 'Schneider',\n",
       " 'age': 35,\n",
       " 'languages': ['Javascript', 'Python', 'C#'],\n",
       " 'city': 'Mannheim'}"
      ]
     },
     "execution_count": 30,
     "metadata": {},
     "output_type": "execute_result"
    }
   ],
   "source": [
    "# getting older :-(\n",
    "\n",
    "horst[\"age\"] = 35\n",
    "horst"
   ]
  },
  {
   "cell_type": "code",
   "execution_count": 31,
   "metadata": {
    "scrolled": true
   },
   "outputs": [
    {
     "data": {
      "text/plain": [
       "{'first_name': 'Horst',\n",
       " 'surname': 'Schneider',\n",
       " 'age': 35,\n",
       " 'languages': ['Javascript', 'Python', 'C#', 'Ruby'],\n",
       " 'city': 'Mannheim'}"
      ]
     },
     "execution_count": 31,
     "metadata": {},
     "output_type": "execute_result"
    }
   ],
   "source": [
    "# learning new stuff :-)\n",
    "\n",
    "horst[\"languages\"].append(\"Ruby\")\n",
    "horst"
   ]
  },
  {
   "cell_type": "code",
   "execution_count": 32,
   "metadata": {},
   "outputs": [
    {
     "data": {
      "text/plain": [
       "dict_keys(['first_name', 'surname', 'age', 'languages', 'city'])"
      ]
     },
     "execution_count": 32,
     "metadata": {},
     "output_type": "execute_result"
    }
   ],
   "source": [
    "# get all keys\n",
    "\n",
    "horst.keys()"
   ]
  },
  {
   "cell_type": "code",
   "execution_count": 33,
   "metadata": {},
   "outputs": [
    {
     "data": {
      "text/plain": [
       "dict_values(['Horst', 'Schneider', 35, ['Javascript', 'Python', 'C#', 'Ruby'], 'Mannheim'])"
      ]
     },
     "execution_count": 33,
     "metadata": {},
     "output_type": "execute_result"
    }
   ],
   "source": [
    "# get all values\n",
    "\n",
    "horst.values()"
   ]
  },
  {
   "cell_type": "code",
   "execution_count": 34,
   "metadata": {},
   "outputs": [
    {
     "data": {
      "text/plain": [
       "dict_items([('first_name', 'Horst'), ('surname', 'Schneider'), ('age', 35), ('languages', ['Javascript', 'Python', 'C#', 'Ruby']), ('city', 'Mannheim')])"
      ]
     },
     "execution_count": 34,
     "metadata": {},
     "output_type": "execute_result"
    }
   ],
   "source": [
    "# get both - it's tuples!\n",
    "\n",
    "horst.items()"
   ]
  },
  {
   "cell_type": "code",
   "execution_count": 35,
   "metadata": {},
   "outputs": [
    {
     "data": {
      "text/plain": [
       "True"
      ]
     },
     "execution_count": 35,
     "metadata": {},
     "output_type": "execute_result"
    }
   ],
   "source": [
    "# membership works - but for keys!\n",
    "\n",
    "\"age\" in horst"
   ]
  },
  {
   "cell_type": "code",
   "execution_count": 36,
   "metadata": {},
   "outputs": [
    {
     "data": {
      "text/plain": [
       "False"
      ]
     },
     "execution_count": 36,
     "metadata": {},
     "output_type": "execute_result"
    }
   ],
   "source": [
    "# ... but not for values\n",
    "\n",
    "35 in horst"
   ]
  },
  {
   "cell_type": "code",
   "execution_count": 37,
   "metadata": {},
   "outputs": [
    {
     "data": {
      "text/plain": [
       "True"
      ]
     },
     "execution_count": 37,
     "metadata": {},
     "output_type": "execute_result"
    }
   ],
   "source": [
    "# ... unless explicitily asked for!\n",
    "\n",
    "35 in horst.values()"
   ]
  },
  {
   "cell_type": "code",
   "execution_count": 38,
   "metadata": {},
   "outputs": [
    {
     "data": {
      "text/plain": [
       "5"
      ]
     },
     "execution_count": 38,
     "metadata": {},
     "output_type": "execute_result"
    }
   ],
   "source": [
    "# dicts have a length - keys and values are 1:1, so len() means both\n",
    "len(horst)"
   ]
  },
  {
   "cell_type": "code",
   "execution_count": 39,
   "metadata": {},
   "outputs": [
    {
     "name": "stdout",
     "output_type": "stream",
     "text": [
      "first_name\n",
      "surname\n",
      "age\n",
      "languages\n",
      "city\n"
     ]
    }
   ],
   "source": [
    "# loop keys\n",
    "\n",
    "for key in horst:\n",
    "    print(key)"
   ]
  },
  {
   "cell_type": "code",
   "execution_count": 40,
   "metadata": {},
   "outputs": [
    {
     "name": "stdout",
     "output_type": "stream",
     "text": [
      "'first_name': Horst\n",
      "'surname': Schneider\n",
      "'age': 35\n",
      "'languages': ['Javascript', 'Python', 'C#', 'Ruby']\n",
      "'city': Mannheim\n"
     ]
    }
   ],
   "source": [
    "# loop keys and values\n",
    "\n",
    "for key, value in horst.items():\n",
    "    print(f\"'{key}': {value}\")"
   ]
  },
  {
   "cell_type": "code",
   "execution_count": 41,
   "metadata": {},
   "outputs": [
    {
     "data": {
      "text/plain": [
       "['first_name', 'surname', 'age', 'languages', 'city']"
      ]
     },
     "execution_count": 41,
     "metadata": {},
     "output_type": "execute_result"
    }
   ],
   "source": [
    "# convert to list - returns the keys!\n",
    "\n",
    "list(horst)"
   ]
  },
  {
   "cell_type": "code",
   "execution_count": 42,
   "metadata": {},
   "outputs": [
    {
     "data": {
      "text/plain": [
       "['Horst', 'Schneider', 35, ['Javascript', 'Python', 'C#', 'Ruby'], 'Mannheim']"
      ]
     },
     "execution_count": 42,
     "metadata": {},
     "output_type": "execute_result"
    }
   ],
   "source": [
    "# convert to list - the values (will be nested)\n",
    "\n",
    "list(horst.values())"
   ]
  },
  {
   "cell_type": "code",
   "execution_count": 43,
   "metadata": {},
   "outputs": [
    {
     "data": {
      "text/plain": [
       "('first_name', 'surname', 'age', 'languages', 'city')"
      ]
     },
     "execution_count": 43,
     "metadata": {},
     "output_type": "execute_result"
    }
   ],
   "source": [
    "# can be converted to a tuple as well! (again, takes the keys by default)\n",
    "\n",
    "tuple(horst)"
   ]
  },
  {
   "cell_type": "code",
   "execution_count": 44,
   "metadata": {
    "scrolled": true
   },
   "outputs": [
    {
     "data": {
      "text/plain": [
       "(('first_name', 'Horst'),\n",
       " ('surname', 'Schneider'),\n",
       " ('age', 35),\n",
       " ('languages', ['Javascript', 'Python', 'C#', 'Ruby']),\n",
       " ('city', 'Mannheim'))"
      ]
     },
     "execution_count": 44,
     "metadata": {},
     "output_type": "execute_result"
    }
   ],
   "source": [
    "# Nested tuples - brain explodes\n",
    "\n",
    "tuple(horst.items())"
   ]
  },
  {
   "cell_type": "markdown",
   "metadata": {},
   "source": [
    "## Sets\n",
    "\n",
    "Sets store a set of distinct values."
   ]
  },
  {
   "cell_type": "code",
   "execution_count": 45,
   "metadata": {},
   "outputs": [
    {
     "data": {
      "text/plain": [
       "{1, 2, 3, 4, 5}"
      ]
     },
     "execution_count": 45,
     "metadata": {},
     "output_type": "execute_result"
    }
   ],
   "source": [
    "# create a dict by set literal braces { } \n",
    "# notice how duplicates are immediately removed\n",
    "# sets do not have an order!\n",
    "\n",
    "nums = { 1, 1, 2, 5, 5, 3, 4 }\n",
    "nums"
   ]
  },
  {
   "cell_type": "code",
   "execution_count": 46,
   "metadata": {},
   "outputs": [
    {
     "data": {
      "text/plain": [
       "set"
      ]
     },
     "execution_count": 46,
     "metadata": {},
     "output_type": "execute_result"
    }
   ],
   "source": [
    "# type is 'set'\n",
    "\n",
    "type(nums)"
   ]
  },
  {
   "cell_type": "code",
   "execution_count": 47,
   "metadata": {},
   "outputs": [
    {
     "data": {
      "text/plain": [
       "True"
      ]
     },
     "execution_count": 47,
     "metadata": {},
     "output_type": "execute_result"
    }
   ],
   "source": [
    "# membership test\n",
    "\n",
    "1 in nums"
   ]
  },
  {
   "cell_type": "code",
   "execution_count": 48,
   "metadata": {},
   "outputs": [
    {
     "data": {
      "text/plain": [
       "False"
      ]
     },
     "execution_count": 48,
     "metadata": {},
     "output_type": "execute_result"
    }
   ],
   "source": [
    "6 in nums"
   ]
  },
  {
   "cell_type": "code",
   "execution_count": 49,
   "metadata": {},
   "outputs": [
    {
     "data": {
      "text/plain": [
       "5"
      ]
     },
     "execution_count": 49,
     "metadata": {},
     "output_type": "execute_result"
    }
   ],
   "source": [
    "# len (more like \"size\")\n",
    "\n",
    "len(nums)"
   ]
  },
  {
   "cell_type": "code",
   "execution_count": 50,
   "metadata": {},
   "outputs": [
    {
     "name": "stdout",
     "output_type": "stream",
     "text": [
      "'set' object is not subscriptable\n"
     ]
    }
   ],
   "source": [
    "# no way to index a set, as it does not have any order\n",
    "\n",
    "try:\n",
    "    nums[0]\n",
    "except Exception as e:\n",
    "    print(e)"
   ]
  },
  {
   "cell_type": "code",
   "execution_count": 51,
   "metadata": {},
   "outputs": [
    {
     "data": {
      "text/plain": [
       "True"
      ]
     },
     "execution_count": 51,
     "metadata": {},
     "output_type": "execute_result"
    }
   ],
   "source": [
    "# compare sets\n",
    "\n",
    "{2, 1} == {1, 2}"
   ]
  },
  {
   "cell_type": "code",
   "execution_count": 52,
   "metadata": {},
   "outputs": [
    {
     "name": "stdout",
     "output_type": "stream",
     "text": [
      "1\n",
      "2\n",
      "3\n"
     ]
    }
   ],
   "source": [
    "# loop\n",
    "\n",
    "for v in a:\n",
    "    print(v)"
   ]
  },
  {
   "cell_type": "code",
   "execution_count": 53,
   "metadata": {},
   "outputs": [
    {
     "data": {
      "text/plain": [
       "{1, 2, 3, 4, 5, 6}"
      ]
     },
     "execution_count": 53,
     "metadata": {},
     "output_type": "execute_result"
    }
   ],
   "source": [
    "# add value to set\n",
    "\n",
    "nums.add(6)\n",
    "nums"
   ]
  },
  {
   "cell_type": "code",
   "execution_count": 54,
   "metadata": {},
   "outputs": [
    {
     "data": {
      "text/plain": [
       "{1, 2, 3, 4, 5, 6, 7, 8, 9}"
      ]
     },
     "execution_count": 54,
     "metadata": {},
     "output_type": "execute_result"
    }
   ],
   "source": [
    "# update set with multiple values\n",
    "\n",
    "nums.update((7, 8, 9))\n",
    "nums"
   ]
  },
  {
   "cell_type": "code",
   "execution_count": 55,
   "metadata": {},
   "outputs": [
    {
     "data": {
      "text/plain": [
       "{1, 2, 3, 4, 5, 7, 8, 9}"
      ]
     },
     "execution_count": 55,
     "metadata": {},
     "output_type": "execute_result"
    }
   ],
   "source": [
    "# remove a value - safe even if value not in set\n",
    "\n",
    "nums.discard(6)\n",
    "nums"
   ]
  },
  {
   "cell_type": "code",
   "execution_count": 56,
   "metadata": {},
   "outputs": [
    {
     "data": {
      "text/plain": [
       "{1, 2, 3, 4, 7, 8, 9}"
      ]
     },
     "execution_count": 56,
     "metadata": {},
     "output_type": "execute_result"
    }
   ],
   "source": [
    "# remove a value - error if value not in set\n",
    "\n",
    "nums.remove(5)\n",
    "nums"
   ]
  },
  {
   "cell_type": "code",
   "execution_count": 57,
   "metadata": {},
   "outputs": [],
   "source": [
    "# Fun Fact: No city in Germany is farther away from an Autobahn than Salzwedel (at least 65km)\n",
    "# https://www.salzwedel.de/de/tourismus/an-und-abreise.html\n",
    "\n",
    "has_nature = { \"wuppertal\", \"salzwedel\", \"freudenstadt\" }\n",
    "autobahn_nearby = { \"wuppertal\", \"ludwigshafen\", \"mannheim\" }"
   ]
  },
  {
   "cell_type": "code",
   "execution_count": 58,
   "metadata": {
    "scrolled": true
   },
   "outputs": [
    {
     "data": {
      "text/plain": [
       "{'freudenstadt', 'ludwigshafen', 'mannheim', 'salzwedel', 'wuppertal'}"
      ]
     },
     "execution_count": 58,
     "metadata": {},
     "output_type": "execute_result"
    }
   ],
   "source": [
    "# union (combine two sets)\n",
    "\n",
    "# All the cities that either have an Autobahn or nature nearby\n",
    "\n",
    "has_nature | autobahn_nearby"
   ]
  },
  {
   "cell_type": "code",
   "execution_count": 59,
   "metadata": {},
   "outputs": [
    {
     "data": {
      "text/plain": [
       "{'freudenstadt', 'ludwigshafen', 'mannheim', 'salzwedel', 'wuppertal'}"
      ]
     },
     "execution_count": 59,
     "metadata": {},
     "output_type": "execute_result"
    }
   ],
   "source": [
    "has_nature.union(autobahn_nearby)"
   ]
  },
  {
   "cell_type": "code",
   "execution_count": 60,
   "metadata": {},
   "outputs": [
    {
     "data": {
      "text/plain": [
       "{'wuppertal'}"
      ]
     },
     "execution_count": 60,
     "metadata": {},
     "output_type": "execute_result"
    }
   ],
   "source": [
    "# intersection (shared by a and b)\n",
    "\n",
    "# Cities that have Autobahn as well as nature nearby\n",
    "\n",
    "has_nature & autobahn_nearby"
   ]
  },
  {
   "cell_type": "code",
   "execution_count": 61,
   "metadata": {},
   "outputs": [
    {
     "data": {
      "text/plain": [
       "{'wuppertal'}"
      ]
     },
     "execution_count": 61,
     "metadata": {},
     "output_type": "execute_result"
    }
   ],
   "source": [
    "has_nature.intersection(autobahn_nearby)"
   ]
  },
  {
   "cell_type": "code",
   "execution_count": 62,
   "metadata": {},
   "outputs": [
    {
     "data": {
      "text/plain": [
       "{'ludwigshafen', 'mannheim'}"
      ]
     },
     "execution_count": 62,
     "metadata": {},
     "output_type": "execute_result"
    }
   ],
   "source": [
    "# difference (in a, but not in b)\n",
    "\n",
    "# I want to only have the Autobahn nearby, I don't care about nature\n",
    "\n",
    "autobahn_nearby - has_nature"
   ]
  },
  {
   "cell_type": "code",
   "execution_count": 63,
   "metadata": {},
   "outputs": [
    {
     "data": {
      "text/plain": [
       "{'ludwigshafen', 'mannheim'}"
      ]
     },
     "execution_count": 63,
     "metadata": {},
     "output_type": "execute_result"
    }
   ],
   "source": [
    "autobahn_nearby.difference(has_nature)"
   ]
  },
  {
   "cell_type": "code",
   "execution_count": 64,
   "metadata": {},
   "outputs": [
    {
     "data": {
      "text/plain": [
       "{'freudenstadt', 'ludwigshafen', 'mannheim', 'salzwedel'}"
      ]
     },
     "execution_count": 64,
     "metadata": {},
     "output_type": "execute_result"
    }
   ],
   "source": [
    "# complement / symmetric difference (exlusively in a or b, but not in both)\n",
    "\n",
    "# If you want to settle for either Autobahn or nature, but NOT BOTH, Wuppertal is not for you.\n",
    "\n",
    "autobahn_nearby ^ has_nature"
   ]
  },
  {
   "cell_type": "code",
   "execution_count": 65,
   "metadata": {},
   "outputs": [
    {
     "data": {
      "text/plain": [
       "{'freudenstadt', 'ludwigshafen', 'mannheim', 'salzwedel'}"
      ]
     },
     "execution_count": 65,
     "metadata": {},
     "output_type": "execute_result"
    }
   ],
   "source": [
    "autobahn_nearby.symmetric_difference(has_nature)"
   ]
  },
  {
   "cell_type": "code",
   "execution_count": 66,
   "metadata": {},
   "outputs": [
    {
     "data": {
      "text/plain": [
       "True"
      ]
     },
     "execution_count": 66,
     "metadata": {},
     "output_type": "execute_result"
    }
   ],
   "source": [
    "# Subsets\n",
    "\n",
    "# set { \"mannheim\" } is a subset of all cities with \"Autobahn nearby\"\n",
    "\n",
    "{ \"mannheim\" } < autobahn_nearby"
   ]
  },
  {
   "cell_type": "code",
   "execution_count": 67,
   "metadata": {},
   "outputs": [
    {
     "data": {
      "text/plain": [
       "True"
      ]
     },
     "execution_count": 67,
     "metadata": {},
     "output_type": "execute_result"
    }
   ],
   "source": [
    "# Supersets\n",
    "\n",
    "# Having an Autobahn seems to correlate with being an industrial town...\n",
    "\n",
    "has_huge_bridge = { \"mannheim\", \"wuppertal\", \"ludwigshafen\", \"nistertal\" }\n",
    "has_huge_bridge > autobahn_nearby"
   ]
  },
  {
   "cell_type": "code",
   "execution_count": 68,
   "metadata": {},
   "outputs": [
    {
     "data": {
      "text/plain": [
       "{1, 2}"
      ]
     },
     "execution_count": 68,
     "metadata": {},
     "output_type": "execute_result"
    }
   ],
   "source": [
    "# convert to set\n",
    "\n",
    "set([1, 2, 1, 2])"
   ]
  },
  {
   "cell_type": "code",
   "execution_count": 69,
   "metadata": {},
   "outputs": [
    {
     "data": {
      "text/plain": [
       "('freudenstadt', 'salzwedel', 'wuppertal')"
      ]
     },
     "execution_count": 69,
     "metadata": {},
     "output_type": "execute_result"
    }
   ],
   "source": [
    "# convert to tuple\n",
    "\n",
    "tuple(has_nature)"
   ]
  },
  {
   "cell_type": "code",
   "execution_count": 70,
   "metadata": {},
   "outputs": [
    {
     "data": {
      "text/plain": [
       "['mannheim', 'ludwigshafen', 'wuppertal']"
      ]
     },
     "execution_count": 70,
     "metadata": {},
     "output_type": "execute_result"
    }
   ],
   "source": [
    "# convert to list\n",
    "\n",
    "list(autobahn_nearby)"
   ]
  },
  {
   "cell_type": "code",
   "execution_count": 71,
   "metadata": {},
   "outputs": [
    {
     "data": {
      "text/plain": [
       "True"
      ]
     },
     "execution_count": 71,
     "metadata": {},
     "output_type": "execute_result"
    }
   ],
   "source": [
    "# use for duplicate checks checks\n",
    "\n",
    "len(set(\"horst\")) == len(\"horst\")"
   ]
  },
  {
   "cell_type": "code",
   "execution_count": 72,
   "metadata": {
    "scrolled": true
   },
   "outputs": [
    {
     "data": {
      "text/plain": [
       "False"
      ]
     },
     "execution_count": 72,
     "metadata": {},
     "output_type": "execute_result"
    }
   ],
   "source": [
    "len(set(\"tamas\")) == len(\"tamas\")"
   ]
  },
  {
   "cell_type": "markdown",
   "metadata": {},
   "source": [
    "## Generators\n",
    "\n",
    "Generators produce values \"on the fly\". No values are stored in memory upfront, only when you request them one by one."
   ]
  },
  {
   "cell_type": "code",
   "execution_count": 73,
   "metadata": {},
   "outputs": [
    {
     "data": {
      "text/plain": [
       "range(0, 3)"
      ]
     },
     "execution_count": 73,
     "metadata": {},
     "output_type": "execute_result"
    }
   ],
   "source": [
    "three = range(3)\n",
    "three"
   ]
  },
  {
   "cell_type": "code",
   "execution_count": 74,
   "metadata": {},
   "outputs": [
    {
     "data": {
      "text/plain": [
       "range"
      ]
     },
     "execution_count": 74,
     "metadata": {},
     "output_type": "execute_result"
    }
   ],
   "source": [
    "# Not a list, but a range!\n",
    "\n",
    "type(three)"
   ]
  },
  {
   "cell_type": "code",
   "execution_count": 75,
   "metadata": {},
   "outputs": [
    {
     "data": {
      "text/plain": [
       "[0, 1, 2]"
      ]
     },
     "execution_count": 75,
     "metadata": {},
     "output_type": "execute_result"
    }
   ],
   "source": [
    "# resolve to a list\n",
    "\n",
    "list(three)"
   ]
  },
  {
   "cell_type": "code",
   "execution_count": 76,
   "metadata": {},
   "outputs": [
    {
     "name": "stdout",
     "output_type": "stream",
     "text": [
      "0\n",
      "1\n",
      "2\n"
     ]
    }
   ],
   "source": [
    "# loop\n",
    "\n",
    "for number in three:\n",
    "    print(number)"
   ]
  },
  {
   "cell_type": "code",
   "execution_count": 77,
   "metadata": {},
   "outputs": [
    {
     "data": {
      "text/plain": [
       "<range_iterator at 0x7f0acc1c51b0>"
      ]
     },
     "execution_count": 77,
     "metadata": {},
     "output_type": "execute_result"
    }
   ],
   "source": [
    "# manually resolve\n",
    "\n",
    "iter(three)"
   ]
  },
  {
   "cell_type": "code",
   "execution_count": 78,
   "metadata": {},
   "outputs": [
    {
     "data": {
      "text/plain": [
       "0"
      ]
     },
     "execution_count": 78,
     "metadata": {},
     "output_type": "execute_result"
    }
   ],
   "source": [
    "# Create iterator. Iterators can only be consumed once!\n",
    "\n",
    "iterator = iter(three)\n",
    "next(iterator)"
   ]
  },
  {
   "cell_type": "code",
   "execution_count": 79,
   "metadata": {},
   "outputs": [
    {
     "data": {
      "text/plain": [
       "1"
      ]
     },
     "execution_count": 79,
     "metadata": {},
     "output_type": "execute_result"
    }
   ],
   "source": [
    "next(iterator)"
   ]
  },
  {
   "cell_type": "code",
   "execution_count": 80,
   "metadata": {},
   "outputs": [
    {
     "data": {
      "text/plain": [
       "2"
      ]
     },
     "execution_count": 80,
     "metadata": {},
     "output_type": "execute_result"
    }
   ],
   "source": [
    "next(iterator)"
   ]
  },
  {
   "cell_type": "code",
   "execution_count": 81,
   "metadata": {},
   "outputs": [
    {
     "name": "stdout",
     "output_type": "stream",
     "text": [
      "Done\n"
     ]
    }
   ],
   "source": [
    "try:\n",
    "    next(iterator)\n",
    "except StopIteration as e:\n",
    "    print(\"Done\")"
   ]
  },
  {
   "cell_type": "markdown",
   "metadata": {},
   "source": [
    "# Comprehensions"
   ]
  },
  {
   "cell_type": "markdown",
   "metadata": {},
   "source": [
    "## List comprehension\n",
    "\n",
    "Like SQL for lists. A mini language for value selection and projection."
   ]
  },
  {
   "cell_type": "code",
   "execution_count": 82,
   "metadata": {},
   "outputs": [
    {
     "data": {
      "text/plain": [
       "range(0, 10)"
      ]
     },
     "execution_count": 82,
     "metadata": {},
     "output_type": "execute_result"
    }
   ],
   "source": [
    "ten = range(10)\n",
    "ten"
   ]
  },
  {
   "cell_type": "code",
   "execution_count": 83,
   "metadata": {},
   "outputs": [
    {
     "data": {
      "text/plain": [
       "[0, 1, 2, 3, 4, 5, 6, 7, 8, 9]"
      ]
     },
     "execution_count": 83,
     "metadata": {},
     "output_type": "execute_result"
    }
   ],
   "source": [
    "list(range(10))"
   ]
  },
  {
   "cell_type": "code",
   "execution_count": 84,
   "metadata": {},
   "outputs": [
    {
     "data": {
      "text/plain": [
       "[0, 1, 2, 3, 4, 5, 6, 7, 8, 9]"
      ]
     },
     "execution_count": 84,
     "metadata": {},
     "output_type": "execute_result"
    }
   ],
   "source": [
    "# Brackets literal (mirrors list creation)\n",
    "\n",
    "[n for n in range(10)]"
   ]
  },
  {
   "cell_type": "code",
   "execution_count": 85,
   "metadata": {},
   "outputs": [
    {
     "data": {
      "text/plain": [
       "[6, 7, 8, 9]"
      ]
     },
     "execution_count": 85,
     "metadata": {},
     "output_type": "execute_result"
    }
   ],
   "source": [
    "# with selection (filter condition)\n",
    "\n",
    "[n for n in range(10) if n > 5]"
   ]
  },
  {
   "cell_type": "code",
   "execution_count": 86,
   "metadata": {},
   "outputs": [
    {
     "data": {
      "text/plain": [
       "[36, 49, 64, 81]"
      ]
     },
     "execution_count": 86,
     "metadata": {},
     "output_type": "execute_result"
    }
   ],
   "source": [
    "# with projection (transform source value to destination value)\n",
    "\n",
    "[n ** 2 for n in range(10) if n > 5]"
   ]
  },
  {
   "cell_type": "code",
   "execution_count": 87,
   "metadata": {},
   "outputs": [
    {
     "data": {
      "text/plain": [
       "[36, 49, 64, 81]"
      ]
     },
     "execution_count": 87,
     "metadata": {},
     "output_type": "execute_result"
    }
   ],
   "source": [
    "# with projection (transform source value to destination value)\n",
    "\n",
    "[num ** 2 for num in range(10) if num > 5]"
   ]
  },
  {
   "cell_type": "code",
   "execution_count": 88,
   "metadata": {},
   "outputs": [
    {
     "data": {
      "text/plain": [
       "[36, 49, 64, 81]"
      ]
     },
     "execution_count": 88,
     "metadata": {},
     "output_type": "execute_result"
    }
   ],
   "source": [
    "# Break complex statements into multiple lines\n",
    "\n",
    "[\n",
    "    num ** 2     # SELECT SQUARE(num) \n",
    "    for num \n",
    "    in range(10) # FROM range(10)\n",
    "    if num > 5   # WHERE num > 5\n",
    "]"
   ]
  },
  {
   "cell_type": "code",
   "execution_count": 89,
   "metadata": {},
   "outputs": [
    {
     "data": {
      "text/plain": [
       "['Mannheim: 320000', 'Wuppertal: 350000', 'Dresden: 550000', 'Nistertal: 1322']"
      ]
     },
     "execution_count": 89,
     "metadata": {},
     "output_type": "execute_result"
    }
   ],
   "source": [
    "# multiple values\n",
    "\n",
    "census = [\n",
    "    (\"Mannheim\", 320_000),\n",
    "    (\"Wuppertal\", 350_000),\n",
    "    (\"Dresden\", 550_000),\n",
    "    (\"Nistertal\", 1322)   \n",
    "]\n",
    "\n",
    "[\n",
    "    f\"{city}: {population}\" \n",
    "    for city, population \n",
    "    in census\n",
    "]"
   ]
  },
  {
   "cell_type": "code",
   "execution_count": 90,
   "metadata": {},
   "outputs": [
    {
     "data": {
      "text/plain": [
       "['Nistertal']"
      ]
     },
     "execution_count": 90,
     "metadata": {},
     "output_type": "execute_result"
    }
   ],
   "source": [
    "# filter down a list \n",
    "\n",
    "remote_villages = [\n",
    "    district \n",
    "    for district, population \n",
    "    in census \n",
    "    if population < 2500\n",
    "]\n",
    "\n",
    "remote_villages"
   ]
  },
  {
   "cell_type": "code",
   "execution_count": 91,
   "metadata": {
    "scrolled": true
   },
   "outputs": [
    {
     "data": {
      "text/plain": [
       "['Nistertal']"
      ]
     },
     "execution_count": 91,
     "metadata": {},
     "output_type": "execute_result"
    }
   ],
   "source": [
    "# no need to do this (note the implicit unpacking of tuples!)\n",
    "\n",
    "remote_villages = []\n",
    "\n",
    "for district, population in census:\n",
    "    if (population < 5000):\n",
    "        remote_villages.append(district)\n",
    "\n",
    "remote_villages"
   ]
  },
  {
   "cell_type": "markdown",
   "metadata": {},
   "source": [
    "## Dictionary comprehension\n",
    "\n",
    "Quite similar to list comprehensions, but you need to handle key and value!"
   ]
  },
  {
   "cell_type": "code",
   "execution_count": 92,
   "metadata": {},
   "outputs": [
    {
     "data": {
      "text/plain": [
       "[('Mannheim', 320000),\n",
       " ('Wuppertal', 350000),\n",
       " ('Dresden', 550000),\n",
       " ('Nistertal', 1322)]"
      ]
     },
     "execution_count": 92,
     "metadata": {},
     "output_type": "execute_result"
    }
   ],
   "source": [
    "census"
   ]
  },
  {
   "cell_type": "code",
   "execution_count": 93,
   "metadata": {},
   "outputs": [
    {
     "data": {
      "text/plain": [
       "{'Mannheim': 320000, 'Wuppertal': 350000, 'Dresden': 550000, 'Nistertal': 1322}"
      ]
     },
     "execution_count": 93,
     "metadata": {},
     "output_type": "execute_result"
    }
   ],
   "source": [
    "# Braces literal (mirrors dict creation)\n",
    "\n",
    "census_dict = {\n",
    "    city: population\n",
    "    for city, population\n",
    "    in census\n",
    "}\n",
    "\n",
    "census_dict"
   ]
  },
  {
   "cell_type": "code",
   "execution_count": 94,
   "metadata": {},
   "outputs": [
    {
     "data": {
      "text/plain": [
       "{'Wuppertal': 350000, 'Dresden': 550000}"
      ]
     },
     "execution_count": 94,
     "metadata": {},
     "output_type": "execute_result"
    }
   ],
   "source": [
    "# Filter\n",
    "\n",
    "hip_urban_megacities = {\n",
    "    city: population\n",
    "    for city, population\n",
    "    in census\n",
    "    if population >= 350_000\n",
    "}\n",
    "\n",
    "hip_urban_megacities"
   ]
  },
  {
   "cell_type": "code",
   "execution_count": 95,
   "metadata": {
    "scrolled": false
   },
   "outputs": [
    {
     "data": {
      "text/plain": [
       "{'wuppertal': 350, 'dresden': 550}"
      ]
     },
     "execution_count": 95,
     "metadata": {},
     "output_type": "execute_result"
    }
   ],
   "source": [
    "# Project key and value to new representation\n",
    "\n",
    "hip_urban_megacities = {\n",
    "    city.lower(): int(population / 1000)\n",
    "    for city, population\n",
    "    in census\n",
    "    if population >= 350_000\n",
    "}\n",
    "\n",
    "hip_urban_megacities"
   ]
  },
  {
   "cell_type": "markdown",
   "metadata": {},
   "source": [
    "## Generator comprehensions"
   ]
  },
  {
   "cell_type": "code",
   "execution_count": 96,
   "metadata": {},
   "outputs": [
    {
     "data": {
      "text/plain": [
       "<generator object <genexpr> at 0x7f0acc1b3900>"
      ]
     },
     "execution_count": 96,
     "metadata": {},
     "output_type": "execute_result"
    }
   ],
   "source": [
    "evens_generator = (\n",
    "    num\n",
    "    for num \n",
    "    in range(7) \n",
    "    if num % 2 == 0\n",
    ")\n",
    "\n",
    "evens_generator"
   ]
  },
  {
   "cell_type": "code",
   "execution_count": 97,
   "metadata": {},
   "outputs": [
    {
     "data": {
      "text/plain": [
       "[0, 2, 4, 6]"
      ]
     },
     "execution_count": 97,
     "metadata": {},
     "output_type": "execute_result"
    }
   ],
   "source": [
    "list(evens_generator)"
   ]
  },
  {
   "cell_type": "code",
   "execution_count": 98,
   "metadata": {},
   "outputs": [
    {
     "data": {
      "text/plain": [
       "[]"
      ]
     },
     "execution_count": 98,
     "metadata": {},
     "output_type": "execute_result"
    }
   ],
   "source": [
    "# generator instances can be only consumed once!\n",
    "\n",
    "list(evens_generator)"
   ]
  },
  {
   "cell_type": "code",
   "execution_count": 99,
   "metadata": {},
   "outputs": [
    {
     "data": {
      "text/plain": [
       "['MAN', 'WUP', 'NIS', 'DRE']"
      ]
     },
     "execution_count": 99,
     "metadata": {},
     "output_type": "execute_result"
    }
   ],
   "source": [
    "# can be chained! No intermediate lists stored in memory.\n",
    "\n",
    "cities = [\"mannheim\", \"wuppertal\", \"nistertal\", \"dresden\"]\n",
    "uppers = (city.upper() for city in cities)\n",
    "abbreviated = (city[:3] for city in uppers)\n",
    "\n",
    "list(abbreviated)"
   ]
  },
  {
   "cell_type": "code",
   "execution_count": 100,
   "metadata": {},
   "outputs": [
    {
     "data": {
      "text/plain": [
       "['MAN']"
      ]
     },
     "execution_count": 100,
     "metadata": {},
     "output_type": "execute_result"
    }
   ],
   "source": [
    "# Efficient if you only partially process things\n",
    "\n",
    "cities = [\"mannheim\", \"wuppertal\", \"nistertal\", \"dresden\"]\n",
    "uppers = (city.upper() for city in cities)\n",
    "abbreviated = (city[:3] for city in uppers)\n",
    "first = (next(abbreviated) for _ in range(1))\n",
    "\n",
    "list(first)"
   ]
  },
  {
   "cell_type": "markdown",
   "metadata": {},
   "source": [
    "# Functions\n",
    "\n",
    "Functions are parametrized chunks of code. They can be called with a set of arguments that parameters are being substituted for and may - or may not - yield a result. Many definitions of functions focus on the \"reusability\" of the code. What's way more important from a conceptual point of view is that functions are great for abstracting things and to introduce concepts into code, assigning a name to each concept (the function name)."
   ]
  },
  {
   "cell_type": "code",
   "execution_count": 101,
   "metadata": {},
   "outputs": [],
   "source": [
    "# A simple function definition\n",
    "\n",
    "def is_capitalized(word):\n",
    "    \"\"\"\n",
    "    Checks whether word is capitalized, \n",
    "    i.e. starts with an uppercase letter.\n",
    "    \"\"\"\n",
    "    initial = word[0]\n",
    "    \n",
    "    return initial == initial.upper()"
   ]
  },
  {
   "cell_type": "code",
   "execution_count": 102,
   "metadata": {},
   "outputs": [
    {
     "data": {
      "text/plain": [
       "True"
      ]
     },
     "execution_count": 102,
     "metadata": {},
     "output_type": "execute_result"
    }
   ],
   "source": [
    "# Call a function\n",
    "\n",
    "is_capitalized(\"Hallo\")"
   ]
  },
  {
   "cell_type": "code",
   "execution_count": 103,
   "metadata": {},
   "outputs": [
    {
     "data": {
      "text/plain": [
       "False"
      ]
     },
     "execution_count": 103,
     "metadata": {},
     "output_type": "execute_result"
    }
   ],
   "source": [
    "is_capitalized(\"hallo\")"
   ]
  },
  {
   "cell_type": "code",
   "execution_count": 104,
   "metadata": {},
   "outputs": [],
   "source": [
    "# A \"void\" function (not really, it returns the constant `None`)\n",
    "names = [\"horst\", \"tamas\"]\n",
    "\n",
    "def clear(a_list):\n",
    "    \"\"\"\n",
    "    Clears a list. Returns nothing!\n",
    "    \"\"\"\n",
    "    a_list.clear()\n",
    "    \n",
    "result = clear(names)"
   ]
  },
  {
   "cell_type": "code",
   "execution_count": 105,
   "metadata": {},
   "outputs": [
    {
     "data": {
      "text/plain": [
       "[]"
      ]
     },
     "execution_count": 105,
     "metadata": {},
     "output_type": "execute_result"
    }
   ],
   "source": [
    "names"
   ]
  },
  {
   "cell_type": "code",
   "execution_count": 106,
   "metadata": {},
   "outputs": [
    {
     "data": {
      "text/plain": [
       "NoneType"
      ]
     },
     "execution_count": 106,
     "metadata": {},
     "output_type": "execute_result"
    }
   ],
   "source": [
    "type(result)"
   ]
  },
  {
   "cell_type": "code",
   "execution_count": 107,
   "metadata": {},
   "outputs": [
    {
     "data": {
      "text/plain": [
       "True"
      ]
     },
     "execution_count": 107,
     "metadata": {},
     "output_type": "execute_result"
    }
   ],
   "source": [
    "result == None"
   ]
  },
  {
   "cell_type": "code",
   "execution_count": 108,
   "metadata": {},
   "outputs": [],
   "source": [
    "# More than one parameter\n",
    "\n",
    "def abbreviated(text, length):\n",
    "    return text[0:length] + \"...\""
   ]
  },
  {
   "cell_type": "code",
   "execution_count": 109,
   "metadata": {},
   "outputs": [
    {
     "data": {
      "text/plain": [
       "'Sphinx of ...'"
      ]
     },
     "execution_count": 109,
     "metadata": {},
     "output_type": "execute_result"
    }
   ],
   "source": [
    "# Call with two arguments\n",
    "\n",
    "abbreviated(\"Sphinx of black quartz, judge my vow!\", 10)"
   ]
  },
  {
   "cell_type": "code",
   "execution_count": 110,
   "metadata": {},
   "outputs": [
    {
     "data": {
      "text/plain": [
       "'Sphinx of ...'"
      ]
     },
     "execution_count": 110,
     "metadata": {},
     "output_type": "execute_result"
    }
   ],
   "source": [
    "# Positional and keyword argument\n",
    "\n",
    "abbreviated(\"Sphinx of black quartz, judge my vow!\", length=10)"
   ]
  },
  {
   "cell_type": "code",
   "execution_count": 111,
   "metadata": {},
   "outputs": [],
   "source": [
    "# This would fail with a syntax error - positional arguments come first, then come the keyword arguments\n",
    "# abbreviated(text=\"Sphinx of black quartz, judge my vow!\", 10)"
   ]
  },
  {
   "cell_type": "code",
   "execution_count": 112,
   "metadata": {},
   "outputs": [],
   "source": [
    "# All arguments must be provided - you'll get a TypeError otherwise\n",
    "\n",
    "# abbreviated(\"Sphinx of black quartz, judge my vow!\")"
   ]
  },
  {
   "cell_type": "code",
   "execution_count": 113,
   "metadata": {},
   "outputs": [],
   "source": [
    "# Default arguments\n",
    "\n",
    "def abbreviated(text, length=8):\n",
    "    return text[0:length] + \"...\""
   ]
  },
  {
   "cell_type": "code",
   "execution_count": 114,
   "metadata": {},
   "outputs": [
    {
     "data": {
      "text/plain": [
       "'Sphinx o...'"
      ]
     },
     "execution_count": 114,
     "metadata": {},
     "output_type": "execute_result"
    }
   ],
   "source": [
    "# Uses default argument length=10\n",
    "\n",
    "abbreviated(\"Sphinx of black quartz, judge my vow!\")"
   ]
  },
  {
   "cell_type": "code",
   "execution_count": 115,
   "metadata": {},
   "outputs": [
    {
     "data": {
      "text/plain": [
       "'Sphinx of black quar...'"
      ]
     },
     "execution_count": 115,
     "metadata": {},
     "output_type": "execute_result"
    }
   ],
   "source": [
    "# Override default argument by position\n",
    "\n",
    "abbreviated(\"Sphinx of black quartz, judge my vow!\", 20)"
   ]
  },
  {
   "cell_type": "code",
   "execution_count": 116,
   "metadata": {},
   "outputs": [
    {
     "data": {
      "text/plain": [
       "'Sphinx of black quar...'"
      ]
     },
     "execution_count": 116,
     "metadata": {},
     "output_type": "execute_result"
    }
   ],
   "source": [
    "# Override default argument by keyword\n",
    "\n",
    "abbreviated(\"Sphinx of black quartz, judge my vow!\", length=20)"
   ]
  },
  {
   "cell_type": "code",
   "execution_count": 117,
   "metadata": {},
   "outputs": [],
   "source": [
    "# Higher order functions - accept function as an argument\n",
    "\n",
    "def words(sentence, transform, separator=\" \"):\n",
    "    return [\n",
    "        transform(word) \n",
    "        for word \n",
    "        in sentence.split(separator)\n",
    "    ]"
   ]
  },
  {
   "cell_type": "code",
   "execution_count": 118,
   "metadata": {},
   "outputs": [],
   "source": [
    "def emojize(word):\n",
    "    replacements = {\n",
    "        \"dog\": \"🐶\",\n",
    "        \"fox\": \"🦊\"\n",
    "    }\n",
    "    \n",
    "    return replacements.get(word) or word"
   ]
  },
  {
   "cell_type": "code",
   "execution_count": 119,
   "metadata": {},
   "outputs": [
    {
     "data": {
      "text/plain": [
       "['the', 'quick', 'brown', '🦊', 'jumps', 'over', 'the', 'lazy', '🐶']"
      ]
     },
     "execution_count": 119,
     "metadata": {},
     "output_type": "execute_result"
    }
   ],
   "source": [
    "# Pass a function pointer\n",
    "\n",
    "sentence = \"the quick brown fox jumps over the lazy dog\"\n",
    "words(sentence, emojize)"
   ]
  },
  {
   "cell_type": "code",
   "execution_count": 120,
   "metadata": {},
   "outputs": [],
   "source": [
    "def parse(csv, skip_header, value_separator, line_separator=\"\\n\"):\n",
    "    rows = [row for row in csv.split(line_separator) if row]\n",
    "    \n",
    "    if skip_header:\n",
    "        rows = rows[1:]\n",
    "            \n",
    "    return [tuple(row.split(value_separator)) for row in rows]"
   ]
  },
  {
   "cell_type": "code",
   "execution_count": 121,
   "metadata": {},
   "outputs": [
    {
     "data": {
      "text/plain": [
       "[('horst', 'schneider', '34'), ('tamas', 'janusko', '26'), ('lars', '', '')]"
      ]
     },
     "execution_count": 121,
     "metadata": {},
     "output_type": "execute_result"
    }
   ],
   "source": [
    "csv = \"\"\"\n",
    "first_name,surname,age\n",
    "horst,schneider,34\n",
    "tamas,janusko,26\n",
    "lars,,\n",
    "\"\"\"\n",
    "\n",
    "parse(csv, skip_header=True, value_separator=\",\", line_separator=\"\\n\")"
   ]
  },
  {
   "cell_type": "code",
   "execution_count": 122,
   "metadata": {},
   "outputs": [],
   "source": [
    "# Return a function pointer\n",
    "\n",
    "def create_parser(skip_header, value_separator, line_separator):\n",
    "    \"\"\"\n",
    "    Wraps arguments and creates a new function with a closure to these arguments\n",
    "    \"\"\"\n",
    "    def parser(csv):\n",
    "        return parse(csv, skip_header, value_separator, line_separator)\n",
    "    \n",
    "    return parser"
   ]
  },
  {
   "cell_type": "code",
   "execution_count": 123,
   "metadata": {},
   "outputs": [
    {
     "data": {
      "text/plain": [
       "function"
      ]
     },
     "execution_count": 123,
     "metadata": {},
     "output_type": "execute_result"
    }
   ],
   "source": [
    "# the result of create_parser() is a function!\n",
    "custom_parser = create_parser(False, \";\", \"\\n\")\n",
    "type(custom_parser)"
   ]
  },
  {
   "cell_type": "code",
   "execution_count": 124,
   "metadata": {},
   "outputs": [
    {
     "data": {
      "text/plain": [
       "[('first_name', 'surname', 'age'),\n",
       " ('horst', 'schneider', '34'),\n",
       " ('tamas', 'janusko', '26'),\n",
       " ('lars', '', '')]"
      ]
     },
     "execution_count": 124,
     "metadata": {},
     "output_type": "execute_result"
    }
   ],
   "source": [
    "# you can now invoke the parser; the whole parse specification is abstracted\n",
    "\n",
    "csv = \"\"\"\n",
    "first_name;surname;age\n",
    "horst;schneider;34\n",
    "tamas;janusko;26\n",
    "lars;;\n",
    "\"\"\"\n",
    "\n",
    "custom_parser(csv)"
   ]
  }
 ],
 "metadata": {
  "kernelspec": {
   "display_name": "Python 3",
   "language": "python",
   "name": "python3"
  },
  "language_info": {
   "codemirror_mode": {
    "name": "ipython",
    "version": 3
   },
   "file_extension": ".py",
   "mimetype": "text/x-python",
   "name": "python",
   "nbconvert_exporter": "python",
   "pygments_lexer": "ipython3",
   "version": "3.8.6"
  }
 },
 "nbformat": 4,
 "nbformat_minor": 4
}
