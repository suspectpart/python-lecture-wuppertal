{
 "cells": [
  {
   "cell_type": "markdown",
   "metadata": {},
   "source": [
    "# Fundamentals - Day 1\n",
    "\n",
    "## Agenda\n",
    "\n",
    "- Introduce myself\n",
    "- About Python\n",
    "- Install & Run Python\n",
    "- Concise introductory example\n",
    "- Python's type system\n",
    "- Primitive types\n",
    "    - `str`\n",
    "    - `bool` and boolean algebra\n",
    "    - `int` and `float` \n",
    "- Collection types (`list`)\n",
    "- Control structures (conditional and loop)\n",
    "- Built-Ins\n",
    "- Modules, imports and the Standard Library\n",
    "\n",
    "\n",
    "## About Me\n",
    "\n",
    "- My name is Horst Schneider\n",
    "- I live in Mannheim / Germany with my family\n",
    "- I am currently working in Heidelberg as an IT consultant ([https://kumbier.it](https://kumbier.it))\n",
    "- I am going to work at Heidelberg University as a Python programmer for internal applications (should they ever decide to come up with a contract - Academia has its own pace, as y'all may know)\n",
    "- Experience with Python\n",
    " * Worked on several Projects related to Python for ~5 years\n",
    " * Author of [Python für Dummies](https://www.wiley-vch.de/de?option=com_eshop&view=product&isbn=978-3-527-71414-8) (available only in German)\n",
    " * Used Python in Academia and for answering data-related questions\n",
    " * No in-depth knowledge about statistics; fortunately, that part is gonna be handled by Tamas anyway :-)\n",
    "\n",
    "Feel free to contact me under [horst.schneider@posteo.de](mailto:horst.schneider@posteo.de) ([PGP Key](http://keys.gnupg.net/pks/lookup?op=get&search=0xF8DBBCB43BD5C3AC))\n",
    " \n",
    "\n",
    "## About Python\n",
    "\n",
    "- Let's look at what the Python creators think Python is - [https://www.python.org/about/](https://www.python.org/about/)\n",
    "- Python is powerful... and fast;\n",
    " * powerful, yes. Fast? It depends!\n",
    "- plays well with others\n",
    " * It does. It actually plays best with C!\n",
    "- runs everywhere;\n",
    " * sure thing\n",
    "- is friendly & easy to learn;\n",
    " * In my personal opinion, that is true\n",
    "- is Open. \n",
    " * open from its license\n",
    " * open, but opiniated community (\"These are some of the reasons people who use Python would rather not use anything else\")\n",
    " * open source (you can look at code)\n",
    " * community-maintained (you can change code)\n",
    "- why easy to learn?\n",
    " * lightweight syntax (no type annotations, no semicolon, indented blocks)\n",
    " * dynamic, flexible type system\n",
    " * interpreted language - no compilation upfront\n",
    " * simple programs without a single line of boilerplate code\n",
    " * one preferred way to do it (cf. Perl: There is more than one way to do it)\n",
    "- let's dive into it!\n",
    "\n",
    "## Install\n",
    "- I'll keep this short - Guess you can figure it out on your own\n",
    "- Notice: Python 2 is dead!\n",
    "- Download and install from [https://www.python.org/downloads/](https://www.python.org/downloads/)\n",
    " * installs the Python interpreter and all packages in the standard library\n",
    " * need to manually install Packages\n",
    "- Or download and install from [https://www.anaconda.com/products/individual](https://www.anaconda.com/products/individual)\n",
    " * May better suit your needs and abstracts some details\n",
    " * Comes with some data science stack (e.g. Jupyter Notebook) already installed\n",
    " * Combines Python and R\n",
    "- It may already be installed!\n",
    " * On Linux, Mac\n",
    " * Most probably not on Windows\n",
    " * `python --version` will tell\n",
    "\n",
    "## Many ways to run Python code\n",
    "- `print(\"Hello World\")`\n",
    " * ... on the REPL (What is a REPL?) (`> python`)\n",
    " * ... as a Script File (`> python script.py`)\n",
    " * ... as an ad-hoc command (`> python -c \"print('hello')\"`)\n",
    " * ... with Jupyter Notebook (`> jupyter notebook`)"
   ]
  },
  {
   "cell_type": "markdown",
   "metadata": {},
   "source": [
    "## Python Zen\n",
    "\n",
    "This is Python's core philosophy. People in the community take this seriously!\n",
    "\n",
    "You can display it by calling `import this`"
   ]
  },
  {
   "cell_type": "code",
   "execution_count": 1,
   "metadata": {},
   "outputs": [],
   "source": [
    "import this"
   ]
  },
  {
   "cell_type": "markdown",
   "metadata": {},
   "source": [
    "## Introductory Example\n",
    "\n",
    "This is a bit of code that checks for a Pangram. It gives an overview of syntacs and semantics of Python."
   ]
  },
  {
   "cell_type": "code",
   "execution_count": 2,
   "metadata": {},
   "outputs": [],
   "source": [
    "from string import ascii_lowercase\n",
    "\n",
    "def is_pangram(sentence):\n",
    "    \"\"\"\n",
    "    Check whether sentence is holoalphabetic, i.e. containing\n",
    "    every letter of the standard ASCII alphabet at least once.\n",
    "    \"\"\"\n",
    "\n",
    "    sentence = sentence.lower()\n",
    "    \n",
    "    contained = [\n",
    "        letter in sentence \n",
    "        for letter \n",
    "        in ascii_lowercase\n",
    "    ]\n",
    "    \n",
    "    if all(contained):\n",
    "        print(f\"💯 Pangram\")\n",
    "    else:\n",
    "        print(f\"💥 Not a pangram\")"
   ]
  },
  {
   "cell_type": "markdown",
   "metadata": {},
   "source": [
    "Let's call that function"
   ]
  },
  {
   "cell_type": "code",
   "execution_count": 3,
   "metadata": {},
   "outputs": [
    {
     "name": "stdout",
     "output_type": "stream",
     "text": [
      "💯 Pangram\n",
      "💯 Pangram\n",
      "💥 Not a pangram\n"
     ]
    }
   ],
   "source": [
    "is_pangram(\"Sphinx of black quartz, judge my vow\")\n",
    "is_pangram(\"Victor jagt zwölf Boxkämpfer quer über den großen Sylter Deich\")\n",
    "is_pangram(\"This is not a pangram\")"
   ]
  },
  {
   "cell_type": "markdown",
   "metadata": {},
   "source": [
    "## Example contains\n",
    "\n",
    "- Imports\n",
    "- Function definition\n",
    "- Variables (Bind a name to an object)\n",
    "- A list comprehension (day 2!)\n",
    "- Constrol Structure (if / else; notice the missing braces!\n",
    "- I/O (print)"
   ]
  },
  {
   "cell_type": "markdown",
   "metadata": {},
   "source": [
    "# Pythons Type System\n",
    "- *Everything* is an object\n",
    "- *Every* object has a type (determine type with `type()`)\n",
    "- Objects offer methods\n",
    " * you can call methods on an object\n",
    " * magic methods with a two underscore prefix and suffix (like `__bool__`) are called by Python when using operators\n",
    "- Variables bind a name to an object instance\n",
    "- Variables can be rebound to an object of a different type\n",
    "- Variable names can contain a-z, A-Z, 0-9 and the underscore (`_`), but not start with 0-9\n",
    "- Some types get along with each others\n",
    "- Other types don't\n",
    "- Python is\n",
    " * strongly typed (every object is of a specific type)\n",
    " * dynamically typed (variables don't declare their type and can be bound to any object)\n",
    " * duck typed (Python tries to execute behavior on a Type without a static check)\n",
    " * slower compared to other languages (Garbage Collection, type chain)"
   ]
  },
  {
   "cell_type": "code",
   "execution_count": 4,
   "metadata": {},
   "outputs": [
    {
     "name": "stdout",
     "output_type": "stream",
     "text": [
      "<class 'int'>\n",
      "<class 'float'>\n",
      "<class 'str'>\n",
      "<class 'bool'>\n"
     ]
    }
   ],
   "source": [
    "v = 100\n",
    "\n",
    "print(type(v))\n",
    "\n",
    "v = 100.2\n",
    "\n",
    "print(type(v))\n",
    "\n",
    "v = \"100\"\n",
    "\n",
    "print(type(v))\n",
    "\n",
    "v = True\n",
    "\n",
    "print(type(v))"
   ]
  },
  {
   "cell_type": "code",
   "execution_count": 5,
   "metadata": {},
   "outputs": [
    {
     "name": "stdout",
     "output_type": "stream",
     "text": [
      "120.5\n",
      "<class 'float'>\n"
     ]
    }
   ],
   "source": [
    "print(100 + 20.5)\n",
    "print(type(100 + 20.5))"
   ]
  },
  {
   "cell_type": "markdown",
   "metadata": {},
   "source": [
    "Some types get along with each other"
   ]
  },
  {
   "cell_type": "code",
   "execution_count": 6,
   "metadata": {},
   "outputs": [
    {
     "data": {
      "text/plain": [
       "2"
      ]
     },
     "execution_count": 6,
     "metadata": {},
     "output_type": "execute_result"
    }
   ],
   "source": [
    "True + 1"
   ]
  },
  {
   "cell_type": "markdown",
   "metadata": {},
   "source": [
    "If types don't get along, Python will tell you."
   ]
  },
  {
   "cell_type": "code",
   "execution_count": 7,
   "metadata": {
    "scrolled": true
   },
   "outputs": [
    {
     "name": "stdout",
     "output_type": "stream",
     "text": [
      "unsupported operand type(s) for +: 'int' and 'str'\n"
     ]
    }
   ],
   "source": [
    "try:\n",
    "    100 + \"200\"\n",
    "except Exception as e:\n",
    "    print(e)"
   ]
  },
  {
   "cell_type": "markdown",
   "metadata": {},
   "source": [
    "## Strings"
   ]
  },
  {
   "cell_type": "markdown",
   "metadata": {},
   "source": [
    "Since everything's an object, you can invoke methods on anything!"
   ]
  },
  {
   "cell_type": "code",
   "execution_count": 8,
   "metadata": {},
   "outputs": [],
   "source": [
    "text = \"Sphinx of black quartz, judge my vow\""
   ]
  },
  {
   "cell_type": "code",
   "execution_count": 9,
   "metadata": {},
   "outputs": [
    {
     "data": {
      "text/plain": [
       "36"
      ]
     },
     "execution_count": 9,
     "metadata": {},
     "output_type": "execute_result"
    }
   ],
   "source": [
    "len(text)"
   ]
  },
  {
   "cell_type": "code",
   "execution_count": 10,
   "metadata": {},
   "outputs": [
    {
     "data": {
      "text/plain": [
       "True"
      ]
     },
     "execution_count": 10,
     "metadata": {},
     "output_type": "execute_result"
    }
   ],
   "source": [
    "\",\" in text"
   ]
  },
  {
   "cell_type": "code",
   "execution_count": 11,
   "metadata": {},
   "outputs": [
    {
     "data": {
      "text/plain": [
       "True"
      ]
     },
     "execution_count": 11,
     "metadata": {},
     "output_type": "execute_result"
    }
   ],
   "source": [
    "\"c\" > \"b\""
   ]
  },
  {
   "cell_type": "code",
   "execution_count": 12,
   "metadata": {},
   "outputs": [
    {
     "data": {
      "text/plain": [
       "False"
      ]
     },
     "execution_count": 12,
     "metadata": {},
     "output_type": "execute_result"
    }
   ],
   "source": [
    "\"d\" < \"a\""
   ]
  },
  {
   "cell_type": "code",
   "execution_count": 13,
   "metadata": {},
   "outputs": [
    {
     "data": {
      "text/plain": [
       "'ab'"
      ]
     },
     "execution_count": 13,
     "metadata": {},
     "output_type": "execute_result"
    }
   ],
   "source": [
    "\"a\" + \"b\""
   ]
  },
  {
   "cell_type": "code",
   "execution_count": 14,
   "metadata": {},
   "outputs": [
    {
     "data": {
      "text/plain": [
       "'sphinx of black quartz, judge my vow'"
      ]
     },
     "execution_count": 14,
     "metadata": {},
     "output_type": "execute_result"
    }
   ],
   "source": [
    "text.lower()"
   ]
  },
  {
   "cell_type": "code",
   "execution_count": 15,
   "metadata": {},
   "outputs": [
    {
     "data": {
      "text/plain": [
       "'SPHINX OF BLACK QUARTZ, JUDGE MY VOW'"
      ]
     },
     "execution_count": 15,
     "metadata": {},
     "output_type": "execute_result"
    }
   ],
   "source": [
    "text.upper()"
   ]
  },
  {
   "cell_type": "code",
   "execution_count": 16,
   "metadata": {},
   "outputs": [
    {
     "data": {
      "text/plain": [
       "'Sphinx of black quartz, judge my vow'"
      ]
     },
     "execution_count": 16,
     "metadata": {},
     "output_type": "execute_result"
    }
   ],
   "source": [
    "text.capitalize()"
   ]
  },
  {
   "cell_type": "code",
   "execution_count": 17,
   "metadata": {},
   "outputs": [
    {
     "data": {
      "text/plain": [
       "16"
      ]
     },
     "execution_count": 17,
     "metadata": {},
     "output_type": "execute_result"
    }
   ],
   "source": [
    "text.find(\"quartz\")"
   ]
  },
  {
   "cell_type": "code",
   "execution_count": 18,
   "metadata": {},
   "outputs": [
    {
     "data": {
      "text/plain": [
       "2"
      ]
     },
     "execution_count": 18,
     "metadata": {},
     "output_type": "execute_result"
    }
   ],
   "source": [
    "text.count(\"a\")"
   ]
  },
  {
   "cell_type": "markdown",
   "metadata": {},
   "source": [
    "Some things may not seem useful ;-)"
   ]
  },
  {
   "cell_type": "code",
   "execution_count": 19,
   "metadata": {},
   "outputs": [
    {
     "data": {
      "text/plain": [
       "'sPHINX OF BLACK QUARTZ, JUDGE MY VOW'"
      ]
     },
     "execution_count": 19,
     "metadata": {},
     "output_type": "execute_result"
    }
   ],
   "source": [
    "text.swapcase()"
   ]
  },
  {
   "cell_type": "markdown",
   "metadata": {},
   "source": [
    "You can list all methods / properties on an object. \n",
    "\n",
    "Methods that are pre- and suffixed with two underscores are so-called magic methods. They are called by Pythons runtime on demand, e.g. when using operators. That way, every type can customize the behavior of every Python operator, which is a very powerful aspect of the language."
   ]
  },
  {
   "cell_type": "code",
   "execution_count": 20,
   "metadata": {},
   "outputs": [
    {
     "data": {
      "text/plain": [
       "['__add__',\n",
       " '__class__',\n",
       " '__contains__',\n",
       " '__delattr__',\n",
       " '__dir__',\n",
       " '__doc__',\n",
       " '__eq__',\n",
       " '__format__',\n",
       " '__ge__',\n",
       " '__getattribute__',\n",
       " '__getitem__',\n",
       " '__getnewargs__',\n",
       " '__gt__',\n",
       " '__hash__',\n",
       " '__init__',\n",
       " '__init_subclass__',\n",
       " '__iter__',\n",
       " '__le__',\n",
       " '__len__',\n",
       " '__lt__',\n",
       " '__mod__',\n",
       " '__mul__',\n",
       " '__ne__',\n",
       " '__new__',\n",
       " '__reduce__',\n",
       " '__reduce_ex__',\n",
       " '__repr__',\n",
       " '__rmod__',\n",
       " '__rmul__',\n",
       " '__setattr__',\n",
       " '__sizeof__',\n",
       " '__str__',\n",
       " '__subclasshook__',\n",
       " 'capitalize',\n",
       " 'casefold',\n",
       " 'center',\n",
       " 'count',\n",
       " 'encode',\n",
       " 'endswith',\n",
       " 'expandtabs',\n",
       " 'find',\n",
       " 'format',\n",
       " 'format_map',\n",
       " 'index',\n",
       " 'isalnum',\n",
       " 'isalpha',\n",
       " 'isascii',\n",
       " 'isdecimal',\n",
       " 'isdigit',\n",
       " 'isidentifier',\n",
       " 'islower',\n",
       " 'isnumeric',\n",
       " 'isprintable',\n",
       " 'isspace',\n",
       " 'istitle',\n",
       " 'isupper',\n",
       " 'join',\n",
       " 'ljust',\n",
       " 'lower',\n",
       " 'lstrip',\n",
       " 'maketrans',\n",
       " 'partition',\n",
       " 'replace',\n",
       " 'rfind',\n",
       " 'rindex',\n",
       " 'rjust',\n",
       " 'rpartition',\n",
       " 'rsplit',\n",
       " 'rstrip',\n",
       " 'split',\n",
       " 'splitlines',\n",
       " 'startswith',\n",
       " 'strip',\n",
       " 'swapcase',\n",
       " 'title',\n",
       " 'translate',\n",
       " 'upper',\n",
       " 'zfill']"
      ]
     },
     "execution_count": 20,
     "metadata": {},
     "output_type": "execute_result"
    }
   ],
   "source": [
    "dir(text)"
   ]
  },
  {
   "cell_type": "code",
   "execution_count": 21,
   "metadata": {
    "scrolled": false
   },
   "outputs": [
    {
     "name": "stdout",
     "output_type": "stream",
     "text": [
      "Help on class str in module builtins:\n",
      "\n",
      "class str(object)\n",
      " |  str(object='') -> str\n",
      " |  str(bytes_or_buffer[, encoding[, errors]]) -> str\n",
      " |  \n",
      " |  Create a new string object from the given object. If encoding or\n",
      " |  errors is specified, then the object must expose a data buffer\n",
      " |  that will be decoded using the given encoding and error handler.\n",
      " |  Otherwise, returns the result of object.__str__() (if defined)\n",
      " |  or repr(object).\n",
      " |  encoding defaults to sys.getdefaultencoding().\n",
      " |  errors defaults to 'strict'.\n",
      " |  \n",
      " |  Methods defined here:\n",
      " |  \n",
      " |  __add__(self, value, /)\n",
      " |      Return self+value.\n",
      " |  \n",
      " |  __contains__(self, key, /)\n",
      " |      Return key in self.\n",
      " |  \n",
      " |  __eq__(self, value, /)\n",
      " |      Return self==value.\n",
      " |  \n",
      " |  __format__(self, format_spec, /)\n",
      " |      Return a formatted version of the string as described by format_spec.\n",
      " |  \n",
      " |  __ge__(self, value, /)\n",
      " |      Return self>=value.\n",
      " |  \n",
      " |  __getattribute__(self, name, /)\n",
      " |      Return getattr(self, name).\n",
      " |  \n",
      " |  __getitem__(self, key, /)\n",
      " |      Return self[key].\n",
      " |  \n",
      " |  __getnewargs__(...)\n",
      " |  \n",
      " |  __gt__(self, value, /)\n",
      " |      Return self>value.\n",
      " |  \n",
      " |  __hash__(self, /)\n",
      " |      Return hash(self).\n",
      " |  \n",
      " |  __iter__(self, /)\n",
      " |      Implement iter(self).\n",
      " |  \n",
      " |  __le__(self, value, /)\n",
      " |      Return self<=value.\n",
      " |  \n",
      " |  __len__(self, /)\n",
      " |      Return len(self).\n",
      " |  \n",
      " |  __lt__(self, value, /)\n",
      " |      Return self<value.\n",
      " |  \n",
      " |  __mod__(self, value, /)\n",
      " |      Return self%value.\n",
      " |  \n",
      " |  __mul__(self, value, /)\n",
      " |      Return self*value.\n",
      " |  \n",
      " |  __ne__(self, value, /)\n",
      " |      Return self!=value.\n",
      " |  \n",
      " |  __repr__(self, /)\n",
      " |      Return repr(self).\n",
      " |  \n",
      " |  __rmod__(self, value, /)\n",
      " |      Return value%self.\n",
      " |  \n",
      " |  __rmul__(self, value, /)\n",
      " |      Return value*self.\n",
      " |  \n",
      " |  __sizeof__(self, /)\n",
      " |      Return the size of the string in memory, in bytes.\n",
      " |  \n",
      " |  __str__(self, /)\n",
      " |      Return str(self).\n",
      " |  \n",
      " |  capitalize(self, /)\n",
      " |      Return a capitalized version of the string.\n",
      " |      \n",
      " |      More specifically, make the first character have upper case and the rest lower\n",
      " |      case.\n",
      " |  \n",
      " |  casefold(self, /)\n",
      " |      Return a version of the string suitable for caseless comparisons.\n",
      " |  \n",
      " |  center(self, width, fillchar=' ', /)\n",
      " |      Return a centered string of length width.\n",
      " |      \n",
      " |      Padding is done using the specified fill character (default is a space).\n",
      " |  \n",
      " |  count(...)\n",
      " |      S.count(sub[, start[, end]]) -> int\n",
      " |      \n",
      " |      Return the number of non-overlapping occurrences of substring sub in\n",
      " |      string S[start:end].  Optional arguments start and end are\n",
      " |      interpreted as in slice notation.\n",
      " |  \n",
      " |  encode(self, /, encoding='utf-8', errors='strict')\n",
      " |      Encode the string using the codec registered for encoding.\n",
      " |      \n",
      " |      encoding\n",
      " |        The encoding in which to encode the string.\n",
      " |      errors\n",
      " |        The error handling scheme to use for encoding errors.\n",
      " |        The default is 'strict' meaning that encoding errors raise a\n",
      " |        UnicodeEncodeError.  Other possible values are 'ignore', 'replace' and\n",
      " |        'xmlcharrefreplace' as well as any other name registered with\n",
      " |        codecs.register_error that can handle UnicodeEncodeErrors.\n",
      " |  \n",
      " |  endswith(...)\n",
      " |      S.endswith(suffix[, start[, end]]) -> bool\n",
      " |      \n",
      " |      Return True if S ends with the specified suffix, False otherwise.\n",
      " |      With optional start, test S beginning at that position.\n",
      " |      With optional end, stop comparing S at that position.\n",
      " |      suffix can also be a tuple of strings to try.\n",
      " |  \n",
      " |  expandtabs(self, /, tabsize=8)\n",
      " |      Return a copy where all tab characters are expanded using spaces.\n",
      " |      \n",
      " |      If tabsize is not given, a tab size of 8 characters is assumed.\n",
      " |  \n",
      " |  find(...)\n",
      " |      S.find(sub[, start[, end]]) -> int\n",
      " |      \n",
      " |      Return the lowest index in S where substring sub is found,\n",
      " |      such that sub is contained within S[start:end].  Optional\n",
      " |      arguments start and end are interpreted as in slice notation.\n",
      " |      \n",
      " |      Return -1 on failure.\n",
      " |  \n",
      " |  format(...)\n",
      " |      S.format(*args, **kwargs) -> str\n",
      " |      \n",
      " |      Return a formatted version of S, using substitutions from args and kwargs.\n",
      " |      The substitutions are identified by braces ('{' and '}').\n",
      " |  \n",
      " |  format_map(...)\n",
      " |      S.format_map(mapping) -> str\n",
      " |      \n",
      " |      Return a formatted version of S, using substitutions from mapping.\n",
      " |      The substitutions are identified by braces ('{' and '}').\n",
      " |  \n",
      " |  index(...)\n",
      " |      S.index(sub[, start[, end]]) -> int\n",
      " |      \n",
      " |      Return the lowest index in S where substring sub is found,\n",
      " |      such that sub is contained within S[start:end].  Optional\n",
      " |      arguments start and end are interpreted as in slice notation.\n",
      " |      \n",
      " |      Raises ValueError when the substring is not found.\n",
      " |  \n",
      " |  isalnum(self, /)\n",
      " |      Return True if the string is an alpha-numeric string, False otherwise.\n",
      " |      \n",
      " |      A string is alpha-numeric if all characters in the string are alpha-numeric and\n",
      " |      there is at least one character in the string.\n",
      " |  \n",
      " |  isalpha(self, /)\n",
      " |      Return True if the string is an alphabetic string, False otherwise.\n",
      " |      \n",
      " |      A string is alphabetic if all characters in the string are alphabetic and there\n",
      " |      is at least one character in the string.\n",
      " |  \n",
      " |  isascii(self, /)\n",
      " |      Return True if all characters in the string are ASCII, False otherwise.\n",
      " |      \n",
      " |      ASCII characters have code points in the range U+0000-U+007F.\n",
      " |      Empty string is ASCII too.\n",
      " |  \n",
      " |  isdecimal(self, /)\n",
      " |      Return True if the string is a decimal string, False otherwise.\n",
      " |      \n",
      " |      A string is a decimal string if all characters in the string are decimal and\n",
      " |      there is at least one character in the string.\n",
      " |  \n",
      " |  isdigit(self, /)\n",
      " |      Return True if the string is a digit string, False otherwise.\n",
      " |      \n",
      " |      A string is a digit string if all characters in the string are digits and there\n",
      " |      is at least one character in the string.\n",
      " |  \n",
      " |  isidentifier(self, /)\n",
      " |      Return True if the string is a valid Python identifier, False otherwise.\n",
      " |      \n",
      " |      Call keyword.iskeyword(s) to test whether string s is a reserved identifier,\n",
      " |      such as \"def\" or \"class\".\n",
      " |  \n",
      " |  islower(self, /)\n",
      " |      Return True if the string is a lowercase string, False otherwise.\n",
      " |      \n",
      " |      A string is lowercase if all cased characters in the string are lowercase and\n",
      " |      there is at least one cased character in the string.\n",
      " |  \n",
      " |  isnumeric(self, /)\n",
      " |      Return True if the string is a numeric string, False otherwise.\n",
      " |      \n",
      " |      A string is numeric if all characters in the string are numeric and there is at\n",
      " |      least one character in the string.\n",
      " |  \n",
      " |  isprintable(self, /)\n",
      " |      Return True if the string is printable, False otherwise.\n",
      " |      \n",
      " |      A string is printable if all of its characters are considered printable in\n",
      " |      repr() or if it is empty.\n",
      " |  \n",
      " |  isspace(self, /)\n",
      " |      Return True if the string is a whitespace string, False otherwise.\n",
      " |      \n",
      " |      A string is whitespace if all characters in the string are whitespace and there\n",
      " |      is at least one character in the string.\n",
      " |  \n",
      " |  istitle(self, /)\n",
      " |      Return True if the string is a title-cased string, False otherwise.\n",
      " |      \n",
      " |      In a title-cased string, upper- and title-case characters may only\n",
      " |      follow uncased characters and lowercase characters only cased ones.\n",
      " |  \n",
      " |  isupper(self, /)\n",
      " |      Return True if the string is an uppercase string, False otherwise.\n",
      " |      \n",
      " |      A string is uppercase if all cased characters in the string are uppercase and\n",
      " |      there is at least one cased character in the string.\n",
      " |  \n",
      " |  join(self, iterable, /)\n",
      " |      Concatenate any number of strings.\n",
      " |      \n",
      " |      The string whose method is called is inserted in between each given string.\n",
      " |      The result is returned as a new string.\n",
      " |      \n",
      " |      Example: '.'.join(['ab', 'pq', 'rs']) -> 'ab.pq.rs'\n",
      " |  \n",
      " |  ljust(self, width, fillchar=' ', /)\n",
      " |      Return a left-justified string of length width.\n",
      " |      \n",
      " |      Padding is done using the specified fill character (default is a space).\n",
      " |  \n",
      " |  lower(self, /)\n",
      " |      Return a copy of the string converted to lowercase.\n",
      " |  \n",
      " |  lstrip(self, chars=None, /)\n",
      " |      Return a copy of the string with leading whitespace removed.\n",
      " |      \n",
      " |      If chars is given and not None, remove characters in chars instead.\n",
      " |  \n",
      " |  partition(self, sep, /)\n",
      " |      Partition the string into three parts using the given separator.\n",
      " |      \n",
      " |      This will search for the separator in the string.  If the separator is found,\n",
      " |      returns a 3-tuple containing the part before the separator, the separator\n",
      " |      itself, and the part after it.\n",
      " |      \n",
      " |      If the separator is not found, returns a 3-tuple containing the original string\n",
      " |      and two empty strings.\n",
      " |  \n",
      " |  replace(self, old, new, count=-1, /)\n",
      " |      Return a copy with all occurrences of substring old replaced by new.\n",
      " |      \n",
      " |        count\n",
      " |          Maximum number of occurrences to replace.\n",
      " |          -1 (the default value) means replace all occurrences.\n",
      " |      \n",
      " |      If the optional argument count is given, only the first count occurrences are\n",
      " |      replaced.\n",
      " |  \n",
      " |  rfind(...)\n",
      " |      S.rfind(sub[, start[, end]]) -> int\n",
      " |      \n",
      " |      Return the highest index in S where substring sub is found,\n",
      " |      such that sub is contained within S[start:end].  Optional\n",
      " |      arguments start and end are interpreted as in slice notation.\n",
      " |      \n",
      " |      Return -1 on failure.\n",
      " |  \n",
      " |  rindex(...)\n",
      " |      S.rindex(sub[, start[, end]]) -> int\n",
      " |      \n",
      " |      Return the highest index in S where substring sub is found,\n",
      " |      such that sub is contained within S[start:end].  Optional\n",
      " |      arguments start and end are interpreted as in slice notation.\n",
      " |      \n",
      " |      Raises ValueError when the substring is not found.\n",
      " |  \n",
      " |  rjust(self, width, fillchar=' ', /)\n",
      " |      Return a right-justified string of length width.\n",
      " |      \n",
      " |      Padding is done using the specified fill character (default is a space).\n",
      " |  \n",
      " |  rpartition(self, sep, /)\n",
      " |      Partition the string into three parts using the given separator.\n",
      " |      \n",
      " |      This will search for the separator in the string, starting at the end. If\n",
      " |      the separator is found, returns a 3-tuple containing the part before the\n",
      " |      separator, the separator itself, and the part after it.\n",
      " |      \n",
      " |      If the separator is not found, returns a 3-tuple containing two empty strings\n",
      " |      and the original string.\n",
      " |  \n",
      " |  rsplit(self, /, sep=None, maxsplit=-1)\n",
      " |      Return a list of the words in the string, using sep as the delimiter string.\n",
      " |      \n",
      " |        sep\n",
      " |          The delimiter according which to split the string.\n",
      " |          None (the default value) means split according to any whitespace,\n",
      " |          and discard empty strings from the result.\n",
      " |        maxsplit\n",
      " |          Maximum number of splits to do.\n",
      " |          -1 (the default value) means no limit.\n",
      " |      \n",
      " |      Splits are done starting at the end of the string and working to the front.\n",
      " |  \n",
      " |  rstrip(self, chars=None, /)\n",
      " |      Return a copy of the string with trailing whitespace removed.\n",
      " |      \n",
      " |      If chars is given and not None, remove characters in chars instead.\n",
      " |  \n",
      " |  split(self, /, sep=None, maxsplit=-1)\n",
      " |      Return a list of the words in the string, using sep as the delimiter string.\n",
      " |      \n",
      " |      sep\n",
      " |        The delimiter according which to split the string.\n",
      " |        None (the default value) means split according to any whitespace,\n",
      " |        and discard empty strings from the result.\n",
      " |      maxsplit\n",
      " |        Maximum number of splits to do.\n",
      " |        -1 (the default value) means no limit.\n",
      " |  \n",
      " |  splitlines(self, /, keepends=False)\n",
      " |      Return a list of the lines in the string, breaking at line boundaries.\n",
      " |      \n",
      " |      Line breaks are not included in the resulting list unless keepends is given and\n",
      " |      true.\n",
      " |  \n",
      " |  startswith(...)\n",
      " |      S.startswith(prefix[, start[, end]]) -> bool\n",
      " |      \n",
      " |      Return True if S starts with the specified prefix, False otherwise.\n",
      " |      With optional start, test S beginning at that position.\n",
      " |      With optional end, stop comparing S at that position.\n",
      " |      prefix can also be a tuple of strings to try.\n",
      " |  \n",
      " |  strip(self, chars=None, /)\n",
      " |      Return a copy of the string with leading and trailing whitespace removed.\n",
      " |      \n",
      " |      If chars is given and not None, remove characters in chars instead.\n",
      " |  \n",
      " |  swapcase(self, /)\n",
      " |      Convert uppercase characters to lowercase and lowercase characters to uppercase.\n",
      " |  \n",
      " |  title(self, /)\n",
      " |      Return a version of the string where each word is titlecased.\n",
      " |      \n",
      " |      More specifically, words start with uppercased characters and all remaining\n",
      " |      cased characters have lower case.\n",
      " |  \n",
      " |  translate(self, table, /)\n",
      " |      Replace each character in the string using the given translation table.\n",
      " |      \n",
      " |        table\n",
      " |          Translation table, which must be a mapping of Unicode ordinals to\n",
      " |          Unicode ordinals, strings, or None.\n",
      " |      \n",
      " |      The table must implement lookup/indexing via __getitem__, for instance a\n",
      " |      dictionary or list.  If this operation raises LookupError, the character is\n",
      " |      left untouched.  Characters mapped to None are deleted.\n",
      " |  \n",
      " |  upper(self, /)\n",
      " |      Return a copy of the string converted to uppercase.\n",
      " |  \n",
      " |  zfill(self, width, /)\n",
      " |      Pad a numeric string with zeros on the left, to fill a field of the given width.\n",
      " |      \n",
      " |      The string is never truncated.\n",
      " |  \n",
      " |  ----------------------------------------------------------------------\n",
      " |  Static methods defined here:\n",
      " |  \n",
      " |  __new__(*args, **kwargs) from builtins.type\n",
      " |      Create and return a new object.  See help(type) for accurate signature.\n",
      " |  \n",
      " |  maketrans(...)\n",
      " |      Return a translation table usable for str.translate().\n",
      " |      \n",
      " |      If there is only one argument, it must be a dictionary mapping Unicode\n",
      " |      ordinals (integers) or characters to Unicode ordinals, strings or None.\n",
      " |      Character keys will be then converted to ordinals.\n",
      " |      If there are two arguments, they must be strings of equal length, and\n",
      " |      in the resulting dictionary, each character in x will be mapped to the\n",
      " |      character at the same position in y. If there is a third argument, it\n",
      " |      must be a string, whose characters will be mapped to None in the result.\n",
      "\n"
     ]
    }
   ],
   "source": [
    "help(str)"
   ]
  },
  {
   "cell_type": "code",
   "execution_count": 22,
   "metadata": {},
   "outputs": [
    {
     "name": "stdout",
     "output_type": "stream",
     "text": [
      "Help on method_descriptor:\n",
      "\n",
      "join(self, iterable, /)\n",
      "    Concatenate any number of strings.\n",
      "    \n",
      "    The string whose method is called is inserted in between each given string.\n",
      "    The result is returned as a new string.\n",
      "    \n",
      "    Example: '.'.join(['ab', 'pq', 'rs']) -> 'ab.pq.rs'\n",
      "\n"
     ]
    }
   ],
   "source": [
    "help(str.join)"
   ]
  },
  {
   "cell_type": "markdown",
   "metadata": {},
   "source": [
    "## Numbers\n",
    "\n",
    "Python tries to stay with an `int` but switches to float when needed."
   ]
  },
  {
   "cell_type": "code",
   "execution_count": 23,
   "metadata": {},
   "outputs": [],
   "source": [
    "n = 100"
   ]
  },
  {
   "cell_type": "code",
   "execution_count": 24,
   "metadata": {},
   "outputs": [
    {
     "data": {
      "text/plain": [
       "int"
      ]
     },
     "execution_count": 24,
     "metadata": {},
     "output_type": "execute_result"
    }
   ],
   "source": [
    "type(n)"
   ]
  },
  {
   "cell_type": "code",
   "execution_count": 25,
   "metadata": {},
   "outputs": [
    {
     "data": {
      "text/plain": [
       "101"
      ]
     },
     "execution_count": 25,
     "metadata": {},
     "output_type": "execute_result"
    }
   ],
   "source": [
    "n + 1"
   ]
  },
  {
   "cell_type": "code",
   "execution_count": 26,
   "metadata": {},
   "outputs": [
    {
     "data": {
      "text/plain": [
       "int"
      ]
     },
     "execution_count": 26,
     "metadata": {},
     "output_type": "execute_result"
    }
   ],
   "source": [
    "type(n + 1)"
   ]
  },
  {
   "cell_type": "code",
   "execution_count": 27,
   "metadata": {},
   "outputs": [
    {
     "data": {
      "text/plain": [
       "101.1"
      ]
     },
     "execution_count": 27,
     "metadata": {},
     "output_type": "execute_result"
    }
   ],
   "source": [
    "n + 1.1"
   ]
  },
  {
   "cell_type": "code",
   "execution_count": 28,
   "metadata": {},
   "outputs": [
    {
     "data": {
      "text/plain": [
       "10000"
      ]
     },
     "execution_count": 28,
     "metadata": {},
     "output_type": "execute_result"
    }
   ],
   "source": [
    "n ** 2"
   ]
  },
  {
   "cell_type": "markdown",
   "metadata": {},
   "source": [
    "Python doesn't do increment and decrement!"
   ]
  },
  {
   "cell_type": "code",
   "execution_count": 29,
   "metadata": {},
   "outputs": [],
   "source": [
    "# Error!\n",
    "# n++"
   ]
  },
  {
   "cell_type": "code",
   "execution_count": 30,
   "metadata": {},
   "outputs": [
    {
     "data": {
      "text/plain": [
       "101"
      ]
     },
     "execution_count": 30,
     "metadata": {},
     "output_type": "execute_result"
    }
   ],
   "source": [
    "n = n + 1\n",
    "n"
   ]
  },
  {
   "cell_type": "code",
   "execution_count": 31,
   "metadata": {},
   "outputs": [
    {
     "data": {
      "text/plain": [
       "102"
      ]
     },
     "execution_count": 31,
     "metadata": {},
     "output_type": "execute_result"
    }
   ],
   "source": [
    "n += 1\n",
    "n"
   ]
  },
  {
   "cell_type": "code",
   "execution_count": 32,
   "metadata": {},
   "outputs": [
    {
     "data": {
      "text/plain": [
       "float"
      ]
     },
     "execution_count": 32,
     "metadata": {},
     "output_type": "execute_result"
    }
   ],
   "source": [
    "type(n + 1.1)"
   ]
  },
  {
   "cell_type": "code",
   "execution_count": 33,
   "metadata": {},
   "outputs": [
    {
     "data": {
      "text/plain": [
       "True"
      ]
     },
     "execution_count": 33,
     "metadata": {},
     "output_type": "execute_result"
    }
   ],
   "source": [
    "100 < 100.2"
   ]
  },
  {
   "cell_type": "code",
   "execution_count": 34,
   "metadata": {},
   "outputs": [
    {
     "name": "stdout",
     "output_type": "stream",
     "text": [
      "division by zero\n"
     ]
    }
   ],
   "source": [
    "try:\n",
    "    100 / 0\n",
    "except ZeroDivisionError as e:\n",
    "    print(e)"
   ]
  },
  {
   "cell_type": "markdown",
   "metadata": {},
   "source": [
    "Floats are just an approximation! Use `decimal.Decimal` for a higher precision."
   ]
  },
  {
   "cell_type": "code",
   "execution_count": 35,
   "metadata": {},
   "outputs": [
    {
     "data": {
      "text/plain": [
       "0.30000000000000004"
      ]
     },
     "execution_count": 35,
     "metadata": {},
     "output_type": "execute_result"
    }
   ],
   "source": [
    "0.1 + 0.2"
   ]
  },
  {
   "cell_type": "markdown",
   "metadata": {},
   "source": [
    "Numbers can be created using different literals (hex, scientific, etc.)"
   ]
  },
  {
   "cell_type": "code",
   "execution_count": 36,
   "metadata": {},
   "outputs": [
    {
     "data": {
      "text/plain": [
       "1000000000.0"
      ]
     },
     "execution_count": 36,
     "metadata": {},
     "output_type": "execute_result"
    }
   ],
   "source": [
    "1e9"
   ]
  },
  {
   "cell_type": "code",
   "execution_count": 37,
   "metadata": {},
   "outputs": [
    {
     "data": {
      "text/plain": [
       "255"
      ]
     },
     "execution_count": 37,
     "metadata": {},
     "output_type": "execute_result"
    }
   ],
   "source": [
    "0xFF"
   ]
  },
  {
   "cell_type": "code",
   "execution_count": 38,
   "metadata": {},
   "outputs": [
    {
     "data": {
      "text/plain": [
       "255"
      ]
     },
     "execution_count": 38,
     "metadata": {},
     "output_type": "execute_result"
    }
   ],
   "source": [
    "0b11111111"
   ]
  },
  {
   "cell_type": "markdown",
   "metadata": {},
   "source": [
    "Never used octal in any real-world scenario"
   ]
  },
  {
   "cell_type": "code",
   "execution_count": 39,
   "metadata": {},
   "outputs": [
    {
     "data": {
      "text/plain": [
       "8"
      ]
     },
     "execution_count": 39,
     "metadata": {},
     "output_type": "execute_result"
    }
   ],
   "source": [
    "0o10"
   ]
  },
  {
   "cell_type": "markdown",
   "metadata": {},
   "source": [
    "Structure bigger numbers with separators"
   ]
  },
  {
   "cell_type": "code",
   "execution_count": 40,
   "metadata": {},
   "outputs": [
    {
     "data": {
      "text/plain": [
       "1000000000"
      ]
     },
     "execution_count": 40,
     "metadata": {},
     "output_type": "execute_result"
    }
   ],
   "source": [
    "1_000_000_000"
   ]
  },
  {
   "cell_type": "markdown",
   "metadata": {},
   "source": [
    "# Booleans"
   ]
  },
  {
   "cell_type": "markdown",
   "metadata": {},
   "source": [
    "Create booleans with constants `True` and `False`"
   ]
  },
  {
   "cell_type": "code",
   "execution_count": 41,
   "metadata": {},
   "outputs": [],
   "source": [
    "x = True\n",
    "y = False"
   ]
  },
  {
   "cell_type": "markdown",
   "metadata": {},
   "source": [
    "Boolean algebra in Python uses word operators (readability counts!)"
   ]
  },
  {
   "cell_type": "code",
   "execution_count": 42,
   "metadata": {},
   "outputs": [
    {
     "data": {
      "text/plain": [
       "False"
      ]
     },
     "execution_count": 42,
     "metadata": {},
     "output_type": "execute_result"
    }
   ],
   "source": [
    "x and y"
   ]
  },
  {
   "cell_type": "code",
   "execution_count": 43,
   "metadata": {},
   "outputs": [
    {
     "data": {
      "text/plain": [
       "True"
      ]
     },
     "execution_count": 43,
     "metadata": {},
     "output_type": "execute_result"
    }
   ],
   "source": [
    "x or y"
   ]
  },
  {
   "cell_type": "code",
   "execution_count": 44,
   "metadata": {},
   "outputs": [
    {
     "data": {
      "text/plain": [
       "False"
      ]
     },
     "execution_count": 44,
     "metadata": {},
     "output_type": "execute_result"
    }
   ],
   "source": [
    "not x"
   ]
  },
  {
   "cell_type": "code",
   "execution_count": 45,
   "metadata": {},
   "outputs": [
    {
     "data": {
      "text/plain": [
       "True"
      ]
     },
     "execution_count": 45,
     "metadata": {},
     "output_type": "execute_result"
    }
   ],
   "source": [
    "not y"
   ]
  },
  {
   "cell_type": "markdown",
   "metadata": {},
   "source": [
    "Truthy and Falsy values"
   ]
  },
  {
   "cell_type": "code",
   "execution_count": 46,
   "metadata": {},
   "outputs": [
    {
     "data": {
      "text/plain": [
       "True"
      ]
     },
     "execution_count": 46,
     "metadata": {},
     "output_type": "execute_result"
    }
   ],
   "source": [
    "\"hallo\" and True"
   ]
  },
  {
   "cell_type": "markdown",
   "metadata": {},
   "source": [
    "These values are considered truthy"
   ]
  },
  {
   "cell_type": "code",
   "execution_count": 47,
   "metadata": {},
   "outputs": [
    {
     "data": {
      "text/plain": [
       "False"
      ]
     },
     "execution_count": 47,
     "metadata": {},
     "output_type": "execute_result"
    }
   ],
   "source": [
    "[]\n",
    "\"\"\n",
    "0\n",
    "0.0\n",
    "None\n",
    "False"
   ]
  },
  {
   "cell_type": "markdown",
   "metadata": {},
   "source": [
    "... everything else is `falsy` (Python invokes `__bool__` under the hood, so you can customize the truthiness and falsiness for you objects!)"
   ]
  },
  {
   "cell_type": "code",
   "execution_count": 48,
   "metadata": {},
   "outputs": [
    {
     "data": {
      "text/plain": [
       "1.1"
      ]
     },
     "execution_count": 48,
     "metadata": {},
     "output_type": "execute_result"
    }
   ],
   "source": [
    "\"a\"\n",
    "1\n",
    "[1]\n",
    "1.1"
   ]
  },
  {
   "cell_type": "markdown",
   "metadata": {},
   "source": [
    "# Lists\n",
    "- we discussed the primitive types float, int, bool, str\n",
    "- `list` is a collection of things, not a \"primitive\"\n",
    "- lists can store heterogenous values (of different types)\n",
    "- dynamic size, internal array hidden from the user and grows or shrinks dynamically\n",
    "- slicing (start:stop:step)"
   ]
  },
  {
   "cell_type": "markdown",
   "metadata": {},
   "source": [
    "Create lists with the list literal `[ ]` (lists can be of mixed types!)"
   ]
  },
  {
   "cell_type": "code",
   "execution_count": 49,
   "metadata": {},
   "outputs": [],
   "source": [
    "things = [100, \"hello\", True]"
   ]
  },
  {
   "cell_type": "code",
   "execution_count": 50,
   "metadata": {},
   "outputs": [
    {
     "data": {
      "text/plain": [
       "list"
      ]
     },
     "execution_count": 50,
     "metadata": {},
     "output_type": "execute_result"
    }
   ],
   "source": [
    "type(things)"
   ]
  },
  {
   "cell_type": "markdown",
   "metadata": {},
   "source": [
    "How many items?"
   ]
  },
  {
   "cell_type": "code",
   "execution_count": 51,
   "metadata": {},
   "outputs": [
    {
     "data": {
      "text/plain": [
       "3"
      ]
     },
     "execution_count": 51,
     "metadata": {},
     "output_type": "execute_result"
    }
   ],
   "source": [
    "len(things)"
   ]
  },
  {
   "cell_type": "markdown",
   "metadata": {},
   "source": [
    "Contains element?"
   ]
  },
  {
   "cell_type": "code",
   "execution_count": 52,
   "metadata": {},
   "outputs": [
    {
     "data": {
      "text/plain": [
       "True"
      ]
     },
     "execution_count": 52,
     "metadata": {},
     "output_type": "execute_result"
    }
   ],
   "source": [
    "100 in things  # containment"
   ]
  },
  {
   "cell_type": "code",
   "execution_count": 53,
   "metadata": {},
   "outputs": [
    {
     "data": {
      "text/plain": [
       "False"
      ]
     },
     "execution_count": 53,
     "metadata": {},
     "output_type": "execute_result"
    }
   ],
   "source": [
    "200 in things"
   ]
  },
  {
   "cell_type": "markdown",
   "metadata": {},
   "source": [
    "Caution: In-Place!"
   ]
  },
  {
   "cell_type": "code",
   "execution_count": 54,
   "metadata": {},
   "outputs": [
    {
     "name": "stdout",
     "output_type": "stream",
     "text": [
      "[100, 'hello', True, 20]\n"
     ]
    }
   ],
   "source": [
    "things.append(20)\n",
    "\n",
    "print(things)"
   ]
  },
  {
   "cell_type": "markdown",
   "metadata": {},
   "source": [
    "Index starts at zero, as in any sane language"
   ]
  },
  {
   "cell_type": "code",
   "execution_count": 55,
   "metadata": {},
   "outputs": [
    {
     "data": {
      "text/plain": [
       "20"
      ]
     },
     "execution_count": 55,
     "metadata": {},
     "output_type": "execute_result"
    }
   ],
   "source": [
    "things[3]"
   ]
  },
  {
   "cell_type": "markdown",
   "metadata": {},
   "source": [
    "Slicing `[start:stop:step]` with `start` being inclusive, `stop` being exclusive"
   ]
  },
  {
   "cell_type": "code",
   "execution_count": 56,
   "metadata": {},
   "outputs": [
    {
     "data": {
      "text/plain": [
       "['hello', True]"
      ]
     },
     "execution_count": 56,
     "metadata": {},
     "output_type": "execute_result"
    }
   ],
   "source": [
    "things[1:3]"
   ]
  },
  {
   "cell_type": "code",
   "execution_count": 57,
   "metadata": {},
   "outputs": [
    {
     "name": "stdout",
     "output_type": "stream",
     "text": [
      "[100, 'hello', True, 20]\n",
      "[20, True, 'hello', 100]\n"
     ]
    }
   ],
   "source": [
    "print(things)\n",
    "print(things[::-1])"
   ]
  },
  {
   "cell_type": "code",
   "execution_count": 58,
   "metadata": {},
   "outputs": [
    {
     "name": "stdout",
     "output_type": "stream",
     "text": [
      "[100, 5, 2, 3, -10, 3000]\n",
      "[-10, 2, 3, 5, 100, 3000]\n",
      "[3000, 100, 5, 3, 2, -10]\n"
     ]
    }
   ],
   "source": [
    "numbers = [100, 5, 2, 3, -10, 3000]\n",
    "print(numbers)\n",
    "numbers.sort()\n",
    "print(numbers)\n",
    "numbers.reverse()\n",
    "print(numbers)"
   ]
  },
  {
   "cell_type": "markdown",
   "metadata": {},
   "source": [
    "## Control structures"
   ]
  },
  {
   "cell_type": "markdown",
   "metadata": {},
   "source": [
    "- Blocks by indentation (no braces)\n",
    "- No parantheses for conditions / control\n",
    "- Flexible boolean logic\n",
    "- Part of what makes Python easy and readable"
   ]
  },
  {
   "cell_type": "markdown",
   "metadata": {},
   "source": [
    "### Conditional (`if` ... `else`)"
   ]
  },
  {
   "cell_type": "code",
   "execution_count": 59,
   "metadata": {},
   "outputs": [
    {
     "name": "stdout",
     "output_type": "stream",
     "text": [
      "odd\n"
     ]
    }
   ],
   "source": [
    "number = 101\n",
    "\n",
    "if number % 2 == 0:\n",
    "    print(\"even\")\n",
    "else:\n",
    "    print(\"odd\")"
   ]
  },
  {
   "cell_type": "markdown",
   "metadata": {},
   "source": [
    "Teardown"
   ]
  },
  {
   "cell_type": "code",
   "execution_count": 60,
   "metadata": {},
   "outputs": [
    {
     "name": "stdout",
     "output_type": "stream",
     "text": [
      "<class 'bool'>\n",
      "odd\n"
     ]
    }
   ],
   "source": [
    "number = 101\n",
    "\n",
    "is_even = number % 2 == 0\n",
    "\n",
    "print(type(is_even))\n",
    "\n",
    "if is_even:\n",
    "    print(\"even\")\n",
    "else:\n",
    "    print(\"odd\")"
   ]
  },
  {
   "cell_type": "code",
   "execution_count": 61,
   "metadata": {},
   "outputs": [
    {
     "name": "stdout",
     "output_type": "stream",
     "text": [
      "<class 'int'>\n",
      "even\n"
     ]
    }
   ],
   "source": [
    "# Still works because Python has a concept of truthy and falsy!\n",
    "\n",
    "number = 101\n",
    "\n",
    "is_even = number % 2\n",
    "\n",
    "print(type(is_even))\n",
    "\n",
    "if is_even:\n",
    "    print(\"even\")  # whoops, introduced a bug\n",
    "else:\n",
    "    print(\"odd\")"
   ]
  },
  {
   "cell_type": "markdown",
   "metadata": {},
   "source": [
    "There is no switch / case in Python. You can use `elif` to mimic it (although that is not very *pythonic*)."
   ]
  },
  {
   "cell_type": "code",
   "execution_count": 62,
   "metadata": {},
   "outputs": [
    {
     "name": "stdout",
     "output_type": "stream",
     "text": [
      "↓\n"
     ]
    }
   ],
   "source": [
    "DIRECTION = \"down\"\n",
    "\n",
    "if DIRECTION == \"up\":\n",
    "    print(\"↑\")\n",
    "elif DIRECTION == \"down\":\n",
    "    print(\"↓\")\n",
    "elif DIRECTION == \"left\":\n",
    "    print(\"←\")\n",
    "else:\n",
    "    print(\"→\")"
   ]
  },
  {
   "cell_type": "code",
   "execution_count": 63,
   "metadata": {},
   "outputs": [
    {
     "name": "stdout",
     "output_type": "stream",
     "text": [
      "odd\n"
     ]
    }
   ],
   "source": [
    "number = 101\n",
    "\n",
    "if not number % 2:\n",
    "    print(\"even\")\n",
    "else:\n",
    "    print(\"odd\")"
   ]
  },
  {
   "cell_type": "markdown",
   "metadata": {},
   "source": [
    "### Loops (`for` ... `in`)"
   ]
  },
  {
   "cell_type": "markdown",
   "metadata": {},
   "source": [
    "Python wants you to not iterate with an explicit index, if possible"
   ]
  },
  {
   "cell_type": "code",
   "execution_count": 64,
   "metadata": {},
   "outputs": [
    {
     "name": "stdout",
     "output_type": "stream",
     "text": [
      "1\n",
      "4\n",
      "9\n",
      "16\n",
      "25\n",
      "36\n",
      "49\n",
      "64\n"
     ]
    }
   ],
   "source": [
    "numbers = [1, 2, 3, 4, 5, 6, 7, 8]\n",
    "\n",
    "for n in numbers:\n",
    "    print(n ** 2)"
   ]
  },
  {
   "cell_type": "markdown",
   "metadata": {},
   "source": [
    "... but you can"
   ]
  },
  {
   "cell_type": "code",
   "execution_count": 65,
   "metadata": {},
   "outputs": [
    {
     "name": "stdout",
     "output_type": "stream",
     "text": [
      "0:a\n",
      "1:b\n",
      "2:c\n",
      "3:d\n"
     ]
    }
   ],
   "source": [
    "things = [\"a\", \"b\", \"c\", \"d\"]\n",
    "\n",
    "for index, char in enumerate(things):\n",
    "    print(f\"{index}:{char}\")"
   ]
  },
  {
   "cell_type": "markdown",
   "metadata": {},
   "source": [
    "Strings are enumerable!"
   ]
  },
  {
   "cell_type": "code",
   "execution_count": 66,
   "metadata": {},
   "outputs": [
    {
     "name": "stdout",
     "output_type": "stream",
     "text": [
      "H\n",
      "a\n",
      "l\n",
      "l\n",
      "o\n",
      ",\n",
      " \n",
      "W\n",
      "e\n",
      "l\n",
      "t\n",
      "!\n"
     ]
    }
   ],
   "source": [
    "for char in \"Hallo, Welt!\":\n",
    "    print(char)"
   ]
  },
  {
   "cell_type": "markdown",
   "metadata": {},
   "source": [
    "### Putting it all together"
   ]
  },
  {
   "cell_type": "markdown",
   "metadata": {},
   "source": [
    "Block in a block: Just indent!"
   ]
  },
  {
   "cell_type": "code",
   "execution_count": 67,
   "metadata": {},
   "outputs": [
    {
     "name": "stdout",
     "output_type": "stream",
     "text": [
      "1 is odd\n",
      "2 is even\n",
      "3 is odd\n",
      "4 is even\n",
      "5 is odd\n",
      "6 is even\n",
      "7 is odd\n",
      "8 is even\n"
     ]
    }
   ],
   "source": [
    "for n in numbers:\n",
    "    if n % 2 == 0:\n",
    "        print(f\"{n} is even\")\n",
    "    else:\n",
    "        print(f\"{n} is odd\")\n",
    "        "
   ]
  },
  {
   "cell_type": "markdown",
   "metadata": {},
   "source": [
    "## Built-Ins\n",
    "\n",
    "- Haven't used a single import until now\n",
    "- That is because of Python's Built-Ins!\n",
    "- Built-Ins are already imported, right from the start\n",
    "- Built-Ins cover a lot of handy, basic, often-used functionality\n",
    "- A summary can be found under [https://docs.python.org/3/library/functions.html](https://docs.python.org/3/library/functions.html)\n",
    "- Although readibility counts, Built-Ins come with concise names as you will use them frequently\n",
    "- we already used\n",
    " - `print()`\n",
    " - `help()`\n",
    " - `dir()`\n",
    " - `enumerate()`\n",
    " - `type()`\n",
    " - `len()`"
   ]
  },
  {
   "cell_type": "markdown",
   "metadata": {},
   "source": [
    "Some conversions"
   ]
  },
  {
   "cell_type": "code",
   "execution_count": 68,
   "metadata": {},
   "outputs": [
    {
     "data": {
      "text/plain": [
       "False"
      ]
     },
     "execution_count": 68,
     "metadata": {},
     "output_type": "execute_result"
    }
   ],
   "source": [
    "bool(\"\")"
   ]
  },
  {
   "cell_type": "code",
   "execution_count": 69,
   "metadata": {},
   "outputs": [
    {
     "data": {
      "text/plain": [
       "True"
      ]
     },
     "execution_count": 69,
     "metadata": {},
     "output_type": "execute_result"
    }
   ],
   "source": [
    "bool(\"a\")"
   ]
  },
  {
   "cell_type": "code",
   "execution_count": 70,
   "metadata": {},
   "outputs": [
    {
     "data": {
      "text/plain": [
       "12"
      ]
     },
     "execution_count": 70,
     "metadata": {},
     "output_type": "execute_result"
    }
   ],
   "source": [
    "int(\"12\")"
   ]
  },
  {
   "cell_type": "code",
   "execution_count": 71,
   "metadata": {},
   "outputs": [
    {
     "data": {
      "text/plain": [
       "'12'"
      ]
     },
     "execution_count": 71,
     "metadata": {},
     "output_type": "execute_result"
    }
   ],
   "source": [
    "str(12)"
   ]
  },
  {
   "cell_type": "code",
   "execution_count": 72,
   "metadata": {},
   "outputs": [
    {
     "data": {
      "text/plain": [
       "10.0"
      ]
     },
     "execution_count": 72,
     "metadata": {},
     "output_type": "execute_result"
    }
   ],
   "source": [
    "float(10)"
   ]
  },
  {
   "cell_type": "markdown",
   "metadata": {},
   "source": [
    "Unicode ordinal code point (Caution: Alphabet does not start at 0)"
   ]
  },
  {
   "cell_type": "code",
   "execution_count": 73,
   "metadata": {},
   "outputs": [
    {
     "data": {
      "text/plain": [
       "97"
      ]
     },
     "execution_count": 73,
     "metadata": {},
     "output_type": "execute_result"
    }
   ],
   "source": [
    "ord(\"a\")"
   ]
  },
  {
   "cell_type": "code",
   "execution_count": 74,
   "metadata": {},
   "outputs": [
    {
     "data": {
      "text/plain": [
       "'k'"
      ]
     },
     "execution_count": 74,
     "metadata": {},
     "output_type": "execute_result"
    }
   ],
   "source": [
    "chr(ord(\"a\") + 10)"
   ]
  },
  {
   "cell_type": "code",
   "execution_count": 75,
   "metadata": {},
   "outputs": [
    {
     "name": "stdout",
     "output_type": "stream",
     "text": [
      "ÌÓÖ×Ø\n",
      "horst\n"
     ]
    }
   ],
   "source": [
    "name = \"horst\"\n",
    "\n",
    "encrypted = \"\".join([chr(ord(c) + 100) for c in name])\n",
    "\n",
    "print(encrypted)\n",
    "\n",
    "decrypted = \"\".join([chr(ord(c) - 100) for c in encrypted])\n",
    "\n",
    "print(decrypted)"
   ]
  },
  {
   "cell_type": "code",
   "execution_count": 76,
   "metadata": {},
   "outputs": [
    {
     "data": {
      "text/plain": [
       "20"
      ]
     },
     "execution_count": 76,
     "metadata": {},
     "output_type": "execute_result"
    }
   ],
   "source": [
    "max(10, 5, 20, 3)"
   ]
  },
  {
   "cell_type": "code",
   "execution_count": 77,
   "metadata": {},
   "outputs": [
    {
     "data": {
      "text/plain": [
       "3"
      ]
     },
     "execution_count": 77,
     "metadata": {},
     "output_type": "execute_result"
    }
   ],
   "source": [
    "min(10, 5, 20, 3)"
   ]
  },
  {
   "cell_type": "code",
   "execution_count": 78,
   "metadata": {},
   "outputs": [
    {
     "data": {
      "text/plain": [
       "60"
      ]
     },
     "execution_count": 78,
     "metadata": {},
     "output_type": "execute_result"
    }
   ],
   "source": [
    "sum([10, 20, 30])"
   ]
  },
  {
   "cell_type": "code",
   "execution_count": 79,
   "metadata": {},
   "outputs": [
    {
     "data": {
      "text/plain": [
       "'0x64'"
      ]
     },
     "execution_count": 79,
     "metadata": {},
     "output_type": "execute_result"
    }
   ],
   "source": [
    "hex(100)"
   ]
  },
  {
   "cell_type": "code",
   "execution_count": 80,
   "metadata": {},
   "outputs": [
    {
     "data": {
      "text/plain": [
       "'0b1100100'"
      ]
     },
     "execution_count": 80,
     "metadata": {},
     "output_type": "execute_result"
    }
   ],
   "source": [
    "bin(100)"
   ]
  },
  {
   "cell_type": "markdown",
   "metadata": {},
   "source": [
    "This is what we used in the introductory example!"
   ]
  },
  {
   "cell_type": "code",
   "execution_count": 81,
   "metadata": {},
   "outputs": [
    {
     "data": {
      "text/plain": [
       "False"
      ]
     },
     "execution_count": 81,
     "metadata": {},
     "output_type": "execute_result"
    }
   ],
   "source": [
    "all([True, False, False])"
   ]
  },
  {
   "cell_type": "code",
   "execution_count": 82,
   "metadata": {},
   "outputs": [
    {
     "data": {
      "text/plain": [
       "True"
      ]
     },
     "execution_count": 82,
     "metadata": {},
     "output_type": "execute_result"
    }
   ],
   "source": [
    "any([True, False, False])"
   ]
  },
  {
   "cell_type": "code",
   "execution_count": 83,
   "metadata": {},
   "outputs": [
    {
     "data": {
      "text/plain": [
       "range(0, 10)"
      ]
     },
     "execution_count": 83,
     "metadata": {},
     "output_type": "execute_result"
    }
   ],
   "source": [
    "range(10)"
   ]
  },
  {
   "cell_type": "code",
   "execution_count": 84,
   "metadata": {},
   "outputs": [
    {
     "data": {
      "text/plain": [
       "['h', 'a', 'l', 'l', 'o']"
      ]
     },
     "execution_count": 84,
     "metadata": {},
     "output_type": "execute_result"
    }
   ],
   "source": [
    "list(\"hallo\")"
   ]
  },
  {
   "cell_type": "code",
   "execution_count": 85,
   "metadata": {
    "scrolled": false
   },
   "outputs": [
    {
     "data": {
      "text/plain": [
       "[0, 2, 4, 6, 8]"
      ]
     },
     "execution_count": 85,
     "metadata": {},
     "output_type": "execute_result"
    }
   ],
   "source": [
    "list(range(0, 10, 2))"
   ]
  },
  {
   "cell_type": "markdown",
   "metadata": {},
   "source": [
    "Create new lists (list.sort() and list.reverse() work *in-place*)"
   ]
  },
  {
   "cell_type": "markdown",
   "metadata": {},
   "source": [
    "`sorted` uses Timsort, which is quite efficient! (Java has it as well)"
   ]
  },
  {
   "cell_type": "code",
   "execution_count": 86,
   "metadata": {},
   "outputs": [
    {
     "data": {
      "text/plain": [
       "[0, 1, 32, 45, 1000]"
      ]
     },
     "execution_count": 86,
     "metadata": {},
     "output_type": "execute_result"
    }
   ],
   "source": [
    "sorted([32, 1, 45, 1000, 0])"
   ]
  },
  {
   "cell_type": "code",
   "execution_count": 87,
   "metadata": {},
   "outputs": [
    {
     "data": {
      "text/plain": [
       "[3, 2, 1]"
      ]
     },
     "execution_count": 87,
     "metadata": {},
     "output_type": "execute_result"
    }
   ],
   "source": [
    "list(reversed([1, 2, 3]))"
   ]
  },
  {
   "cell_type": "markdown",
   "metadata": {},
   "source": [
    "## Imports and the Standard Library\n",
    "\n",
    "- Built-Ins cover lots of everyday functionality\n",
    "- Python solves a lot of other problems as well\n",
    "- Python organizes its functionality in the Python Standard Library [https://docs.python.org/3/library/](https://docs.python.org/3/library/)\n",
    "- You need to import modules if you want to use them\n"
   ]
  },
  {
   "cell_type": "markdown",
   "metadata": {},
   "source": [
    "Introducing one more data type (dates and times) en passant :-)"
   ]
  },
  {
   "cell_type": "code",
   "execution_count": 88,
   "metadata": {},
   "outputs": [
    {
     "data": {
      "text/plain": [
       "datetime.datetime(2020, 11, 24, 9, 15)"
      ]
     },
     "execution_count": 88,
     "metadata": {},
     "output_type": "execute_result"
    }
   ],
   "source": [
    "import datetime\n",
    "\n",
    "datetime.datetime(2020, 11, 24, 9, 15, 0)"
   ]
  },
  {
   "cell_type": "code",
   "execution_count": 89,
   "metadata": {},
   "outputs": [
    {
     "name": "stdout",
     "output_type": "stream",
     "text": [
      "2020-11-26 14:28:34.193871\n"
     ]
    }
   ],
   "source": [
    "print(datetime.datetime.now())"
   ]
  },
  {
   "cell_type": "code",
   "execution_count": 90,
   "metadata": {},
   "outputs": [
    {
     "name": "stdout",
     "output_type": "stream",
     "text": [
      "2020-11-26\n"
     ]
    }
   ],
   "source": [
    "print(datetime.date.today())"
   ]
  },
  {
   "cell_type": "markdown",
   "metadata": {},
   "source": [
    "Import parts from a module"
   ]
  },
  {
   "cell_type": "code",
   "execution_count": 91,
   "metadata": {},
   "outputs": [
    {
     "data": {
      "text/plain": [
       "datetime.date(2020, 11, 24)"
      ]
     },
     "execution_count": 91,
     "metadata": {},
     "output_type": "execute_result"
    }
   ],
   "source": [
    "from datetime import date\n",
    "\n",
    "date(2020, 11, 24)"
   ]
  },
  {
   "cell_type": "markdown",
   "metadata": {},
   "source": [
    "Leave the prefix if it increases readibility"
   ]
  },
  {
   "cell_type": "code",
   "execution_count": 92,
   "metadata": {},
   "outputs": [
    {
     "data": {
      "text/plain": [
       "315"
      ]
     },
     "execution_count": 92,
     "metadata": {},
     "output_type": "execute_result"
    }
   ],
   "source": [
    "import math\n",
    "\n",
    "r = 10\n",
    "area = math.ceil(math.pi * r ** 2)\n",
    "area"
   ]
  },
  {
   "cell_type": "code",
   "execution_count": 93,
   "metadata": {},
   "outputs": [
    {
     "data": {
      "text/plain": [
       "[40.63781972481325,\n",
       " 42.1654234425974,\n",
       " 42.257038388957625,\n",
       " 42.68176906884413,\n",
       " 41.856404784222036,\n",
       " 41.79596047771353,\n",
       " 42.55175922711704,\n",
       " 43.92784446354564,\n",
       " 42.174927959496124,\n",
       " 42.26618713077623]"
      ]
     },
     "execution_count": 93,
     "metadata": {},
     "output_type": "execute_result"
    }
   ],
   "source": [
    "import statistics as st\n",
    "\n",
    "shoe_sizes = st.NormalDist(mu=43, sigma=2)\n",
    "shoe_sizes.samples(10)"
   ]
  },
  {
   "cell_type": "code",
   "execution_count": 94,
   "metadata": {},
   "outputs": [
    {
     "data": {
      "text/plain": [
       "[42.52939916735847,\n",
       " 45.23392240622946,\n",
       " 44.847470793184286,\n",
       " 43.24150647930843,\n",
       " 44.426522967326214,\n",
       " 42.5197873479025,\n",
       " 45.54127856719804,\n",
       " 47.08471577687123,\n",
       " 44.39609780225542,\n",
       " 42.9843929594519]"
      ]
     },
     "execution_count": 94,
     "metadata": {},
     "output_type": "execute_result"
    }
   ],
   "source": [
    "from statistics import NormalDist as N\n",
    "\n",
    "shoe_sizes = N(mu=43, sigma=2)\n",
    "shoe_sizes.samples(10)"
   ]
  },
  {
   "cell_type": "markdown",
   "metadata": {},
   "source": [
    "While we are at it: Other stuff Python's Standard Library solves out of the box\n",
    "- `random`\n",
    "- `string`\n",
    "- `pprint`\n",
    "- `json`\n",
    "- `urllib`\n",
    "\n",
    "Often there's no need to install third party packages. Browse the stdlib first!"
   ]
  },
  {
   "cell_type": "markdown",
   "metadata": {},
   "source": [
    "### Random module"
   ]
  },
  {
   "cell_type": "code",
   "execution_count": 95,
   "metadata": {},
   "outputs": [
    {
     "data": {
      "text/plain": [
       "47"
      ]
     },
     "execution_count": 95,
     "metadata": {},
     "output_type": "execute_result"
    }
   ],
   "source": [
    "import random\n",
    "\n",
    "random.randint(0, 100)"
   ]
  },
  {
   "cell_type": "code",
   "execution_count": 96,
   "metadata": {},
   "outputs": [
    {
     "data": {
      "text/plain": [
       "'a'"
      ]
     },
     "execution_count": 96,
     "metadata": {},
     "output_type": "execute_result"
    }
   ],
   "source": [
    "random.choice([\"a\", \"b\", \"c\"])"
   ]
  },
  {
   "cell_type": "code",
   "execution_count": 97,
   "metadata": {},
   "outputs": [
    {
     "data": {
      "text/plain": [
       "43.588965729375616"
      ]
     },
     "execution_count": 97,
     "metadata": {},
     "output_type": "execute_result"
    }
   ],
   "source": [
    "random.gauss(43, 2)"
   ]
  },
  {
   "cell_type": "markdown",
   "metadata": {},
   "source": [
    "### String module"
   ]
  },
  {
   "cell_type": "code",
   "execution_count": 98,
   "metadata": {},
   "outputs": [
    {
     "data": {
      "text/plain": [
       "'0123456789'"
      ]
     },
     "execution_count": 98,
     "metadata": {},
     "output_type": "execute_result"
    }
   ],
   "source": [
    "import string\n",
    "\n",
    "string.digits"
   ]
  },
  {
   "cell_type": "code",
   "execution_count": 99,
   "metadata": {},
   "outputs": [
    {
     "data": {
      "text/plain": [
       "'abcdefghijklmnopqrstuvwxyzABCDEFGHIJKLMNOPQRSTUVWXYZ'"
      ]
     },
     "execution_count": 99,
     "metadata": {},
     "output_type": "execute_result"
    }
   ],
   "source": [
    "string.ascii_letters"
   ]
  },
  {
   "cell_type": "code",
   "execution_count": 100,
   "metadata": {},
   "outputs": [
    {
     "data": {
      "text/plain": [
       "'abcdefghijklmnopqrstuvwxyz'"
      ]
     },
     "execution_count": 100,
     "metadata": {},
     "output_type": "execute_result"
    }
   ],
   "source": [
    "string.ascii_lowercase"
   ]
  },
  {
   "cell_type": "code",
   "execution_count": 101,
   "metadata": {},
   "outputs": [
    {
     "data": {
      "text/plain": [
       "'ABCDEFGHIJKLMNOPQRSTUVWXYZ'"
      ]
     },
     "execution_count": 101,
     "metadata": {},
     "output_type": "execute_result"
    }
   ],
   "source": [
    "string.ascii_uppercase"
   ]
  },
  {
   "cell_type": "code",
   "execution_count": 102,
   "metadata": {},
   "outputs": [
    {
     "data": {
      "text/plain": [
       "'!\"#$%&\\'()*+,-./:;<=>?@[\\\\]^_`{|}~'"
      ]
     },
     "execution_count": 102,
     "metadata": {},
     "output_type": "execute_result"
    }
   ],
   "source": [
    "string.punctuation"
   ]
  },
  {
   "cell_type": "markdown",
   "metadata": {},
   "source": [
    "Generate passwords with `secrects` and `string` combined. Use `secrets` for cryptographically safe randomness!"
   ]
  },
  {
   "cell_type": "code",
   "execution_count": 103,
   "metadata": {},
   "outputs": [
    {
     "data": {
      "text/plain": [
       "'u}Kv9_3V7Vf0w.oIM<A?'"
      ]
     },
     "execution_count": 103,
     "metadata": {},
     "output_type": "execute_result"
    }
   ],
   "source": [
    "import secrets\n",
    "\n",
    "charset = string.ascii_letters + string.digits + string.punctuation\n",
    "password = \"\".join([secrets.choice(charset) for i in range(20)])\n",
    "password"
   ]
  },
  {
   "cell_type": "markdown",
   "metadata": {},
   "source": [
    "Shortcut for if you just need a long hex passphrase (e.g. DB passwords)"
   ]
  },
  {
   "cell_type": "code",
   "execution_count": 104,
   "metadata": {},
   "outputs": [
    {
     "data": {
      "text/plain": [
       "'87cd2fea3371cc22471d856172781bb47541b36f23db8700f38657cf68861f95'"
      ]
     },
     "execution_count": 104,
     "metadata": {},
     "output_type": "execute_result"
    }
   ],
   "source": [
    "secrets.token_hex(32)"
   ]
  },
  {
   "cell_type": "markdown",
   "metadata": {},
   "source": [
    "### JSON module"
   ]
  },
  {
   "cell_type": "code",
   "execution_count": 105,
   "metadata": {},
   "outputs": [
    {
     "name": "stdout",
     "output_type": "stream",
     "text": [
      "{'a': 2, 'b': True, 'c': {'d': 1, 'e': 2}}\n"
     ]
    }
   ],
   "source": [
    "import json\n",
    "\n",
    "doc = json.loads('{\"a\": 2, \"b\": true, \"c\": {\"d\": 1, \"e\": 2}}')\n",
    "\n",
    "print(doc)"
   ]
  },
  {
   "cell_type": "code",
   "execution_count": 106,
   "metadata": {},
   "outputs": [
    {
     "name": "stdout",
     "output_type": "stream",
     "text": [
      "{'a': 2,\n",
      " 'b': True,\n",
      " 'c': {'d': 1,\n",
      "       'e': 2}}\n"
     ]
    }
   ],
   "source": [
    "from pprint import pprint\n",
    "\n",
    "pprint(doc, width=10)"
   ]
  },
  {
   "cell_type": "markdown",
   "metadata": {},
   "source": [
    "Read a key"
   ]
  },
  {
   "cell_type": "code",
   "execution_count": 107,
   "metadata": {},
   "outputs": [
    {
     "data": {
      "text/plain": [
       "2"
      ]
     },
     "execution_count": 107,
     "metadata": {},
     "output_type": "execute_result"
    }
   ],
   "source": [
    "doc[\"a\"]"
   ]
  },
  {
   "cell_type": "markdown",
   "metadata": {},
   "source": [
    "Write a key"
   ]
  },
  {
   "cell_type": "code",
   "execution_count": 108,
   "metadata": {},
   "outputs": [],
   "source": [
    "doc[\"a\"] = 100"
   ]
  },
  {
   "cell_type": "markdown",
   "metadata": {},
   "source": [
    "Write back to JSON"
   ]
  },
  {
   "cell_type": "code",
   "execution_count": 109,
   "metadata": {},
   "outputs": [
    {
     "data": {
      "text/plain": [
       "'{\"a\": 100, \"b\": true, \"c\": {\"d\": 1, \"e\": 2}}'"
      ]
     },
     "execution_count": 109,
     "metadata": {},
     "output_type": "execute_result"
    }
   ],
   "source": [
    "json.dumps(doc)"
   ]
  },
  {
   "cell_type": "markdown",
   "metadata": {},
   "source": [
    "### urllib Module\n",
    "\n",
    "(Tamas is gonna explain in more details)"
   ]
  },
  {
   "cell_type": "code",
   "execution_count": 110,
   "metadata": {},
   "outputs": [],
   "source": [
    "from urllib.request import urlopen\n",
    "\n",
    "url = \"https://file-examples-com.github.io/uploads/2017/02/file_example_JSON_1kb.json\"\n",
    "response = urlopen(url)"
   ]
  },
  {
   "cell_type": "code",
   "execution_count": 111,
   "metadata": {},
   "outputs": [
    {
     "data": {
      "text/plain": [
       "200"
      ]
     },
     "execution_count": 111,
     "metadata": {},
     "output_type": "execute_result"
    }
   ],
   "source": [
    "response.status"
   ]
  },
  {
   "cell_type": "code",
   "execution_count": 112,
   "metadata": {},
   "outputs": [
    {
     "data": {
      "text/plain": [
       "b'{\\n    \"countries\": [\\n        {\\n            \"name\": \"Afghanistan\",\\n            \"isoCode\": \"AF\"\\n        },\\n        {\\n            \"name\": \"Albania\",\\n            \"isoCode\": \"AL\"\\n        },\\n        {\\n            \"name\": \"Algeria\",\\n            \"isoCode\": \"DZ\"\\n        },\\n        {\\n            \"name\": \"American Samoa\",\\n            \"isoCode\": \"AS\"\\n        },\\n        {\\n            \"name\": \"Andorra\",\\n            \"isoCode\": \"AD\"\\n        },\\n        {\\n            \"name\": \"Angola\",\\n            \"isoCode\": \"AO\"\\n        },\\n        {\\n            \"name\": \"Anguilla\",\\n            \"isoCode\": \"AI\"\\n        },\\n        {\\n            \"name\": \"Antarctica\",\\n            \"isoCode\": \"AQ\"\\n        },\\n        {\\n            \"name\": \"Antigua and Barbuda\",\\n            \"isoCode\": \"AG\"\\n        },\\n        {\\n            \"name\": \"Argentina\",\\n            \"isoCode\": \"AR\"\\n        },\\n        {\\n            \"name\": \"Armenia\",\\n            \"isoCode\": \"AM\"\\n        },\\n        {\\n            \"name\": \"Aruba\",\\n            \"isoCode\": \"AW\"\\n        },\\n        {\\n            \"name\": \"Australia\",\\n            \"isoCode\": \"AU\"\\n        },\\n        {\\n            \"name\": \"Austria\",\\n            \"isoCode\": \"AT\"\\n        },\\n        {\\n            \"name\": \"Azerbaijan\",\\n            \"isoCode\": \"AZ\"\\n        },\\n        {\\n            \"name\": \"Bahamas\",\\n            \"isoCode\": \"BS\"\\n        },\\n        {\\n            \"name\": \"Bahrain\",\\n            \"isoCode\": \"BH\"\\n        },\\n        {\\n            \"name\": \"Bangladesh\",\\n            \"isoCode\": \"BD\"\\n        },\\n        {\\n            \"name\": \"Barbados\",\\n            \"isoCode\": \"BB\"\\n        },\\n        {\\n            \"name\": \"Belarus\",\\n            \"isoCode\": \"BY\"\\n        },\\n        {\\n            \"name\": \"Belgium\",\\n            \"isoCode\": \"BE\"\\n        },\\n        {\\n            \"name\": \"Belize\",\\n            \"isoCode\": \"BZ\"\\n        },\\n        {\\n            \"name\": \"Benin\",\\n            \"isoCode\": \"BJ\"\\n        },\\n        {\\n            \"name\": \"Bermuda\",\\n            \"isoCode\": \"BM\"\\n        },\\n        {\\n            \"name\": \"Bhutan\",\\n            \"isoCode\": \"BT\"\\n        },\\n        {\\n            \"name\": \"Bolivia\",\\n            \"isoCode\": \"BO\"\\n        },\\n        {\\n            \"name\": \"Bosnia and Herzegovina\",\\n            \"isoCode\": \"BA\"\\n        },\\n        {\\n            \"name\": \"Botswana\",\\n            \"isoCode\": \"BW\"\\n        },\\n        {\\n            \"name\": \"Bouvet Island\",\\n            \"isoCode\": \"BV\"\\n        },\\n        {\\n            \"name\": \"Brazil\",\\n            \"isoCode\": \"BR\"\\n        },\\n        {\\n            \"name\": \"British Indian Ocean Territory\",\\n            \"isoCode\": \"IO\"\\n        },\\n        {\\n            \"name\": \"Brunei\",\\n            \"isoCode\": \"BN\"\\n        },\\n        {\\n            \"name\": \"Bulgaria\",\\n            \"isoCode\": \"BG\"\\n        },\\n        {\\n            \"name\": \"Burkina Faso\",\\n            \"isoCode\": \"BF\"\\n        },\\n        {\\n            \"name\": \"Burundi\",\\n            \"isoCode\": \"BI\"\\n        },\\n        {\\n            \"name\": \"Cambodia\",\\n            \"isoCode\": \"KH\"\\n        },\\n        {\\n            \"name\": \"Cameroon\",\\n            \"isoCode\": \"CM\"\\n        },\\n        {\\n            \"name\": \"Canada\",\\n            \"isoCode\": \"CA\"\\n        },\\n        {\\n            \"name\": \"Cape Verde\",\\n            \"isoCode\": \"CV\"\\n        },\\n        {\\n            \"name\": \"Cayman Islands\",\\n            \"isoCode\": \"KY\"\\n        },\\n        {\\n            \"name\": \"Central African Republic\",\\n            \"isoCode\": \"CF\"\\n        },\\n        {\\n            \"name\": \"Chad\",\\n            \"isoCode\": \"TD\"\\n        },\\n        {\\n            \"name\": \"Chile\",\\n            \"isoCode\": \"CL\"\\n        },\\n        {\\n            \"name\": \"China\",\\n            \"isoCode\": \"CN\"\\n        },\\n        {\\n            \"name\": \"Christmas Island\",\\n            \"isoCode\": \"CX\"\\n        },\\n        {\\n            \"name\": \"Cocos (Keeling) Islands\",\\n            \"isoCode\": \"CC\"\\n        },\\n        {\\n            \"name\": \"Colombia\",\\n            \"isoCode\": \"CO\"\\n        },\\n        {\\n            \"name\": \"Comoros\",\\n            \"isoCode\": \"KM\"\\n        },\\n        {\\n            \"name\": \"Congo\",\\n            \"isoCode\": \"CG\"\\n        },\\n        {\\n            \"name\": \"Cook Islands\",\\n            \"isoCode\": \"CK\"\\n        },\\n        {\\n            \"name\": \"Costa Rica\",\\n            \"isoCode\": \"CR\"\\n        },\\n        {\\n            \"name\": \"Croatia\",\\n            \"isoCode\": \"HR\"\\n        },\\n        {\\n            \"name\": \"Cuba\",\\n            \"isoCode\": \"CU\"\\n        },\\n        {\\n            \"name\": \"Cyprus\",\\n            \"isoCode\": \"CY\"\\n        },\\n        {\\n            \"name\": \"Czech Republic\",\\n            \"isoCode\": \"CZ\"\\n        },\\n        {\\n            \"name\": \"Denmark\",\\n            \"isoCode\": \"DK\"\\n        },\\n        {\\n            \"name\": \"Djibouti\",\\n            \"isoCode\": \"DJ\"\\n        },\\n        {\\n            \"name\": \"Dominica\",\\n            \"isoCode\": \"DM\"\\n        },\\n        {\\n            \"name\": \"Dominican Republic\",\\n            \"isoCode\": \"DO\"\\n        },\\n        {\\n            \"name\": \"East Timor\",\\n            \"isoCode\": \"TP\"\\n        },\\n        {\\n            \"name\": \"Ecuador\",\\n            \"isoCode\": \"EC\"\\n        },\\n        {\\n            \"name\": \"Egypt\",\\n            \"isoCode\": \"EG\"\\n        },\\n        {\\n            \"name\": \"El Salvador\",\\n            \"isoCode\": \"SV\"\\n        },\\n        {\\n            \"name\": \"Equatorial Guinea\",\\n            \"isoCode\": \"GQ\"\\n        },\\n        {\\n            \"name\": \"Eritrea\",\\n            \"isoCode\": \"ER\"\\n        },\\n        {\\n            \"name\": \"Estonia\",\\n            \"isoCode\": \"EE\"\\n        },\\n        {\\n            \"name\": \"Ethiopia\",\\n            \"isoCode\": \"ET\"\\n        },\\n        {\\n            \"name\": \"Falkland Islands\",\\n            \"isoCode\": \"FK\"\\n        },\\n        {\\n            \"name\": \"Faroe Islands\",\\n            \"isoCode\": \"FO\"\\n        },\\n        {\\n            \"name\": \"Fiji Islands\",\\n            \"isoCode\": \"FJ\"\\n        },\\n        {\\n            \"name\": \"Finland\",\\n            \"isoCode\": \"FI\"\\n        },\\n        {\\n            \"name\": \"France\",\\n            \"isoCode\": \"FR\"\\n        },\\n        {\\n            \"name\": \"French Guiana\",\\n            \"isoCode\": \"GF\"\\n        },\\n        {\\n            \"name\": \"French Polynesia\",\\n            \"isoCode\": \"PF\"\\n        },\\n        {\\n            \"name\": \"French Southern territories\",\\n            \"isoCode\": \"TF\"\\n        },\\n        {\\n            \"name\": \"Gabon\",\\n            \"isoCode\": \"GA\"\\n        },\\n        {\\n            \"name\": \"Gambia\",\\n            \"isoCode\": \"GM\"\\n        },\\n        {\\n            \"name\": \"Georgia\",\\n            \"isoCode\": \"GE\"\\n        },\\n        {\\n            \"name\": \"Germany\",\\n            \"isoCode\": \"DE\"\\n        },\\n        {\\n            \"name\": \"Ghana\",\\n            \"isoCode\": \"GH\"\\n        },\\n        {\\n            \"name\": \"Gibraltar\",\\n            \"isoCode\": \"GI\"\\n        },\\n        {\\n            \"name\": \"Greece\",\\n            \"isoCode\": \"GR\"\\n        },\\n        {\\n            \"name\": \"Greenland\",\\n            \"isoCode\": \"GL\"\\n        },\\n        {\\n            \"name\": \"Grenada\",\\n            \"isoCode\": \"GD\"\\n        },\\n        {\\n            \"name\": \"Guadeloupe\",\\n            \"isoCode\": \"GP\"\\n        },\\n        {\\n            \"name\": \"Guam\",\\n            \"isoCode\": \"GU\"\\n        },\\n        {\\n            \"name\": \"Guatemala\",\\n            \"isoCode\": \"GT\"\\n        },\\n        {\\n            \"name\": \"Guernsey\",\\n            \"isoCode\": \"GG\"\\n        },\\n        {\\n            \"name\": \"Guinea\",\\n            \"isoCode\": \"GN\"\\n        },\\n        {\\n            \"name\": \"Guinea-Bissau\",\\n            \"isoCode\": \"GW\"\\n        },\\n        {\\n            \"name\": \"Guyana\",\\n            \"isoCode\": \"GY\"\\n        },\\n        {\\n            \"name\": \"Haiti\",\\n            \"isoCode\": \"HT\"\\n        },\\n        {\\n            \"name\": \"Heard Island and McDonald Islands\",\\n            \"isoCode\": \"HM\"\\n        },\\n        {\\n            \"name\": \"Holy See (Vatican City State)\",\\n            \"isoCode\": \"VA\"\\n        },\\n        {\\n            \"name\": \"Honduras\",\\n            \"isoCode\": \"HN\"\\n        },\\n        {\\n            \"name\": \"Hong Kong\",\\n            \"isoCode\": \"HK\"\\n        },\\n        {\\n            \"name\": \"Hungary\",\\n            \"isoCode\": \"HU\"\\n        },\\n        {\\n            \"name\": \"Iceland\",\\n            \"isoCode\": \"IS\"\\n        },\\n        {\\n            \"name\": \"India\",\\n            \"isoCode\": \"IN\"\\n        },\\n        {\\n            \"name\": \"Indonesia\",\\n            \"isoCode\": \"ID\"\\n        },\\n        {\\n            \"name\": \"Iran\",\\n            \"isoCode\": \"IR\"\\n        },\\n        {\\n            \"name\": \"Iraq\",\\n            \"isoCode\": \"IQ\"\\n        },\\n        {\\n            \"name\": \"Ireland\",\\n            \"isoCode\": \"IE\"\\n        },\\n        {\\n            \"name\": \"Isle of Man\",\\n            \"isoCode\": \"IM\"\\n        },\\n        {\\n            \"name\": \"Israel\",\\n            \"isoCode\": \"IL\"\\n        },\\n        {\\n            \"name\": \"Italy\",\\n            \"isoCode\": \"IT\"\\n        },\\n        {\\n            \"name\": \"Ivory Coast\",\\n            \"isoCode\": \"CI\"\\n        },\\n        {\\n            \"name\": \"Jamaica\",\\n            \"isoCode\": \"JM\"\\n        },\\n        {\\n            \"name\": \"Japan\",\\n            \"isoCode\": \"JP\"\\n        },\\n        {\\n            \"name\": \"Jersey\",\\n            \"isoCode\": \"JE\"\\n        },\\n        {\\n            \"name\": \"Jordan\",\\n            \"isoCode\": \"JO\"\\n        },\\n        {\\n            \"name\": \"Kazakhstan\",\\n            \"isoCode\": \"KZ\"\\n        },\\n        {\\n            \"name\": \"Kenya\",\\n            \"isoCode\": \"KE\"\\n        },\\n        {\\n            \"name\": \"Kiribati\",\\n            \"isoCode\": \"KI\"\\n        },\\n        {\\n            \"name\": \"Kuwait\",\\n            \"isoCode\": \"KW\"\\n        },\\n        {\\n            \"name\": \"Kyrgyzstan\",\\n            \"isoCode\": \"KG\"\\n        },\\n        {\\n            \"name\": \"Laos\",\\n            \"isoCode\": \"LA\"\\n        },\\n        {\\n            \"name\": \"Latvia\",\\n            \"isoCode\": \"LV\"\\n        },\\n        {\\n            \"name\": \"Lebanon\",\\n            \"isoCode\": \"LB\"\\n        },\\n        {\\n            \"name\": \"Lesotho\",\\n            \"isoCode\": \"LS\"\\n        },\\n        {\\n            \"name\": \"Liberia\",\\n            \"isoCode\": \"LR\"\\n        },\\n        {\\n            \"name\": \"Libyan Arab Jamahiriya\",\\n            \"isoCode\": \"LY\"\\n        },\\n        {\\n            \"name\": \"Liechtenstein\",\\n            \"isoCode\": \"LI\"\\n        },\\n        {\\n            \"name\": \"Lithuania\",\\n            \"isoCode\": \"LT\"\\n        },\\n        {\\n            \"name\": \"Luxembourg\",\\n            \"isoCode\": \"LU\"\\n        },\\n        {\\n            \"name\": \"Macao\",\\n            \"isoCode\": \"MO\"\\n        },\\n        {\\n            \"name\": \"North Macedonia\",\\n            \"isoCode\": \"MK\"\\n        },\\n        {\\n            \"name\": \"Madagascar\",\\n            \"isoCode\": \"MG\"\\n        },\\n        {\\n            \"name\": \"Malawi\",\\n            \"isoCode\": \"MW\"\\n        },\\n        {\\n            \"name\": \"Malaysia\",\\n            \"isoCode\": \"MY\"\\n        },\\n        {\\n            \"name\": \"Maldives\",\\n            \"isoCode\": \"MV\"\\n        },\\n        {\\n            \"name\": \"Mali\",\\n            \"isoCode\": \"ML\"\\n        },\\n        {\\n            \"name\": \"Malta\",\\n            \"isoCode\": \"MT\"\\n        },\\n        {\\n            \"name\": \"Marshall Islands\",\\n            \"isoCode\": \"MH\"\\n        },\\n        {\\n            \"name\": \"Martinique\",\\n            \"isoCode\": \"MQ\"\\n        },\\n        {\\n            \"name\": \"Mauritania\",\\n            \"isoCode\": \"MR\"\\n        },\\n        {\\n            \"name\": \"Mauritius\",\\n            \"isoCode\": \"MU\"\\n        },\\n        {\\n            \"name\": \"Mayotte\",\\n            \"isoCode\": \"YT\"\\n        },\\n        {\\n            \"name\": \"Mexico\",\\n            \"isoCode\": \"MX\"\\n        },\\n        {\\n            \"name\": \"Micronesia, Federated States of\",\\n            \"isoCode\": \"FM\"\\n        },\\n        {\\n            \"name\": \"Moldova\",\\n            \"isoCode\": \"MD\"\\n        },\\n        {\\n            \"name\": \"Monaco\",\\n            \"isoCode\": \"MC\"\\n        },\\n        {\\n            \"name\": \"Mongolia\",\\n            \"isoCode\": \"MN\"\\n        },\\n        {\\n            \"name\": \"Montenegro\",\\n            \"isoCode\": \"ME\"\\n        },\\n        {\\n            \"name\": \"Montserrat\",\\n            \"isoCode\": \"MS\"\\n        },\\n        {\\n            \"name\": \"Morocco\",\\n            \"isoCode\": \"MA\"\\n        },\\n        {\\n            \"name\": \"Mozambique\",\\n            \"isoCode\": \"MZ\"\\n        },\\n        {\\n            \"name\": \"Myanmar\",\\n            \"isoCode\": \"MM\"\\n        },\\n        {\\n            \"name\": \"Namibia\",\\n            \"isoCode\": \"NA\"\\n        },\\n        {\\n            \"name\": \"Nauru\",\\n            \"isoCode\": \"NR\"\\n        },\\n        {\\n            \"name\": \"Nepal\",\\n            \"isoCode\": \"NP\"\\n        },\\n        {\\n            \"name\": \"Netherlands\",\\n            \"isoCode\": \"NL\"\\n        },\\n        {\\n            \"name\": \"Netherlands Antilles\",\\n            \"isoCode\": \"AN\"\\n        },\\n        {\\n            \"name\": \"New Caledonia\",\\n            \"isoCode\": \"NC\"\\n        },\\n        {\\n            \"name\": \"New Zealand\",\\n            \"isoCode\": \"NZ\"\\n        },\\n        {\\n            \"name\": \"Nicaragua\",\\n            \"isoCode\": \"NI\"\\n        },\\n        {\\n            \"name\": \"Niger\",\\n            \"isoCode\": \"NE\"\\n        },\\n        {\\n            \"name\": \"Nigeria\",\\n            \"isoCode\": \"NG\"\\n        },\\n        {\\n            \"name\": \"Niue\",\\n            \"isoCode\": \"NU\"\\n        },\\n        {\\n            \"name\": \"Norfolk Island\",\\n            \"isoCode\": \"NF\"\\n        },\\n        {\\n            \"name\": \"North Korea\",\\n            \"isoCode\": \"KP\"\\n        },\\n        {\\n            \"name\": \"Northern Ireland\",\\n            \"isoCode\": \"GB\"\\n        },\\n        {\\n            \"name\": \"Northern Mariana Islands\",\\n            \"isoCode\": \"MP\"\\n        },\\n        {\\n            \"name\": \"Norway\",\\n            \"isoCode\": \"NO\"\\n        },\\n        {\\n            \"name\": \"Oman\",\\n            \"isoCode\": \"OM\"\\n        },\\n        {\\n            \"name\": \"Pakistan\",\\n            \"isoCode\": \"PK\"\\n        },\\n        {\\n            \"name\": \"Palau\",\\n            \"isoCode\": \"PW\"\\n        },\\n        {\\n            \"name\": \"Palestine\",\\n            \"isoCode\": \"PS\"\\n        },\\n        {\\n            \"name\": \"Panama\",\\n            \"isoCode\": \"PA\"\\n        },\\n        {\\n            \"name\": \"Papua New Guinea\",\\n            \"isoCode\": \"PG\"\\n        },\\n        {\\n            \"name\": \"Paraguay\",\\n            \"isoCode\": \"PY\"\\n        },\\n        {\\n            \"name\": \"Peru\",\\n            \"isoCode\": \"PE\"\\n        },\\n        {\\n            \"name\": \"Philippines\",\\n            \"isoCode\": \"PH\"\\n        },\\n        {\\n            \"name\": \"Pitcairn\",\\n            \"isoCode\": \"PN\"\\n        },\\n        {\\n            \"name\": \"Poland\",\\n            \"isoCode\": \"PL\"\\n        },\\n        {\\n            \"name\": \"Portugal\",\\n            \"isoCode\": \"PT\"\\n        },\\n        {\\n            \"name\": \"Puerto Rico\",\\n            \"isoCode\": \"PR\"\\n        },\\n        {\\n            \"name\": \"Qatar\",\\n            \"isoCode\": \"QA\"\\n        },\\n        {\\n            \"name\": \"Reunion\",\\n            \"isoCode\": \"RE\"\\n        },\\n        {\\n            \"name\": \"Romania\",\\n            \"isoCode\": \"RO\"\\n        },\\n        {\\n            \"name\": \"Russian Federation\",\\n            \"isoCode\": \"RU\"\\n        },\\n        {\\n            \"name\": \"Rwanda\",\\n            \"isoCode\": \"RW\"\\n        },\\n        {\\n            \"name\": \"Saint Helena\",\\n            \"isoCode\": \"SH\"\\n        },\\n        {\\n            \"name\": \"Saint Kitts and Nevis\",\\n            \"isoCode\": \"KN\"\\n        },\\n        {\\n            \"name\": \"Saint Lucia\",\\n            \"isoCode\": \"LC\"\\n        },\\n        {\\n            \"name\": \"Saint Pierre and Miquelon\",\\n            \"isoCode\": \"PM\"\\n        },\\n        {\\n            \"name\": \"Saint Vincent and the Grenadines\",\\n            \"isoCode\": \"VC\"\\n        },\\n        {\\n            \"name\": \"Samoa\",\\n            \"isoCode\": \"WS\"\\n        },\\n        {\\n            \"name\": \"San Marino\",\\n            \"isoCode\": \"SM\"\\n        },\\n        {\\n            \"name\": \"Sao Tome and Principe\",\\n            \"isoCode\": \"ST\"\\n        },\\n        {\\n            \"name\": \"Saudi Arabia\",\\n            \"isoCode\": \"SA\"\\n        },\\n        {\\n            \"name\": \"Senegal\",\\n            \"isoCode\": \"SN\"\\n        },\\n        {\\n            \"name\": \"Serbia\",\\n            \"isoCode\": \"RS\"\\n        },\\n        {\\n            \"name\": \"Seychelles\",\\n            \"isoCode\": \"SC\"\\n        },\\n        {\\n            \"name\": \"Sierra Leone\",\\n            \"isoCode\": \"SL\"\\n        },\\n        {\\n            \"name\": \"Singapore\",\\n            \"isoCode\": \"SG\"\\n        },\\n        {\\n            \"name\": \"Slovakia\",\\n            \"isoCode\": \"SK\"\\n        },\\n        {\\n            \"name\": \"Slovenia\",\\n            \"isoCode\": \"SI\"\\n        },\\n        {\\n            \"name\": \"Solomon Islands\",\\n            \"isoCode\": \"SB\"\\n        },\\n        {\\n            \"name\": \"Somalia\",\\n            \"isoCode\": \"SO\"\\n        },\\n        {\\n            \"name\": \"South Africa\",\\n            \"isoCode\": \"ZA\"\\n        },\\n        {\\n            \"name\": \"South Georgia and the South Sandwich Islands\",\\n            \"isoCode\": \"GS\"\\n        },\\n        {\\n            \"name\": \"South Korea\",\\n            \"isoCode\": \"KR\"\\n        },\\n        {\\n            \"name\": \"South Sudan\",\\n            \"isoCode\": \"SS\"\\n        },\\n        {\\n            \"name\": \"Spain\",\\n            \"isoCode\": \"ES\"\\n        },\\n        {\\n            \"name\": \"Sri Lanka\",\\n            \"isoCode\": \"LK\"\\n        },\\n        {\\n            \"name\": \"Sudan\",\\n            \"isoCode\": \"SD\"\\n        },\\n        {\\n            \"name\": \"Suriname\",\\n            \"isoCode\": \"SR\"\\n        },\\n        {\\n            \"name\": \"Svalbard and Jan Mayen\",\\n            \"isoCode\": \"SJ\"\\n        },\\n        {\\n            \"name\": \"Swaziland\",\\n            \"isoCode\": \"SZ\"\\n        },\\n        {\\n            \"name\": \"Sweden\",\\n            \"isoCode\": \"SE\"\\n        },\\n        {\\n            \"name\": \"Switzerland\",\\n            \"isoCode\": \"CH\"\\n        },\\n        {\\n            \"name\": \"Syria\",\\n            \"isoCode\": \"SY\"\\n        },\\n        {\\n            \"name\": \"Tajikistan\",\\n            \"isoCode\": \"TJ\"\\n        },\\n        {\\n            \"name\": \"Tanzania\",\\n            \"isoCode\": \"TZ\"\\n        },\\n        {\\n            \"name\": \"Thailand\",\\n            \"isoCode\": \"TH\"\\n        },\\n        {\\n            \"name\": \"The Democratic Republic of Congo\",\\n            \"isoCode\": \"CD\"\\n        },\\n        {\\n            \"name\": \"Timor-Leste\",\\n            \"isoCode\": \"TL\"\\n        },\\n        {\\n            \"name\": \"Togo\",\\n            \"isoCode\": \"TG\"\\n        },\\n        {\\n            \"name\": \"Tokelau\",\\n            \"isoCode\": \"TK\"\\n        },\\n        {\\n            \"name\": \"Tonga\",\\n            \"isoCode\": \"TO\"\\n        },\\n        {\\n            \"name\": \"Trinidad and Tobago\",\\n            \"isoCode\": \"TT\"\\n        },\\n        {\\n            \"name\": \"Tunisia\",\\n            \"isoCode\": \"TN\"\\n        },\\n        {\\n            \"name\": \"Turkey\",\\n            \"isoCode\": \"TR\"\\n        },\\n        {\\n            \"name\": \"Turkmenistan\",\\n            \"isoCode\": \"TM\"\\n        },\\n        {\\n            \"name\": \"Turks and Caicos Islands\",\\n            \"isoCode\": \"TC\"\\n        },\\n        {\\n            \"name\": \"Tuvalu\",\\n            \"isoCode\": \"TV\"\\n        },\\n        {\\n            \"name\": \"Uganda\",\\n            \"isoCode\": \"UG\"\\n        },\\n        {\\n            \"name\": \"Ukraine\",\\n            \"isoCode\": \"UA\"\\n        },\\n        {\\n            \"name\": \"United Arab Emirates\",\\n            \"isoCode\": \"AE\"\\n        },\\n        {\\n            \"name\": \"United Kingdom\",\\n            \"isoCode\": \"GB\"\\n        },\\n        {\\n            \"name\": \"United States\",\\n            \"isoCode\": \"US\"\\n        },\\n        {\\n            \"name\": \"United States Minor Outlying Islands\",\\n            \"isoCode\": \"UM\"\\n        },\\n        {\\n            \"name\": \"Uruguay\",\\n            \"isoCode\": \"UY\"\\n        },\\n        {\\n            \"name\": \"Uzbekistan\",\\n            \"isoCode\": \"UZ\"\\n        },\\n        {\\n            \"name\": \"Vanuatu\",\\n            \"isoCode\": \"VU\"\\n        },\\n        {\\n            \"name\": \"Venezuela\",\\n            \"isoCode\": \"VE\"\\n        },\\n        {\\n            \"name\": \"Vietnam\",\\n            \"isoCode\": \"VN\"\\n        },\\n        {\\n            \"name\": \"Virgin Islands, British\",\\n            \"isoCode\": \"VG\"\\n        },\\n        {\\n            \"name\": \"Virgin Islands, U.S.\",\\n            \"isoCode\": \"VI\"\\n        },\\n        {\\n            \"name\": \"Wallis and Futuna\",\\n            \"isoCode\": \"WF\"\\n        },\\n        {\\n            \"name\": \"Western Sahara\",\\n            \"isoCode\": \"EH\"\\n        },\\n        {\\n            \"name\": \"Yemen\",\\n            \"isoCode\": \"YE\"\\n        },\\n        {\\n            \"name\": \"Yugoslavia\",\\n            \"isoCode\": \"YU\"\\n        },\\n        {\\n            \"name\": \"Zambia\",\\n            \"isoCode\": \"ZM\"\\n        },\\n        {\\n            \"name\": \"Zimbabwe\",\\n            \"isoCode\": \"ZW\"\\n        }\\n    ]\\n}'"
      ]
     },
     "execution_count": 112,
     "metadata": {},
     "output_type": "execute_result"
    }
   ],
   "source": [
    "content = response.read()\n",
    "content"
   ]
  },
  {
   "cell_type": "code",
   "execution_count": 113,
   "metadata": {
    "scrolled": false
   },
   "outputs": [
    {
     "data": {
      "text/plain": [
       "{'countries': [{'name': 'Afghanistan', 'isoCode': 'AF'},\n",
       "  {'name': 'Albania', 'isoCode': 'AL'},\n",
       "  {'name': 'Algeria', 'isoCode': 'DZ'},\n",
       "  {'name': 'American Samoa', 'isoCode': 'AS'},\n",
       "  {'name': 'Andorra', 'isoCode': 'AD'},\n",
       "  {'name': 'Angola', 'isoCode': 'AO'},\n",
       "  {'name': 'Anguilla', 'isoCode': 'AI'},\n",
       "  {'name': 'Antarctica', 'isoCode': 'AQ'},\n",
       "  {'name': 'Antigua and Barbuda', 'isoCode': 'AG'},\n",
       "  {'name': 'Argentina', 'isoCode': 'AR'},\n",
       "  {'name': 'Armenia', 'isoCode': 'AM'},\n",
       "  {'name': 'Aruba', 'isoCode': 'AW'},\n",
       "  {'name': 'Australia', 'isoCode': 'AU'},\n",
       "  {'name': 'Austria', 'isoCode': 'AT'},\n",
       "  {'name': 'Azerbaijan', 'isoCode': 'AZ'},\n",
       "  {'name': 'Bahamas', 'isoCode': 'BS'},\n",
       "  {'name': 'Bahrain', 'isoCode': 'BH'},\n",
       "  {'name': 'Bangladesh', 'isoCode': 'BD'},\n",
       "  {'name': 'Barbados', 'isoCode': 'BB'},\n",
       "  {'name': 'Belarus', 'isoCode': 'BY'},\n",
       "  {'name': 'Belgium', 'isoCode': 'BE'},\n",
       "  {'name': 'Belize', 'isoCode': 'BZ'},\n",
       "  {'name': 'Benin', 'isoCode': 'BJ'},\n",
       "  {'name': 'Bermuda', 'isoCode': 'BM'},\n",
       "  {'name': 'Bhutan', 'isoCode': 'BT'},\n",
       "  {'name': 'Bolivia', 'isoCode': 'BO'},\n",
       "  {'name': 'Bosnia and Herzegovina', 'isoCode': 'BA'},\n",
       "  {'name': 'Botswana', 'isoCode': 'BW'},\n",
       "  {'name': 'Bouvet Island', 'isoCode': 'BV'},\n",
       "  {'name': 'Brazil', 'isoCode': 'BR'},\n",
       "  {'name': 'British Indian Ocean Territory', 'isoCode': 'IO'},\n",
       "  {'name': 'Brunei', 'isoCode': 'BN'},\n",
       "  {'name': 'Bulgaria', 'isoCode': 'BG'},\n",
       "  {'name': 'Burkina Faso', 'isoCode': 'BF'},\n",
       "  {'name': 'Burundi', 'isoCode': 'BI'},\n",
       "  {'name': 'Cambodia', 'isoCode': 'KH'},\n",
       "  {'name': 'Cameroon', 'isoCode': 'CM'},\n",
       "  {'name': 'Canada', 'isoCode': 'CA'},\n",
       "  {'name': 'Cape Verde', 'isoCode': 'CV'},\n",
       "  {'name': 'Cayman Islands', 'isoCode': 'KY'},\n",
       "  {'name': 'Central African Republic', 'isoCode': 'CF'},\n",
       "  {'name': 'Chad', 'isoCode': 'TD'},\n",
       "  {'name': 'Chile', 'isoCode': 'CL'},\n",
       "  {'name': 'China', 'isoCode': 'CN'},\n",
       "  {'name': 'Christmas Island', 'isoCode': 'CX'},\n",
       "  {'name': 'Cocos (Keeling) Islands', 'isoCode': 'CC'},\n",
       "  {'name': 'Colombia', 'isoCode': 'CO'},\n",
       "  {'name': 'Comoros', 'isoCode': 'KM'},\n",
       "  {'name': 'Congo', 'isoCode': 'CG'},\n",
       "  {'name': 'Cook Islands', 'isoCode': 'CK'},\n",
       "  {'name': 'Costa Rica', 'isoCode': 'CR'},\n",
       "  {'name': 'Croatia', 'isoCode': 'HR'},\n",
       "  {'name': 'Cuba', 'isoCode': 'CU'},\n",
       "  {'name': 'Cyprus', 'isoCode': 'CY'},\n",
       "  {'name': 'Czech Republic', 'isoCode': 'CZ'},\n",
       "  {'name': 'Denmark', 'isoCode': 'DK'},\n",
       "  {'name': 'Djibouti', 'isoCode': 'DJ'},\n",
       "  {'name': 'Dominica', 'isoCode': 'DM'},\n",
       "  {'name': 'Dominican Republic', 'isoCode': 'DO'},\n",
       "  {'name': 'East Timor', 'isoCode': 'TP'},\n",
       "  {'name': 'Ecuador', 'isoCode': 'EC'},\n",
       "  {'name': 'Egypt', 'isoCode': 'EG'},\n",
       "  {'name': 'El Salvador', 'isoCode': 'SV'},\n",
       "  {'name': 'Equatorial Guinea', 'isoCode': 'GQ'},\n",
       "  {'name': 'Eritrea', 'isoCode': 'ER'},\n",
       "  {'name': 'Estonia', 'isoCode': 'EE'},\n",
       "  {'name': 'Ethiopia', 'isoCode': 'ET'},\n",
       "  {'name': 'Falkland Islands', 'isoCode': 'FK'},\n",
       "  {'name': 'Faroe Islands', 'isoCode': 'FO'},\n",
       "  {'name': 'Fiji Islands', 'isoCode': 'FJ'},\n",
       "  {'name': 'Finland', 'isoCode': 'FI'},\n",
       "  {'name': 'France', 'isoCode': 'FR'},\n",
       "  {'name': 'French Guiana', 'isoCode': 'GF'},\n",
       "  {'name': 'French Polynesia', 'isoCode': 'PF'},\n",
       "  {'name': 'French Southern territories', 'isoCode': 'TF'},\n",
       "  {'name': 'Gabon', 'isoCode': 'GA'},\n",
       "  {'name': 'Gambia', 'isoCode': 'GM'},\n",
       "  {'name': 'Georgia', 'isoCode': 'GE'},\n",
       "  {'name': 'Germany', 'isoCode': 'DE'},\n",
       "  {'name': 'Ghana', 'isoCode': 'GH'},\n",
       "  {'name': 'Gibraltar', 'isoCode': 'GI'},\n",
       "  {'name': 'Greece', 'isoCode': 'GR'},\n",
       "  {'name': 'Greenland', 'isoCode': 'GL'},\n",
       "  {'name': 'Grenada', 'isoCode': 'GD'},\n",
       "  {'name': 'Guadeloupe', 'isoCode': 'GP'},\n",
       "  {'name': 'Guam', 'isoCode': 'GU'},\n",
       "  {'name': 'Guatemala', 'isoCode': 'GT'},\n",
       "  {'name': 'Guernsey', 'isoCode': 'GG'},\n",
       "  {'name': 'Guinea', 'isoCode': 'GN'},\n",
       "  {'name': 'Guinea-Bissau', 'isoCode': 'GW'},\n",
       "  {'name': 'Guyana', 'isoCode': 'GY'},\n",
       "  {'name': 'Haiti', 'isoCode': 'HT'},\n",
       "  {'name': 'Heard Island and McDonald Islands', 'isoCode': 'HM'},\n",
       "  {'name': 'Holy See (Vatican City State)', 'isoCode': 'VA'},\n",
       "  {'name': 'Honduras', 'isoCode': 'HN'},\n",
       "  {'name': 'Hong Kong', 'isoCode': 'HK'},\n",
       "  {'name': 'Hungary', 'isoCode': 'HU'},\n",
       "  {'name': 'Iceland', 'isoCode': 'IS'},\n",
       "  {'name': 'India', 'isoCode': 'IN'},\n",
       "  {'name': 'Indonesia', 'isoCode': 'ID'},\n",
       "  {'name': 'Iran', 'isoCode': 'IR'},\n",
       "  {'name': 'Iraq', 'isoCode': 'IQ'},\n",
       "  {'name': 'Ireland', 'isoCode': 'IE'},\n",
       "  {'name': 'Isle of Man', 'isoCode': 'IM'},\n",
       "  {'name': 'Israel', 'isoCode': 'IL'},\n",
       "  {'name': 'Italy', 'isoCode': 'IT'},\n",
       "  {'name': 'Ivory Coast', 'isoCode': 'CI'},\n",
       "  {'name': 'Jamaica', 'isoCode': 'JM'},\n",
       "  {'name': 'Japan', 'isoCode': 'JP'},\n",
       "  {'name': 'Jersey', 'isoCode': 'JE'},\n",
       "  {'name': 'Jordan', 'isoCode': 'JO'},\n",
       "  {'name': 'Kazakhstan', 'isoCode': 'KZ'},\n",
       "  {'name': 'Kenya', 'isoCode': 'KE'},\n",
       "  {'name': 'Kiribati', 'isoCode': 'KI'},\n",
       "  {'name': 'Kuwait', 'isoCode': 'KW'},\n",
       "  {'name': 'Kyrgyzstan', 'isoCode': 'KG'},\n",
       "  {'name': 'Laos', 'isoCode': 'LA'},\n",
       "  {'name': 'Latvia', 'isoCode': 'LV'},\n",
       "  {'name': 'Lebanon', 'isoCode': 'LB'},\n",
       "  {'name': 'Lesotho', 'isoCode': 'LS'},\n",
       "  {'name': 'Liberia', 'isoCode': 'LR'},\n",
       "  {'name': 'Libyan Arab Jamahiriya', 'isoCode': 'LY'},\n",
       "  {'name': 'Liechtenstein', 'isoCode': 'LI'},\n",
       "  {'name': 'Lithuania', 'isoCode': 'LT'},\n",
       "  {'name': 'Luxembourg', 'isoCode': 'LU'},\n",
       "  {'name': 'Macao', 'isoCode': 'MO'},\n",
       "  {'name': 'North Macedonia', 'isoCode': 'MK'},\n",
       "  {'name': 'Madagascar', 'isoCode': 'MG'},\n",
       "  {'name': 'Malawi', 'isoCode': 'MW'},\n",
       "  {'name': 'Malaysia', 'isoCode': 'MY'},\n",
       "  {'name': 'Maldives', 'isoCode': 'MV'},\n",
       "  {'name': 'Mali', 'isoCode': 'ML'},\n",
       "  {'name': 'Malta', 'isoCode': 'MT'},\n",
       "  {'name': 'Marshall Islands', 'isoCode': 'MH'},\n",
       "  {'name': 'Martinique', 'isoCode': 'MQ'},\n",
       "  {'name': 'Mauritania', 'isoCode': 'MR'},\n",
       "  {'name': 'Mauritius', 'isoCode': 'MU'},\n",
       "  {'name': 'Mayotte', 'isoCode': 'YT'},\n",
       "  {'name': 'Mexico', 'isoCode': 'MX'},\n",
       "  {'name': 'Micronesia, Federated States of', 'isoCode': 'FM'},\n",
       "  {'name': 'Moldova', 'isoCode': 'MD'},\n",
       "  {'name': 'Monaco', 'isoCode': 'MC'},\n",
       "  {'name': 'Mongolia', 'isoCode': 'MN'},\n",
       "  {'name': 'Montenegro', 'isoCode': 'ME'},\n",
       "  {'name': 'Montserrat', 'isoCode': 'MS'},\n",
       "  {'name': 'Morocco', 'isoCode': 'MA'},\n",
       "  {'name': 'Mozambique', 'isoCode': 'MZ'},\n",
       "  {'name': 'Myanmar', 'isoCode': 'MM'},\n",
       "  {'name': 'Namibia', 'isoCode': 'NA'},\n",
       "  {'name': 'Nauru', 'isoCode': 'NR'},\n",
       "  {'name': 'Nepal', 'isoCode': 'NP'},\n",
       "  {'name': 'Netherlands', 'isoCode': 'NL'},\n",
       "  {'name': 'Netherlands Antilles', 'isoCode': 'AN'},\n",
       "  {'name': 'New Caledonia', 'isoCode': 'NC'},\n",
       "  {'name': 'New Zealand', 'isoCode': 'NZ'},\n",
       "  {'name': 'Nicaragua', 'isoCode': 'NI'},\n",
       "  {'name': 'Niger', 'isoCode': 'NE'},\n",
       "  {'name': 'Nigeria', 'isoCode': 'NG'},\n",
       "  {'name': 'Niue', 'isoCode': 'NU'},\n",
       "  {'name': 'Norfolk Island', 'isoCode': 'NF'},\n",
       "  {'name': 'North Korea', 'isoCode': 'KP'},\n",
       "  {'name': 'Northern Ireland', 'isoCode': 'GB'},\n",
       "  {'name': 'Northern Mariana Islands', 'isoCode': 'MP'},\n",
       "  {'name': 'Norway', 'isoCode': 'NO'},\n",
       "  {'name': 'Oman', 'isoCode': 'OM'},\n",
       "  {'name': 'Pakistan', 'isoCode': 'PK'},\n",
       "  {'name': 'Palau', 'isoCode': 'PW'},\n",
       "  {'name': 'Palestine', 'isoCode': 'PS'},\n",
       "  {'name': 'Panama', 'isoCode': 'PA'},\n",
       "  {'name': 'Papua New Guinea', 'isoCode': 'PG'},\n",
       "  {'name': 'Paraguay', 'isoCode': 'PY'},\n",
       "  {'name': 'Peru', 'isoCode': 'PE'},\n",
       "  {'name': 'Philippines', 'isoCode': 'PH'},\n",
       "  {'name': 'Pitcairn', 'isoCode': 'PN'},\n",
       "  {'name': 'Poland', 'isoCode': 'PL'},\n",
       "  {'name': 'Portugal', 'isoCode': 'PT'},\n",
       "  {'name': 'Puerto Rico', 'isoCode': 'PR'},\n",
       "  {'name': 'Qatar', 'isoCode': 'QA'},\n",
       "  {'name': 'Reunion', 'isoCode': 'RE'},\n",
       "  {'name': 'Romania', 'isoCode': 'RO'},\n",
       "  {'name': 'Russian Federation', 'isoCode': 'RU'},\n",
       "  {'name': 'Rwanda', 'isoCode': 'RW'},\n",
       "  {'name': 'Saint Helena', 'isoCode': 'SH'},\n",
       "  {'name': 'Saint Kitts and Nevis', 'isoCode': 'KN'},\n",
       "  {'name': 'Saint Lucia', 'isoCode': 'LC'},\n",
       "  {'name': 'Saint Pierre and Miquelon', 'isoCode': 'PM'},\n",
       "  {'name': 'Saint Vincent and the Grenadines', 'isoCode': 'VC'},\n",
       "  {'name': 'Samoa', 'isoCode': 'WS'},\n",
       "  {'name': 'San Marino', 'isoCode': 'SM'},\n",
       "  {'name': 'Sao Tome and Principe', 'isoCode': 'ST'},\n",
       "  {'name': 'Saudi Arabia', 'isoCode': 'SA'},\n",
       "  {'name': 'Senegal', 'isoCode': 'SN'},\n",
       "  {'name': 'Serbia', 'isoCode': 'RS'},\n",
       "  {'name': 'Seychelles', 'isoCode': 'SC'},\n",
       "  {'name': 'Sierra Leone', 'isoCode': 'SL'},\n",
       "  {'name': 'Singapore', 'isoCode': 'SG'},\n",
       "  {'name': 'Slovakia', 'isoCode': 'SK'},\n",
       "  {'name': 'Slovenia', 'isoCode': 'SI'},\n",
       "  {'name': 'Solomon Islands', 'isoCode': 'SB'},\n",
       "  {'name': 'Somalia', 'isoCode': 'SO'},\n",
       "  {'name': 'South Africa', 'isoCode': 'ZA'},\n",
       "  {'name': 'South Georgia and the South Sandwich Islands', 'isoCode': 'GS'},\n",
       "  {'name': 'South Korea', 'isoCode': 'KR'},\n",
       "  {'name': 'South Sudan', 'isoCode': 'SS'},\n",
       "  {'name': 'Spain', 'isoCode': 'ES'},\n",
       "  {'name': 'Sri Lanka', 'isoCode': 'LK'},\n",
       "  {'name': 'Sudan', 'isoCode': 'SD'},\n",
       "  {'name': 'Suriname', 'isoCode': 'SR'},\n",
       "  {'name': 'Svalbard and Jan Mayen', 'isoCode': 'SJ'},\n",
       "  {'name': 'Swaziland', 'isoCode': 'SZ'},\n",
       "  {'name': 'Sweden', 'isoCode': 'SE'},\n",
       "  {'name': 'Switzerland', 'isoCode': 'CH'},\n",
       "  {'name': 'Syria', 'isoCode': 'SY'},\n",
       "  {'name': 'Tajikistan', 'isoCode': 'TJ'},\n",
       "  {'name': 'Tanzania', 'isoCode': 'TZ'},\n",
       "  {'name': 'Thailand', 'isoCode': 'TH'},\n",
       "  {'name': 'The Democratic Republic of Congo', 'isoCode': 'CD'},\n",
       "  {'name': 'Timor-Leste', 'isoCode': 'TL'},\n",
       "  {'name': 'Togo', 'isoCode': 'TG'},\n",
       "  {'name': 'Tokelau', 'isoCode': 'TK'},\n",
       "  {'name': 'Tonga', 'isoCode': 'TO'},\n",
       "  {'name': 'Trinidad and Tobago', 'isoCode': 'TT'},\n",
       "  {'name': 'Tunisia', 'isoCode': 'TN'},\n",
       "  {'name': 'Turkey', 'isoCode': 'TR'},\n",
       "  {'name': 'Turkmenistan', 'isoCode': 'TM'},\n",
       "  {'name': 'Turks and Caicos Islands', 'isoCode': 'TC'},\n",
       "  {'name': 'Tuvalu', 'isoCode': 'TV'},\n",
       "  {'name': 'Uganda', 'isoCode': 'UG'},\n",
       "  {'name': 'Ukraine', 'isoCode': 'UA'},\n",
       "  {'name': 'United Arab Emirates', 'isoCode': 'AE'},\n",
       "  {'name': 'United Kingdom', 'isoCode': 'GB'},\n",
       "  {'name': 'United States', 'isoCode': 'US'},\n",
       "  {'name': 'United States Minor Outlying Islands', 'isoCode': 'UM'},\n",
       "  {'name': 'Uruguay', 'isoCode': 'UY'},\n",
       "  {'name': 'Uzbekistan', 'isoCode': 'UZ'},\n",
       "  {'name': 'Vanuatu', 'isoCode': 'VU'},\n",
       "  {'name': 'Venezuela', 'isoCode': 'VE'},\n",
       "  {'name': 'Vietnam', 'isoCode': 'VN'},\n",
       "  {'name': 'Virgin Islands, British', 'isoCode': 'VG'},\n",
       "  {'name': 'Virgin Islands, U.S.', 'isoCode': 'VI'},\n",
       "  {'name': 'Wallis and Futuna', 'isoCode': 'WF'},\n",
       "  {'name': 'Western Sahara', 'isoCode': 'EH'},\n",
       "  {'name': 'Yemen', 'isoCode': 'YE'},\n",
       "  {'name': 'Yugoslavia', 'isoCode': 'YU'},\n",
       "  {'name': 'Zambia', 'isoCode': 'ZM'},\n",
       "  {'name': 'Zimbabwe', 'isoCode': 'ZW'}]}"
      ]
     },
     "execution_count": 113,
     "metadata": {},
     "output_type": "execute_result"
    }
   ],
   "source": [
    "json.loads(content)"
   ]
  },
  {
   "cell_type": "code",
   "execution_count": 114,
   "metadata": {
    "scrolled": false
   },
   "outputs": [
    {
     "name": "stdout",
     "output_type": "stream",
     "text": [
      "[{'isoCode': 'AF', 'name': 'Afghanistan'},\n",
      " {'isoCode': 'AL', 'name': 'Albania'},\n",
      " {'isoCode': 'DZ', 'name': 'Algeria'},\n",
      " {'isoCode': 'AS', 'name': 'American Samoa'},\n",
      " {'isoCode': 'AD', 'name': 'Andorra'},\n",
      " {'isoCode': 'AO', 'name': 'Angola'},\n",
      " {'isoCode': 'AI', 'name': 'Anguilla'},\n",
      " {'isoCode': 'AQ', 'name': 'Antarctica'},\n",
      " {'isoCode': 'AG', 'name': 'Antigua and Barbuda'},\n",
      " {'isoCode': 'AR', 'name': 'Argentina'},\n",
      " {'isoCode': 'AM', 'name': 'Armenia'},\n",
      " {'isoCode': 'AW', 'name': 'Aruba'},\n",
      " {'isoCode': 'AU', 'name': 'Australia'},\n",
      " {'isoCode': 'AT', 'name': 'Austria'},\n",
      " {'isoCode': 'AZ', 'name': 'Azerbaijan'},\n",
      " {'isoCode': 'BS', 'name': 'Bahamas'},\n",
      " {'isoCode': 'BH', 'name': 'Bahrain'},\n",
      " {'isoCode': 'BD', 'name': 'Bangladesh'},\n",
      " {'isoCode': 'BB', 'name': 'Barbados'},\n",
      " {'isoCode': 'BY', 'name': 'Belarus'},\n",
      " {'isoCode': 'BE', 'name': 'Belgium'},\n",
      " {'isoCode': 'BZ', 'name': 'Belize'},\n",
      " {'isoCode': 'BJ', 'name': 'Benin'},\n",
      " {'isoCode': 'BM', 'name': 'Bermuda'},\n",
      " {'isoCode': 'BT', 'name': 'Bhutan'},\n",
      " {'isoCode': 'BO', 'name': 'Bolivia'},\n",
      " {'isoCode': 'BA', 'name': 'Bosnia and Herzegovina'},\n",
      " {'isoCode': 'BW', 'name': 'Botswana'},\n",
      " {'isoCode': 'BV', 'name': 'Bouvet Island'},\n",
      " {'isoCode': 'BR', 'name': 'Brazil'},\n",
      " {'isoCode': 'IO', 'name': 'British Indian Ocean Territory'},\n",
      " {'isoCode': 'BN', 'name': 'Brunei'},\n",
      " {'isoCode': 'BG', 'name': 'Bulgaria'},\n",
      " {'isoCode': 'BF', 'name': 'Burkina Faso'},\n",
      " {'isoCode': 'BI', 'name': 'Burundi'},\n",
      " {'isoCode': 'KH', 'name': 'Cambodia'},\n",
      " {'isoCode': 'CM', 'name': 'Cameroon'},\n",
      " {'isoCode': 'CA', 'name': 'Canada'},\n",
      " {'isoCode': 'CV', 'name': 'Cape Verde'},\n",
      " {'isoCode': 'KY', 'name': 'Cayman Islands'},\n",
      " {'isoCode': 'CF', 'name': 'Central African Republic'},\n",
      " {'isoCode': 'TD', 'name': 'Chad'},\n",
      " {'isoCode': 'CL', 'name': 'Chile'},\n",
      " {'isoCode': 'CN', 'name': 'China'},\n",
      " {'isoCode': 'CX', 'name': 'Christmas Island'},\n",
      " {'isoCode': 'CC', 'name': 'Cocos (Keeling) Islands'},\n",
      " {'isoCode': 'CO', 'name': 'Colombia'},\n",
      " {'isoCode': 'KM', 'name': 'Comoros'},\n",
      " {'isoCode': 'CG', 'name': 'Congo'},\n",
      " {'isoCode': 'CK', 'name': 'Cook Islands'},\n",
      " {'isoCode': 'CR', 'name': 'Costa Rica'},\n",
      " {'isoCode': 'HR', 'name': 'Croatia'},\n",
      " {'isoCode': 'CU', 'name': 'Cuba'},\n",
      " {'isoCode': 'CY', 'name': 'Cyprus'},\n",
      " {'isoCode': 'CZ', 'name': 'Czech Republic'},\n",
      " {'isoCode': 'DK', 'name': 'Denmark'},\n",
      " {'isoCode': 'DJ', 'name': 'Djibouti'},\n",
      " {'isoCode': 'DM', 'name': 'Dominica'},\n",
      " {'isoCode': 'DO', 'name': 'Dominican Republic'},\n",
      " {'isoCode': 'TP', 'name': 'East Timor'},\n",
      " {'isoCode': 'EC', 'name': 'Ecuador'},\n",
      " {'isoCode': 'EG', 'name': 'Egypt'},\n",
      " {'isoCode': 'SV', 'name': 'El Salvador'},\n",
      " {'isoCode': 'GQ', 'name': 'Equatorial Guinea'},\n",
      " {'isoCode': 'ER', 'name': 'Eritrea'},\n",
      " {'isoCode': 'EE', 'name': 'Estonia'},\n",
      " {'isoCode': 'ET', 'name': 'Ethiopia'},\n",
      " {'isoCode': 'FK', 'name': 'Falkland Islands'},\n",
      " {'isoCode': 'FO', 'name': 'Faroe Islands'},\n",
      " {'isoCode': 'FJ', 'name': 'Fiji Islands'},\n",
      " {'isoCode': 'FI', 'name': 'Finland'},\n",
      " {'isoCode': 'FR', 'name': 'France'},\n",
      " {'isoCode': 'GF', 'name': 'French Guiana'},\n",
      " {'isoCode': 'PF', 'name': 'French Polynesia'},\n",
      " {'isoCode': 'TF', 'name': 'French Southern territories'},\n",
      " {'isoCode': 'GA', 'name': 'Gabon'},\n",
      " {'isoCode': 'GM', 'name': 'Gambia'},\n",
      " {'isoCode': 'GE', 'name': 'Georgia'},\n",
      " {'isoCode': 'DE', 'name': 'Germany'},\n",
      " {'isoCode': 'GH', 'name': 'Ghana'},\n",
      " {'isoCode': 'GI', 'name': 'Gibraltar'},\n",
      " {'isoCode': 'GR', 'name': 'Greece'},\n",
      " {'isoCode': 'GL', 'name': 'Greenland'},\n",
      " {'isoCode': 'GD', 'name': 'Grenada'},\n",
      " {'isoCode': 'GP', 'name': 'Guadeloupe'},\n",
      " {'isoCode': 'GU', 'name': 'Guam'},\n",
      " {'isoCode': 'GT', 'name': 'Guatemala'},\n",
      " {'isoCode': 'GG', 'name': 'Guernsey'},\n",
      " {'isoCode': 'GN', 'name': 'Guinea'},\n",
      " {'isoCode': 'GW', 'name': 'Guinea-Bissau'},\n",
      " {'isoCode': 'GY', 'name': 'Guyana'},\n",
      " {'isoCode': 'HT', 'name': 'Haiti'},\n",
      " {'isoCode': 'HM', 'name': 'Heard Island and McDonald Islands'},\n",
      " {'isoCode': 'VA', 'name': 'Holy See (Vatican City State)'},\n",
      " {'isoCode': 'HN', 'name': 'Honduras'},\n",
      " {'isoCode': 'HK', 'name': 'Hong Kong'},\n",
      " {'isoCode': 'HU', 'name': 'Hungary'},\n",
      " {'isoCode': 'IS', 'name': 'Iceland'},\n",
      " {'isoCode': 'IN', 'name': 'India'},\n",
      " {'isoCode': 'ID', 'name': 'Indonesia'},\n",
      " {'isoCode': 'IR', 'name': 'Iran'},\n",
      " {'isoCode': 'IQ', 'name': 'Iraq'},\n",
      " {'isoCode': 'IE', 'name': 'Ireland'},\n",
      " {'isoCode': 'IM', 'name': 'Isle of Man'},\n",
      " {'isoCode': 'IL', 'name': 'Israel'},\n",
      " {'isoCode': 'IT', 'name': 'Italy'},\n",
      " {'isoCode': 'CI', 'name': 'Ivory Coast'},\n",
      " {'isoCode': 'JM', 'name': 'Jamaica'},\n",
      " {'isoCode': 'JP', 'name': 'Japan'},\n",
      " {'isoCode': 'JE', 'name': 'Jersey'},\n",
      " {'isoCode': 'JO', 'name': 'Jordan'},\n",
      " {'isoCode': 'KZ', 'name': 'Kazakhstan'},\n",
      " {'isoCode': 'KE', 'name': 'Kenya'},\n",
      " {'isoCode': 'KI', 'name': 'Kiribati'},\n",
      " {'isoCode': 'KW', 'name': 'Kuwait'},\n",
      " {'isoCode': 'KG', 'name': 'Kyrgyzstan'},\n",
      " {'isoCode': 'LA', 'name': 'Laos'},\n",
      " {'isoCode': 'LV', 'name': 'Latvia'},\n",
      " {'isoCode': 'LB', 'name': 'Lebanon'},\n",
      " {'isoCode': 'LS', 'name': 'Lesotho'},\n",
      " {'isoCode': 'LR', 'name': 'Liberia'},\n",
      " {'isoCode': 'LY', 'name': 'Libyan Arab Jamahiriya'},\n",
      " {'isoCode': 'LI', 'name': 'Liechtenstein'},\n",
      " {'isoCode': 'LT', 'name': 'Lithuania'},\n",
      " {'isoCode': 'LU', 'name': 'Luxembourg'},\n",
      " {'isoCode': 'MO', 'name': 'Macao'},\n",
      " {'isoCode': 'MK', 'name': 'North Macedonia'},\n",
      " {'isoCode': 'MG', 'name': 'Madagascar'},\n",
      " {'isoCode': 'MW', 'name': 'Malawi'},\n",
      " {'isoCode': 'MY', 'name': 'Malaysia'},\n",
      " {'isoCode': 'MV', 'name': 'Maldives'},\n",
      " {'isoCode': 'ML', 'name': 'Mali'},\n",
      " {'isoCode': 'MT', 'name': 'Malta'},\n",
      " {'isoCode': 'MH', 'name': 'Marshall Islands'},\n",
      " {'isoCode': 'MQ', 'name': 'Martinique'},\n",
      " {'isoCode': 'MR', 'name': 'Mauritania'},\n",
      " {'isoCode': 'MU', 'name': 'Mauritius'},\n",
      " {'isoCode': 'YT', 'name': 'Mayotte'},\n",
      " {'isoCode': 'MX', 'name': 'Mexico'},\n",
      " {'isoCode': 'FM', 'name': 'Micronesia, Federated States of'},\n",
      " {'isoCode': 'MD', 'name': 'Moldova'},\n",
      " {'isoCode': 'MC', 'name': 'Monaco'},\n",
      " {'isoCode': 'MN', 'name': 'Mongolia'},\n",
      " {'isoCode': 'ME', 'name': 'Montenegro'},\n",
      " {'isoCode': 'MS', 'name': 'Montserrat'},\n",
      " {'isoCode': 'MA', 'name': 'Morocco'},\n",
      " {'isoCode': 'MZ', 'name': 'Mozambique'},\n",
      " {'isoCode': 'MM', 'name': 'Myanmar'},\n",
      " {'isoCode': 'NA', 'name': 'Namibia'},\n",
      " {'isoCode': 'NR', 'name': 'Nauru'},\n",
      " {'isoCode': 'NP', 'name': 'Nepal'},\n",
      " {'isoCode': 'NL', 'name': 'Netherlands'},\n",
      " {'isoCode': 'AN', 'name': 'Netherlands Antilles'},\n",
      " {'isoCode': 'NC', 'name': 'New Caledonia'},\n",
      " {'isoCode': 'NZ', 'name': 'New Zealand'},\n",
      " {'isoCode': 'NI', 'name': 'Nicaragua'},\n",
      " {'isoCode': 'NE', 'name': 'Niger'},\n",
      " {'isoCode': 'NG', 'name': 'Nigeria'},\n",
      " {'isoCode': 'NU', 'name': 'Niue'},\n",
      " {'isoCode': 'NF', 'name': 'Norfolk Island'},\n",
      " {'isoCode': 'KP', 'name': 'North Korea'},\n",
      " {'isoCode': 'GB', 'name': 'Northern Ireland'},\n",
      " {'isoCode': 'MP', 'name': 'Northern Mariana Islands'},\n",
      " {'isoCode': 'NO', 'name': 'Norway'},\n",
      " {'isoCode': 'OM', 'name': 'Oman'},\n",
      " {'isoCode': 'PK', 'name': 'Pakistan'},\n",
      " {'isoCode': 'PW', 'name': 'Palau'},\n",
      " {'isoCode': 'PS', 'name': 'Palestine'},\n",
      " {'isoCode': 'PA', 'name': 'Panama'},\n",
      " {'isoCode': 'PG', 'name': 'Papua New Guinea'},\n",
      " {'isoCode': 'PY', 'name': 'Paraguay'},\n",
      " {'isoCode': 'PE', 'name': 'Peru'},\n",
      " {'isoCode': 'PH', 'name': 'Philippines'},\n",
      " {'isoCode': 'PN', 'name': 'Pitcairn'},\n",
      " {'isoCode': 'PL', 'name': 'Poland'},\n",
      " {'isoCode': 'PT', 'name': 'Portugal'},\n",
      " {'isoCode': 'PR', 'name': 'Puerto Rico'},\n",
      " {'isoCode': 'QA', 'name': 'Qatar'},\n",
      " {'isoCode': 'RE', 'name': 'Reunion'},\n",
      " {'isoCode': 'RO', 'name': 'Romania'},\n",
      " {'isoCode': 'RU', 'name': 'Russian Federation'},\n",
      " {'isoCode': 'RW', 'name': 'Rwanda'},\n",
      " {'isoCode': 'SH', 'name': 'Saint Helena'},\n",
      " {'isoCode': 'KN', 'name': 'Saint Kitts and Nevis'},\n",
      " {'isoCode': 'LC', 'name': 'Saint Lucia'},\n",
      " {'isoCode': 'PM', 'name': 'Saint Pierre and Miquelon'},\n",
      " {'isoCode': 'VC', 'name': 'Saint Vincent and the Grenadines'},\n",
      " {'isoCode': 'WS', 'name': 'Samoa'},\n",
      " {'isoCode': 'SM', 'name': 'San Marino'},\n",
      " {'isoCode': 'ST', 'name': 'Sao Tome and Principe'},\n",
      " {'isoCode': 'SA', 'name': 'Saudi Arabia'},\n",
      " {'isoCode': 'SN', 'name': 'Senegal'},\n",
      " {'isoCode': 'RS', 'name': 'Serbia'},\n",
      " {'isoCode': 'SC', 'name': 'Seychelles'},\n",
      " {'isoCode': 'SL', 'name': 'Sierra Leone'},\n",
      " {'isoCode': 'SG', 'name': 'Singapore'},\n",
      " {'isoCode': 'SK', 'name': 'Slovakia'},\n",
      " {'isoCode': 'SI', 'name': 'Slovenia'},\n",
      " {'isoCode': 'SB', 'name': 'Solomon Islands'},\n",
      " {'isoCode': 'SO', 'name': 'Somalia'},\n",
      " {'isoCode': 'ZA', 'name': 'South Africa'},\n",
      " {'isoCode': 'GS', 'name': 'South Georgia and the South Sandwich Islands'},\n",
      " {'isoCode': 'KR', 'name': 'South Korea'},\n",
      " {'isoCode': 'SS', 'name': 'South Sudan'},\n",
      " {'isoCode': 'ES', 'name': 'Spain'},\n",
      " {'isoCode': 'LK', 'name': 'Sri Lanka'},\n",
      " {'isoCode': 'SD', 'name': 'Sudan'},\n",
      " {'isoCode': 'SR', 'name': 'Suriname'},\n",
      " {'isoCode': 'SJ', 'name': 'Svalbard and Jan Mayen'},\n",
      " {'isoCode': 'SZ', 'name': 'Swaziland'},\n",
      " {'isoCode': 'SE', 'name': 'Sweden'},\n",
      " {'isoCode': 'CH', 'name': 'Switzerland'},\n",
      " {'isoCode': 'SY', 'name': 'Syria'},\n",
      " {'isoCode': 'TJ', 'name': 'Tajikistan'},\n",
      " {'isoCode': 'TZ', 'name': 'Tanzania'},\n",
      " {'isoCode': 'TH', 'name': 'Thailand'},\n",
      " {'isoCode': 'CD', 'name': 'The Democratic Republic of Congo'},\n",
      " {'isoCode': 'TL', 'name': 'Timor-Leste'},\n",
      " {'isoCode': 'TG', 'name': 'Togo'},\n",
      " {'isoCode': 'TK', 'name': 'Tokelau'},\n",
      " {'isoCode': 'TO', 'name': 'Tonga'},\n",
      " {'isoCode': 'TT', 'name': 'Trinidad and Tobago'},\n",
      " {'isoCode': 'TN', 'name': 'Tunisia'},\n",
      " {'isoCode': 'TR', 'name': 'Turkey'},\n",
      " {'isoCode': 'TM', 'name': 'Turkmenistan'},\n",
      " {'isoCode': 'TC', 'name': 'Turks and Caicos Islands'},\n",
      " {'isoCode': 'TV', 'name': 'Tuvalu'},\n",
      " {'isoCode': 'UG', 'name': 'Uganda'},\n",
      " {'isoCode': 'UA', 'name': 'Ukraine'},\n",
      " {'isoCode': 'AE', 'name': 'United Arab Emirates'},\n",
      " {'isoCode': 'GB', 'name': 'United Kingdom'},\n",
      " {'isoCode': 'US', 'name': 'United States'},\n",
      " {'isoCode': 'UM', 'name': 'United States Minor Outlying Islands'},\n",
      " {'isoCode': 'UY', 'name': 'Uruguay'},\n",
      " {'isoCode': 'UZ', 'name': 'Uzbekistan'},\n",
      " {'isoCode': 'VU', 'name': 'Vanuatu'},\n",
      " {'isoCode': 'VE', 'name': 'Venezuela'},\n",
      " {'isoCode': 'VN', 'name': 'Vietnam'},\n",
      " {'isoCode': 'VG', 'name': 'Virgin Islands, British'},\n",
      " {'isoCode': 'VI', 'name': 'Virgin Islands, U.S.'},\n",
      " {'isoCode': 'WF', 'name': 'Wallis and Futuna'},\n",
      " {'isoCode': 'EH', 'name': 'Western Sahara'},\n",
      " {'isoCode': 'YE', 'name': 'Yemen'},\n",
      " {'isoCode': 'YU', 'name': 'Yugoslavia'},\n",
      " {'isoCode': 'ZM', 'name': 'Zambia'},\n",
      " {'isoCode': 'ZW', 'name': 'Zimbabwe'}]\n"
     ]
    }
   ],
   "source": [
    "pprint(json.loads(content)[\"countries\"], width=100)"
   ]
  },
  {
   "cell_type": "code",
   "execution_count": 115,
   "metadata": {},
   "outputs": [
    {
     "name": "stdout",
     "output_type": "stream",
     "text": [
      "f5c7bb6e-f113-4162-9705-cf529e864139\n"
     ]
    }
   ],
   "source": [
    "import uuid\n",
    "\n",
    "print(uuid.uuid4())"
   ]
  },
  {
   "cell_type": "markdown",
   "metadata": {},
   "source": [
    "`python -c \"from uuid import uuid4;print(uuid4())\"`"
   ]
  },
  {
   "cell_type": "markdown",
   "metadata": {},
   "source": [
    "Other problems the Standard Library solves\n",
    "\n",
    "- CSV\n",
    "- XML\n",
    "- threading\n",
    "- multiprocessing\n",
    "- zlib / gzip / tar\n",
    "- sqlite3\n",
    "- serilization (Pickle)\n",
    "- read / write files, work with paths\n",
    "- temp files\n",
    "- decimal.Decimal for high precision fractions\n",
    "- data structures like heaps, queues...\n",
    "- diff and compare files\n",
    "- pack and unpack binary data\n",
    "- interface with C types\n",
    "- logging\n",
    "- work with E-Mail and Mimetypes\n",
    "- Protocols:\n",
    " * HTTP\n",
    " * FTP\n",
    " * SMTP\n",
    " * IMAP / POP3\n",
    " * TELNET\n",
    "- Internationalization\n",
    "- Environment variables\n",
    "- HTTP Server"
   ]
  },
  {
   "cell_type": "markdown",
   "metadata": {},
   "source": [
    " `python -m \"http.server\"`"
   ]
  },
  {
   "cell_type": "markdown",
   "metadata": {},
   "source": [
    "## To sum it up\n",
    "\n",
    "- recap introductory example\n",
    "- things that should be clear now\n",
    " * Python's type system\n",
    " * variables and operators\n",
    " * control structures\n",
    " * module, imports\n",
    " * the standard library\n",
    "- things that will be clearer next time\n",
    " * data structures\n",
    " * comprehensions\n",
    " * functions\n",
    "\n",
    "# Questions?"
   ]
  }
 ],
 "metadata": {
  "kernelspec": {
   "display_name": "Python 3",
   "language": "python",
   "name": "python3"
  },
  "language_info": {
   "codemirror_mode": {
    "name": "ipython",
    "version": 3
   },
   "file_extension": ".py",
   "mimetype": "text/x-python",
   "name": "python",
   "nbconvert_exporter": "python",
   "pygments_lexer": "ipython3",
   "version": "3.8.6"
  }
 },
 "nbformat": 4,
 "nbformat_minor": 4
}
